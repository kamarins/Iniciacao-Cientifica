{
 "cells": [
  {
   "cell_type": "code",
   "execution_count": 2,
   "metadata": {},
   "outputs": [
    {
     "name": "stdout",
     "output_type": "stream",
     "text": [
      "Libraries Loaded!\n"
     ]
    }
   ],
   "source": [
    "import warnings\n",
    "warnings.simplefilter(action = 'ignore', category = FutureWarning)\n",
    "\n",
    "import numpy as np\n",
    "import pandas as pd\n",
    "pd.set_option('precision', 3)\n",
    "pd.options.mode.chained_assignment = None\n",
    "\n",
    "import matplotlib.pyplot as plt\n",
    "%config InlineBackend.figure_format = 'retina'\n",
    "\n",
    "import seaborn as sns\n",
    "sns.set_style('darkgrid')\n",
    "\n",
    "from scipy.stats import chi2_contingency\n",
    "from collections import Counter\n",
    "from imblearn.over_sampling import SMOTE\n",
    "\n",
    "from sklearn.preprocessing import StandardScaler, MinMaxScaler, RobustScaler, LabelEncoder\n",
    "from sklearn.model_selection import train_test_split, GridSearchCV\n",
    "from sklearn.model_selection import cross_val_score, cross_val_predict, GridSearchCV, learning_curve\n",
    "from sklearn.metrics import accuracy_score, recall_score, precision_score, auc, roc_auc_score, roc_curve\n",
    "from sklearn.metrics import confusion_matrix, plot_confusion_matrix\n",
    "\n",
    "from sklearn.linear_model import LogisticRegression\n",
    "from sklearn.svm import SVC\n",
    "from sklearn.ensemble import RandomForestClassifier, GradientBoostingClassifier, VotingClassifier\n",
    "\n",
    "\n",
    "label_size = 17\n",
    "\n",
    "plt.rcParams['axes.labelsize'] = label_size\n",
    "plt.rcParams['xtick.labelsize'] = label_size - 2\n",
    "plt.rcParams['ytick.labelsize'] = label_size - 2\n",
    "plt.rcParams['axes.titlesize'] = label_size\n",
    "plt.rcParams['legend.fontsize'] = label_size - 2\n",
    "\n",
    "random_state = 42\n",
    "scoring_metric = 'recall'\n",
    "comparison_dict = {}\n",
    "comparison_test_dict = {}\n",
    "\n",
    "print ('Libraries Loaded!')"
   ]
  },
  {
   "cell_type": "code",
   "execution_count": 3,
   "metadata": {},
   "outputs": [
    {
     "name": "stdout",
     "output_type": "stream",
     "text": [
      "Functions defined!\n"
     ]
    }
   ],
   "source": [
    "def plot_continuous(feature):\n",
    "    \n",
    "    fig, (ax1, ax2) = plt.subplots(1, 2, figsize = (12, 4))\n",
    "    \n",
    "    sns.distplot(df_remained[feature], bins = 15, color = colors[0], label = 'Remained', hist_kws = dict(edgecolor = 'firebrick', linewidth = 1), ax = ax1, kde = False)\n",
    "    sns.distplot(df_churned[feature], bins = 15, color = colors[1], label = 'Churned', hist_kws = dict(edgecolor = 'firebrick', linewidth = 1), ax = ax1, kde = False)\n",
    "    ax1.set_title('{} distribution - Histogram'.format(feature))\n",
    "    ax1.set_ylabel('Counts')\n",
    "    ax1.legend()\n",
    "\n",
    "    sns.boxplot(x = 'Exited', y = feature, data = train_df, palette = colors, ax = ax2)\n",
    "    ax2.set_title('{} distribution - Box plot'.format(feature))\n",
    "    ax2.set_xlabel('Status')\n",
    "    ax2.set_xticklabels(['Remained', 'Churned'])\n",
    "\n",
    "    plt.tight_layout();\n",
    "    \n",
    "    \n",
    "def plot_categorical(feature):\n",
    "    \n",
    "    fig, (ax1, ax2) = plt.subplots(1, 2, figsize = (12, 4))\n",
    "    sns.countplot(x = feature, hue = 'Exited', data = train_df, palette = colors, ax = ax1)\n",
    "    ax1.set_ylabel('Counts')\n",
    "    ax1.legend(labels = ['Retained', 'Churned'])\n",
    "    \n",
    "    sns.barplot(x = feature, y = 'Exited', data = train_df, palette = colors2 , ci = None, ax = ax2)\n",
    "    ax2.set_ylabel('Churn rate')\n",
    "    \n",
    "    if (feature == 'HasCrCard' or feature == 'IsActiveMember'):\n",
    "        ax1.set_xticklabels(['No', 'Yes'])\n",
    "        ax2.set_xticklabels(['No', 'Yes'])\n",
    "    \n",
    "    plt.tight_layout();\n",
    "    \n",
    "def plot_learning_curve(estimator, estimator_name, X, y, cv = None, train_sizes = np.linspace(0.1, 1.0, 5)):\n",
    "                 \n",
    "    train_sizes, train_scores, test_scores = learning_curve(estimator, X, y, cv = cv, n_jobs = -1, \n",
    "                                                            train_sizes = train_sizes, scoring = 'accuracy')\n",
    "    \n",
    "    train_scores_mean, train_scores_std = np.mean(train_scores, axis = 1), np.std(train_scores, axis = 1)\n",
    "    test_scores_mean, test_scores_std = np.mean(test_scores, axis = 1), np.std(test_scores, axis = 1)\n",
    "            \n",
    "    plt.fill_between(train_sizes, train_scores_mean - train_scores_std, train_scores_mean + train_scores_std, alpha = 0.1, color = 'dodgerblue')\n",
    "    plt.fill_between(train_sizes, test_scores_mean - test_scores_std, test_scores_mean + test_scores_std, alpha = 0.1, color = 'darkorange')\n",
    "    \n",
    "    plt.plot(train_sizes, train_scores_mean, color = 'dodgerblue', marker = 'o', linestyle = '-', label = 'Training Score')\n",
    "    plt.plot(train_sizes, test_scores_mean, color = 'darkorange', marker = 'o', linestyle = '-', label = 'Cross-validation Score')\n",
    "    plt.title(estimator_name)\n",
    "    plt.xlabel('Training Examples')\n",
    "    plt.ylabel('Accuracy Score')\n",
    "    plt.legend(loc = 'best')\n",
    "            \n",
    "    plt.tight_layout();\n",
    "    \n",
    "def plot_conf_mx(cm, classifier_name, ax):\n",
    "    sns.heatmap(cm, annot = True, cmap = 'Blues', annot_kws = {'fontsize': 24}, ax = ax)\n",
    "    ax.set_title('{}'.format(classifier_name))\n",
    "    ax.set_xlabel('Predicted Label')\n",
    "    ax.set_xticks([0.5, 1.5])\n",
    "    ax.set_xticklabels(['Remained', 'Churned'])\n",
    "    ax.set_ylabel('True Label') \n",
    "    ax.set_yticks([0.25, 1.25])\n",
    "    ax.set_yticklabels(['Remained', 'Churned']);\n",
    "    \n",
    "def plot_feature_imp(classifier, classifier_name, color, ax):\n",
    "\n",
    "    importances = pd.DataFrame({'Feature': X_train.columns,\n",
    "                                'Importance': np.round(classifier.best_estimator_.feature_importances_, 3)})\n",
    "\n",
    "    importances = importances.sort_values('Importance', ascending = True).set_index('Feature')\n",
    "\n",
    "    importances.plot.barh(color = color, edgecolor = 'firebrick', legend = False, ax = ax)\n",
    "    ax.set_title(classifier_name)\n",
    "    ax.set_xlabel('Importance');\n",
    "    \n",
    "def clf_performance(classifier, classifier_name, classifier_name_abv):\n",
    "    print('\\n', classifier_name)\n",
    "    print('-------------------------------')\n",
    "    print('   Best Score ({}): '.format(scoring_metric) + str(np.round(classifier.best_score_, 3)))\n",
    "    print('   Best Parameters: ')\n",
    "    for key, value in classifier.best_params_.items() :\n",
    "        print ('      {}: {}'.format(key, value))\n",
    "    \n",
    "    y_pred_pp = cross_val_predict(classifier.best_estimator_, X_train, y_train, cv = 5, method = 'predict_proba')[:, 1]\n",
    "    y_pred = y_pred_pp.round()\n",
    "    \n",
    "    cm = confusion_matrix(y_train, y_pred, normalize = 'true')\n",
    "    \n",
    "    fpr, tpr, _ = roc_curve(y_train, y_pred_pp)\n",
    "    \n",
    "    comparison_dict[classifier_name_abv] = [accuracy_score(y_train, y_pred), \n",
    "                                            precision_score(y_train, y_pred),\n",
    "                                            recall_score(y_train, y_pred),\n",
    "                                            roc_auc_score(y_train, y_pred_pp),\n",
    "                                            fpr, tpr]    \n",
    "\n",
    "    fig, ax = plt.subplots(figsize = (5, 4))\n",
    "    \n",
    "    plot_conf_mx(cm, '', ax)    \n",
    "    plt.tight_layout();\n",
    "    \n",
    "def test_func(classifier, classifier_name):\n",
    "    y_pred = classifier.predict(X_test)\n",
    "    cm = confusion_matrix(y_test, y_pred, normalize = 'true')\n",
    "    \n",
    "    comparison_test_dict[classifier_name] = [accuracy_score(y_test, y_pred), \n",
    "                                             precision_score(y_test, y_pred),\n",
    "                                             recall_score(y_test, y_pred)]\n",
    "    \n",
    "    plt.title(classifier_name)\n",
    "    sns.heatmap(cm, annot = True, annot_kws = {'fontsize': 18}, cmap = 'Blues')\n",
    "    plt.xlabel('Predicted Label')\n",
    "    plt.xticks([0.5, 1.5], ['Remained', 'Churned'])\n",
    "    plt.ylabel('True Label') \n",
    "    plt.yticks([0.2, 1.4], ['Remained', 'Churned']);\n",
    "    \n",
    "print ('Functions defined!')"
   ]
  },
  {
   "cell_type": "code",
   "execution_count": 4,
   "metadata": {},
   "outputs": [],
   "source": [
    "df = pd.read_csv('Churn_Modelling.csv')"
   ]
  },
  {
   "cell_type": "code",
   "execution_count": 5,
   "metadata": {},
   "outputs": [
    {
     "name": "stdout",
     "output_type": "stream",
     "text": [
      "<class 'pandas.core.frame.DataFrame'>\n",
      "RangeIndex: 10000 entries, 0 to 9999\n",
      "Data columns (total 14 columns):\n",
      " #   Column           Non-Null Count  Dtype  \n",
      "---  ------           --------------  -----  \n",
      " 0   RowNumber        10000 non-null  int64  \n",
      " 1   CustomerId       10000 non-null  int64  \n",
      " 2   Surname          10000 non-null  object \n",
      " 3   CreditScore      10000 non-null  int64  \n",
      " 4   Geography        10000 non-null  object \n",
      " 5   Gender           10000 non-null  object \n",
      " 6   Age              10000 non-null  int64  \n",
      " 7   Tenure           10000 non-null  int64  \n",
      " 8   Balance          10000 non-null  float64\n",
      " 9   NumOfProducts    10000 non-null  int64  \n",
      " 10  HasCrCard        10000 non-null  int64  \n",
      " 11  IsActiveMember   10000 non-null  int64  \n",
      " 12  EstimatedSalary  10000 non-null  float64\n",
      " 13  Exited           10000 non-null  int64  \n",
      "dtypes: float64(2), int64(9), object(3)\n",
      "memory usage: 1.1+ MB\n"
     ]
    }
   ],
   "source": [
    "df.info()"
   ]
  },
  {
   "cell_type": "code",
   "execution_count": 6,
   "metadata": {},
   "outputs": [
    {
     "data": {
      "text/plain": "Index(['CreditScore', 'Geography', 'Gender', 'Age', 'Tenure', 'Balance',\n       'NumOfProducts', 'HasCrCard', 'IsActiveMember', 'EstimatedSalary',\n       'Exited'],\n      dtype='object')"
     },
     "execution_count": 6,
     "metadata": {},
     "output_type": "execute_result"
    }
   ],
   "source": [
    "#Columns 'RowNumber', 'CustomerID' and 'Surname' are specific to each customer and can be dropped\n",
    "df.drop(['RowNumber', 'CustomerId', 'Surname'], axis = 1, inplace = True)\n",
    "df.columns"
   ]
  },
  {
   "cell_type": "code",
   "execution_count": 9,
   "metadata": {},
   "outputs": [
    {
     "name": "stdout",
     "output_type": "stream",
     "text": [
      "Shape\n",
      "Train set: 8000 rows x 11 columns\n",
      " Test set: 2000 rows x 11 columns\n"
     ]
    }
   ],
   "source": [
    "train_df, test_df = train_test_split(df, test_size = 0.2, random_state = 42)\n",
    "\n",
    "train_df.reset_index(drop = True, inplace = True)\n",
    "test_df.reset_index(drop = True, inplace = True)\n",
    "\n",
    "print('Shape')\n",
    "print('Train set: {} rows x {} columns'.format(train_df.shape[0], train_df.shape[1]))\n",
    "print(' Test set: {} rows x {} columns'.format(test_df.shape[0], test_df.shape[1]))"
   ]
  },
  {
   "cell_type": "code",
   "execution_count": 10,
   "metadata": {},
   "outputs": [
    {
     "name": "stdout",
     "output_type": "stream",
     "text": [
      "Features encoded!\n"
     ]
    }
   ],
   "source": [
    "#\n",
    "train_df['Gender'] = LabelEncoder().fit_transform(train_df['Gender'])\n",
    "\n",
    "train_df['Geography'] = train_df['Geography'].map({'Germany': 1, 'Spain': 2, 'France': 3})\n",
    "\n",
    "print ('Features encoded!')"
   ]
  },
  {
   "cell_type": "code",
   "execution_count": 14,
   "metadata": {},
   "outputs": [
    {
     "data": {
      "text/html": "<div>\n<style scoped>\n    .dataframe tbody tr th:only-of-type {\n        vertical-align: middle;\n    }\n\n    .dataframe tbody tr th {\n        vertical-align: top;\n    }\n\n    .dataframe thead th {\n        text-align: right;\n    }\n</style>\n<table border=\"1\" class=\"dataframe\">\n  <thead>\n    <tr style=\"text-align: right;\">\n      <th></th>\n      <th>CreditScore</th>\n      <th>Geography</th>\n      <th>Gender</th>\n      <th>Age</th>\n      <th>Tenure</th>\n      <th>Balance</th>\n      <th>NumOfProducts</th>\n      <th>HasCrCard</th>\n      <th>IsActiveMember</th>\n      <th>EstimatedSalary</th>\n      <th>Exited</th>\n    </tr>\n  </thead>\n  <tbody>\n    <tr>\n      <th>0</th>\n      <td>686</td>\n      <td>0</td>\n      <td>1</td>\n      <td>32</td>\n      <td>6</td>\n      <td>0.00</td>\n      <td>2</td>\n      <td>1</td>\n      <td>1</td>\n      <td>179093.26</td>\n      <td>0</td>\n    </tr>\n    <tr>\n      <th>1</th>\n      <td>632</td>\n      <td>1</td>\n      <td>1</td>\n      <td>42</td>\n      <td>4</td>\n      <td>119624.60</td>\n      <td>2</td>\n      <td>1</td>\n      <td>1</td>\n      <td>195978.86</td>\n      <td>0</td>\n    </tr>\n    <tr>\n      <th>2</th>\n      <td>559</td>\n      <td>0</td>\n      <td>1</td>\n      <td>24</td>\n      <td>3</td>\n      <td>114739.92</td>\n      <td>1</td>\n      <td>1</td>\n      <td>0</td>\n      <td>85891.02</td>\n      <td>1</td>\n    </tr>\n    <tr>\n      <th>3</th>\n      <td>561</td>\n      <td>0</td>\n      <td>0</td>\n      <td>27</td>\n      <td>9</td>\n      <td>135637.00</td>\n      <td>1</td>\n      <td>1</td>\n      <td>0</td>\n      <td>153080.40</td>\n      <td>1</td>\n    </tr>\n    <tr>\n      <th>4</th>\n      <td>517</td>\n      <td>0</td>\n      <td>1</td>\n      <td>56</td>\n      <td>9</td>\n      <td>142147.32</td>\n      <td>1</td>\n      <td>0</td>\n      <td>0</td>\n      <td>39488.04</td>\n      <td>1</td>\n    </tr>\n  </tbody>\n</table>\n</div>",
      "text/plain": "   CreditScore  Geography  Gender  Age  Tenure    Balance  NumOfProducts  \\\n0          686          0       1   32       6       0.00              2   \n1          632          1       1   42       4  119624.60              2   \n2          559          0       1   24       3  114739.92              1   \n3          561          0       0   27       9  135637.00              1   \n4          517          0       1   56       9  142147.32              1   \n\n   HasCrCard  IsActiveMember  EstimatedSalary  Exited  \n0          1               1        179093.26       0  \n1          1               1        195978.86       0  \n2          1               0         85891.02       1  \n3          1               0        153080.40       1  \n4          0               0         39488.04       1  "
     },
     "execution_count": 14,
     "metadata": {},
     "output_type": "execute_result"
    }
   ],
   "source": [
    "train_df.head()"
   ]
  },
  {
   "cell_type": "code",
   "execution_count": 15,
   "metadata": {},
   "outputs": [
    {
     "data": {
      "text/html": "<div>\n<style scoped>\n    .dataframe tbody tr th:only-of-type {\n        vertical-align: middle;\n    }\n\n    .dataframe tbody tr th {\n        vertical-align: top;\n    }\n\n    .dataframe thead th {\n        text-align: right;\n    }\n</style>\n<table border=\"1\" class=\"dataframe\">\n  <thead>\n    <tr style=\"text-align: right;\">\n      <th></th>\n      <th>CreditScore</th>\n      <th>Geography</th>\n      <th>Gender</th>\n      <th>Age</th>\n      <th>Tenure</th>\n      <th>Balance</th>\n      <th>NumOfProducts</th>\n      <th>HasCrCard</th>\n      <th>IsActiveMember</th>\n      <th>EstimatedSalary</th>\n      <th>Exited</th>\n    </tr>\n  </thead>\n  <tbody>\n    <tr>\n      <th>0</th>\n      <td>619</td>\n      <td>France</td>\n      <td>Female</td>\n      <td>42</td>\n      <td>2</td>\n      <td>0.00</td>\n      <td>1</td>\n      <td>1</td>\n      <td>1</td>\n      <td>101348.88</td>\n      <td>1</td>\n    </tr>\n    <tr>\n      <th>1</th>\n      <td>608</td>\n      <td>Spain</td>\n      <td>Female</td>\n      <td>41</td>\n      <td>1</td>\n      <td>83807.86</td>\n      <td>1</td>\n      <td>0</td>\n      <td>1</td>\n      <td>112542.58</td>\n      <td>0</td>\n    </tr>\n    <tr>\n      <th>2</th>\n      <td>502</td>\n      <td>France</td>\n      <td>Female</td>\n      <td>42</td>\n      <td>8</td>\n      <td>159660.80</td>\n      <td>3</td>\n      <td>1</td>\n      <td>0</td>\n      <td>113931.57</td>\n      <td>1</td>\n    </tr>\n    <tr>\n      <th>3</th>\n      <td>699</td>\n      <td>France</td>\n      <td>Female</td>\n      <td>39</td>\n      <td>1</td>\n      <td>0.00</td>\n      <td>2</td>\n      <td>0</td>\n      <td>0</td>\n      <td>93826.63</td>\n      <td>0</td>\n    </tr>\n    <tr>\n      <th>4</th>\n      <td>850</td>\n      <td>Spain</td>\n      <td>Female</td>\n      <td>43</td>\n      <td>2</td>\n      <td>125510.82</td>\n      <td>1</td>\n      <td>1</td>\n      <td>1</td>\n      <td>79084.10</td>\n      <td>0</td>\n    </tr>\n  </tbody>\n</table>\n</div>",
      "text/plain": "   CreditScore Geography  Gender  Age  Tenure    Balance  NumOfProducts  \\\n0          619    France  Female   42       2       0.00              1   \n1          608     Spain  Female   41       1   83807.86              1   \n2          502    France  Female   42       8  159660.80              3   \n3          699    France  Female   39       1       0.00              2   \n4          850     Spain  Female   43       2  125510.82              1   \n\n   HasCrCard  IsActiveMember  EstimatedSalary  Exited  \n0          1               1        101348.88       1  \n1          0               1        112542.58       0  \n2          1               0        113931.57       1  \n3          0               0         93826.63       0  \n4          1               1         79084.10       0  "
     },
     "execution_count": 15,
     "metadata": {},
     "output_type": "execute_result"
    }
   ],
   "source": [
    "df.head()"
   ]
  },
  {
   "cell_type": "code",
   "execution_count": 16,
   "metadata": {},
   "outputs": [],
   "source": [
    "#tentativa de utilizar o One Hot Encoding\n",
    "df= pd.get_dummies(df, prefix=['Gender'], columns=['Gender'])"
   ]
  },
  {
   "cell_type": "code",
   "execution_count": 23,
   "metadata": {},
   "outputs": [
    {
     "data": {
      "text/html": "<div>\n<style scoped>\n    .dataframe tbody tr th:only-of-type {\n        vertical-align: middle;\n    }\n\n    .dataframe tbody tr th {\n        vertical-align: top;\n    }\n\n    .dataframe thead th {\n        text-align: right;\n    }\n</style>\n<table border=\"1\" class=\"dataframe\">\n  <thead>\n    <tr style=\"text-align: right;\">\n      <th></th>\n      <th>CreditScore</th>\n      <th>Geography</th>\n      <th>Age</th>\n      <th>Tenure</th>\n      <th>Balance</th>\n      <th>NumOfProducts</th>\n      <th>HasCrCard</th>\n      <th>IsActiveMember</th>\n      <th>EstimatedSalary</th>\n      <th>Exited</th>\n      <th>Gender_Female</th>\n      <th>Gender_Male</th>\n    </tr>\n  </thead>\n  <tbody>\n    <tr>\n      <th>0</th>\n      <td>619</td>\n      <td>France</td>\n      <td>42</td>\n      <td>2</td>\n      <td>0.00</td>\n      <td>1</td>\n      <td>1</td>\n      <td>1</td>\n      <td>101348.88</td>\n      <td>1</td>\n      <td>1</td>\n      <td>0</td>\n    </tr>\n    <tr>\n      <th>1</th>\n      <td>608</td>\n      <td>Spain</td>\n      <td>41</td>\n      <td>1</td>\n      <td>83807.86</td>\n      <td>1</td>\n      <td>0</td>\n      <td>1</td>\n      <td>112542.58</td>\n      <td>0</td>\n      <td>1</td>\n      <td>0</td>\n    </tr>\n    <tr>\n      <th>2</th>\n      <td>502</td>\n      <td>France</td>\n      <td>42</td>\n      <td>8</td>\n      <td>159660.80</td>\n      <td>3</td>\n      <td>1</td>\n      <td>0</td>\n      <td>113931.57</td>\n      <td>1</td>\n      <td>1</td>\n      <td>0</td>\n    </tr>\n    <tr>\n      <th>3</th>\n      <td>699</td>\n      <td>France</td>\n      <td>39</td>\n      <td>1</td>\n      <td>0.00</td>\n      <td>2</td>\n      <td>0</td>\n      <td>0</td>\n      <td>93826.63</td>\n      <td>0</td>\n      <td>1</td>\n      <td>0</td>\n    </tr>\n    <tr>\n      <th>4</th>\n      <td>850</td>\n      <td>Spain</td>\n      <td>43</td>\n      <td>2</td>\n      <td>125510.82</td>\n      <td>1</td>\n      <td>1</td>\n      <td>1</td>\n      <td>79084.10</td>\n      <td>0</td>\n      <td>1</td>\n      <td>0</td>\n    </tr>\n  </tbody>\n</table>\n</div>",
      "text/plain": "   CreditScore Geography  Age  Tenure    Balance  NumOfProducts  HasCrCard  \\\n0          619    France   42       2       0.00              1          1   \n1          608     Spain   41       1   83807.86              1          0   \n2          502    France   42       8  159660.80              3          1   \n3          699    France   39       1       0.00              2          0   \n4          850     Spain   43       2  125510.82              1          1   \n\n   IsActiveMember  EstimatedSalary  Exited  Gender_Female  Gender_Male  \n0               1        101348.88       1              1            0  \n1               1        112542.58       0              1            0  \n2               0        113931.57       1              1            0  \n3               0         93826.63       0              1            0  \n4               1         79084.10       0              1            0  "
     },
     "execution_count": 23,
     "metadata": {},
     "output_type": "execute_result"
    }
   ],
   "source": [
    "df.head()"
   ]
  },
  {
   "cell_type": "code",
   "execution_count": null,
   "metadata": {},
   "outputs": [],
   "source": []
  }
 ],
 "metadata": {
  "kernelspec": {
   "display_name": "Python 3.6.9 64-bit",
   "name": "python369jvsc74a57bd031f2aee4e71d21fbe5cf8b01ff0e069b9275f58929596ceb00d14d90e3e16cd6"
  },
  "language_info": {
   "codemirror_mode": {
    "name": "ipython",
    "version": 3
   },
   "file_extension": ".py",
   "mimetype": "text/x-python",
   "name": "python",
   "nbconvert_exporter": "python",
   "pygments_lexer": "ipython3",
   "version": "3.6.9"
  },
  "orig_nbformat": 2
 },
 "nbformat": 4,
 "nbformat_minor": 2
}