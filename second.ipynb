{
 "cells": [
  {
   "cell_type": "code",
   "execution_count": 5,
   "metadata": {},
   "outputs": [
    {
     "name": "stdout",
     "output_type": "stream",
     "text": [
      "Libraries Loaded!\n"
     ]
    }
   ],
   "source": [
    "import warnings\n",
    "warnings.simplefilter(action = 'ignore', category = FutureWarning)\n",
    "\n",
    "import numpy as np\n",
    "import pandas as pd\n",
    "pd.set_option('precision', 3)\n",
    "pd.options.mode.chained_assignment = None\n",
    "\n",
    "import matplotlib.pyplot as plt\n",
    "%config InlineBackend.figure_format = 'retina'\n",
    "\n",
    "import seaborn as sns\n",
    "sns.set_style('darkgrid')\n",
    "\n",
    "from scipy.stats import chi2_contingency\n",
    "from collections import Counter\n",
    "from imblearn.over_sampling import SMOTE\n",
    "\n",
    "from sklearn.preprocessing import StandardScaler, MinMaxScaler, RobustScaler, LabelEncoder\n",
    "from sklearn.model_selection import train_test_split, GridSearchCV\n",
    "from sklearn.model_selection import cross_val_score, cross_val_predict, GridSearchCV, learning_curve\n",
    "from sklearn.metrics import accuracy_score, recall_score, precision_score, auc, roc_auc_score, roc_curve\n",
    "from sklearn.metrics import confusion_matrix, plot_confusion_matrix\n",
    "\n",
    "from sklearn.linear_model import LogisticRegression\n",
    "from sklearn.svm import SVC\n",
    "from sklearn.ensemble import RandomForestClassifier, GradientBoostingClassifier, VotingClassifier\n",
    "\n",
    "\n",
    "label_size = 17\n",
    "\n",
    "plt.rcParams['axes.labelsize'] = label_size\n",
    "plt.rcParams['xtick.labelsize'] = label_size - 2\n",
    "plt.rcParams['ytick.labelsize'] = label_size - 2\n",
    "plt.rcParams['axes.titlesize'] = label_size\n",
    "plt.rcParams['legend.fontsize'] = label_size - 2\n",
    "\n",
    "random_state = 42\n",
    "scoring_metric = 'recall'\n",
    "comparison_dict = {}\n",
    "comparison_test_dict = {}\n",
    "\n",
    "print ('Libraries Loaded!')"
   ]
  },
  {
   "cell_type": "code",
   "execution_count": 39,
   "metadata": {},
   "outputs": [
    {
     "name": "stdout",
     "output_type": "stream",
     "text": [
      "Functions defined!\n"
     ]
    }
   ],
   "source": [
    "def plot_continuous(feature):\n",
    "    \n",
    "    fig, (ax1, ax2) = plt.subplots(1, 2, figsize = (12, 4))\n",
    "    \n",
    "    sns.distplot(df_remained[feature], bins = 15, color = colors[0], label = 'Remained', hist_kws = dict(edgecolor = 'firebrick', linewidth = 1), ax = ax1, kde = False)\n",
    "    sns.distplot(df_churned[feature], bins = 15, color = colors[1], label = 'Churned', hist_kws = dict(edgecolor = 'firebrick', linewidth = 1), ax = ax1, kde = False)\n",
    "    ax1.set_title('{} distribution - Histogram'.format(feature))\n",
    "    ax1.set_ylabel('Counts')\n",
    "    ax1.legend()\n",
    "\n",
    "    sns.boxplot(x = 'Exited', y = feature, data = train_df, palette = colors, ax = ax2)\n",
    "    ax2.set_title('{} distribution - Box plot'.format(feature))\n",
    "    ax2.set_xlabel('Status')\n",
    "    ax2.set_xticklabels(['Remained', 'Churned'])\n",
    "\n",
    "    plt.tight_layout();\n",
    "    \n",
    "    \n",
    "def plot_categorical(feature):\n",
    "    \n",
    "    fig, (ax1, ax2) = plt.subplots(1, 2, figsize = (12, 4))\n",
    "    sns.countplot(x = feature, hue = 'Exited', data = train_df, palette = colors, ax = ax1)\n",
    "    ax1.set_ylabel('Counts')\n",
    "    ax1.legend(labels = ['Retained', 'Churned'])\n",
    "    \n",
    "    sns.barplot(x = feature, y = 'Exited', data = train_df, palette = colors2 , ci = None, ax = ax2)\n",
    "    ax2.set_ylabel('Churn rate')\n",
    "    \n",
    "    if (feature == 'HasCrCard' or feature == 'IsActiveMember'):\n",
    "        ax1.set_xticklabels(['No', 'Yes'])\n",
    "        ax2.set_xticklabels(['No', 'Yes'])\n",
    "    \n",
    "    plt.tight_layout();\n",
    "    \n",
    "def plot_learning_curve(estimator, estimator_name, X, y, cv = None, train_sizes = np.linspace(0.1, 1.0, 5)):\n",
    "                 \n",
    "    train_sizes, train_scores, test_scores = learning_curve(estimator, X, y, cv = cv, n_jobs = -1, \n",
    "                                                            train_sizes = train_sizes, scoring = 'accuracy')\n",
    "    \n",
    "    train_scores_mean, train_scores_std = np.mean(train_scores, axis = 1), np.std(train_scores, axis = 1)\n",
    "    test_scores_mean, test_scores_std = np.mean(test_scores, axis = 1), np.std(test_scores, axis = 1)\n",
    "            \n",
    "    plt.fill_between(train_sizes, train_scores_mean - train_scores_std, train_scores_mean + train_scores_std, alpha = 0.1, color = 'dodgerblue')\n",
    "    plt.fill_between(train_sizes, test_scores_mean - test_scores_std, test_scores_mean + test_scores_std, alpha = 0.1, color = 'darkorange')\n",
    "    \n",
    "    plt.plot(train_sizes, train_scores_mean, color = 'dodgerblue', marker = 'o', linestyle = '-', label = 'Training Score')\n",
    "    plt.plot(train_sizes, test_scores_mean, color = 'darkorange', marker = 'o', linestyle = '-', label = 'Cross-validation Score')\n",
    "    plt.title(estimator_name)\n",
    "    plt.xlabel('Training Examples')\n",
    "    plt.ylabel('Accuracy Score')\n",
    "    plt.legend(loc = 'best')\n",
    "            \n",
    "    plt.tight_layout();\n",
    "    \n",
    "def plot_conf_mx(cm, classifier_name, ax):\n",
    "    sns.heatmap(cm, annot = True, cmap = 'Blues', annot_kws = {'fontsize': 24}, ax = ax)\n",
    "    ax.set_title('{}'.format(classifier_name))\n",
    "    ax.set_xlabel('Predicted Label')\n",
    "    ax.set_xticks([0.5, 1.5])\n",
    "    ax.set_xticklabels(['Remained', 'Churned'])\n",
    "    ax.set_ylabel('True Label') \n",
    "    ax.set_yticks([0.25, 1.25])\n",
    "    ax.set_yticklabels(['Remained', 'Churned']);\n",
    "    \n",
    "def plot_feature_imp(classifier, classifier_name, color, ax):\n",
    "\n",
    "    importances = pd.DataFrame({'Feature': X_train.columns,\n",
    "                                'Importance': np.round(classifier.best_estimator_.feature_importances_, 3)})\n",
    "\n",
    "    importances = importances.sort_values('Importance', ascending = True).set_index('Feature')\n",
    "\n",
    "    importances.plot.barh(color = color, edgecolor = 'firebrick', legend = False, ax = ax)\n",
    "    ax.set_title(classifier_name)\n",
    "    ax.set_xlabel('Importance');\n",
    "    \n",
    "def clf_performance(classifier, classifier_name, classifier_name_abv):\n",
    "    print('\\n', classifier_name)\n",
    "    print('-------------------------------')\n",
    "    print('   Best Score ({}): '.format(scoring_metric) + str(np.round(classifier.best_score_, 3)))\n",
    "    print('   Best Parameters: ')\n",
    "    for key, value in classifier.best_params_.items() :\n",
    "        print ('      {}: {}'.format(key, value))\n",
    "    \n",
    "    y_pred_pp = cross_val_predict(classifier.best_estimator_, X_train, y_train, cv = 5, method = 'predict_proba')[:, 1]\n",
    "    y_pred = y_pred_pp.round()\n",
    "    \n",
    "    cm = confusion_matrix(y_train, y_pred, normalize = 'true')\n",
    "    \n",
    "    fpr, tpr, _ = roc_curve(y_train, y_pred_pp)\n",
    "    \n",
    "    comparison_dict[classifier_name_abv] = [accuracy_score(y_train, y_pred), \n",
    "                                            precision_score(y_train, y_pred),\n",
    "                                            recall_score(y_train, y_pred),\n",
    "                                            roc_auc_score(y_train, y_pred_pp),\n",
    "                                            fpr, tpr]    \n",
    "\n",
    "    fig, ax = plt.subplots(figsize = (5, 4))\n",
    "    \n",
    "    plot_conf_mx(cm, '', ax)    \n",
    "    plt.tight_layout();\n",
    "    \n",
    "def test_func(classifier, classifier_name):\n",
    "    y_pred = classifier.predict(X_test)\n",
    "    cm = confusion_matrix(y_test, y_pred, normalize = 'true')\n",
    "    \n",
    "    comparison_test_dict[classifier_name] = [accuracy_score(y_test, y_pred), \n",
    "                                             precision_score(y_test, y_pred),\n",
    "                                             recall_score(y_test, y_pred)]\n",
    "    \n",
    "    plt.title(classifier_name)\n",
    "    sns.heatmap(cm, annot = True, annot_kws = {'fontsize': 18}, cmap = 'Blues')\n",
    "    plt.xlabel('Predicted Label')\n",
    "    plt.xticks([0.5, 1.5], ['Remained', 'Churned'])\n",
    "    plt.ylabel('True Label') \n",
    "    plt.yticks([0.2, 1.4], ['Remained', 'Churned']);\n",
    "    \n",
    "print ('Functions defined!')"
   ]
  },
  {
   "cell_type": "code",
   "execution_count": 7,
   "metadata": {},
   "outputs": [],
   "source": [
    "df = pd.read_csv('Churn_Modelling.csv')"
   ]
  },
  {
   "cell_type": "code",
   "execution_count": 8,
   "metadata": {},
   "outputs": [
    {
     "name": "stdout",
     "output_type": "stream",
     "text": [
      "<class 'pandas.core.frame.DataFrame'>\n",
      "RangeIndex: 10000 entries, 0 to 9999\n",
      "Data columns (total 14 columns):\n",
      " #   Column           Non-Null Count  Dtype  \n",
      "---  ------           --------------  -----  \n",
      " 0   RowNumber        10000 non-null  int64  \n",
      " 1   CustomerId       10000 non-null  int64  \n",
      " 2   Surname          10000 non-null  object \n",
      " 3   CreditScore      10000 non-null  int64  \n",
      " 4   Geography        10000 non-null  object \n",
      " 5   Gender           10000 non-null  object \n",
      " 6   Age              10000 non-null  int64  \n",
      " 7   Tenure           10000 non-null  int64  \n",
      " 8   Balance          10000 non-null  float64\n",
      " 9   NumOfProducts    10000 non-null  int64  \n",
      " 10  HasCrCard        10000 non-null  int64  \n",
      " 11  IsActiveMember   10000 non-null  int64  \n",
      " 12  EstimatedSalary  10000 non-null  float64\n",
      " 13  Exited           10000 non-null  int64  \n",
      "dtypes: float64(2), int64(9), object(3)\n",
      "memory usage: 1.1+ MB\n"
     ]
    }
   ],
   "source": [
    "df.info()"
   ]
  },
  {
   "cell_type": "code",
   "execution_count": 41,
   "metadata": {},
   "outputs": [
    {
     "data": {
      "text/html": "<div>\n<style scoped>\n    .dataframe tbody tr th:only-of-type {\n        vertical-align: middle;\n    }\n\n    .dataframe tbody tr th {\n        vertical-align: top;\n    }\n\n    .dataframe thead th {\n        text-align: right;\n    }\n</style>\n<table border=\"1\" class=\"dataframe\">\n  <thead>\n    <tr style=\"text-align: right;\">\n      <th></th>\n      <th>RowNumber</th>\n      <th>CustomerId</th>\n      <th>Surname</th>\n      <th>CreditScore</th>\n      <th>Geography</th>\n      <th>Gender</th>\n      <th>Age</th>\n      <th>Tenure</th>\n      <th>Balance</th>\n      <th>NumOfProducts</th>\n      <th>HasCrCard</th>\n      <th>IsActiveMember</th>\n      <th>EstimatedSalary</th>\n      <th>Exited</th>\n    </tr>\n  </thead>\n  <tbody>\n    <tr>\n      <th>0</th>\n      <td>1</td>\n      <td>15634602</td>\n      <td>Hargrave</td>\n      <td>619</td>\n      <td>France</td>\n      <td>Female</td>\n      <td>42</td>\n      <td>2</td>\n      <td>0.00</td>\n      <td>1</td>\n      <td>1</td>\n      <td>1</td>\n      <td>101348.88</td>\n      <td>1</td>\n    </tr>\n    <tr>\n      <th>1</th>\n      <td>2</td>\n      <td>15647311</td>\n      <td>Hill</td>\n      <td>608</td>\n      <td>Spain</td>\n      <td>Female</td>\n      <td>41</td>\n      <td>1</td>\n      <td>83807.86</td>\n      <td>1</td>\n      <td>0</td>\n      <td>1</td>\n      <td>112542.58</td>\n      <td>0</td>\n    </tr>\n    <tr>\n      <th>2</th>\n      <td>3</td>\n      <td>15619304</td>\n      <td>Onio</td>\n      <td>502</td>\n      <td>France</td>\n      <td>Female</td>\n      <td>42</td>\n      <td>8</td>\n      <td>159660.80</td>\n      <td>3</td>\n      <td>1</td>\n      <td>0</td>\n      <td>113931.57</td>\n      <td>1</td>\n    </tr>\n    <tr>\n      <th>3</th>\n      <td>4</td>\n      <td>15701354</td>\n      <td>Boni</td>\n      <td>699</td>\n      <td>France</td>\n      <td>Female</td>\n      <td>39</td>\n      <td>1</td>\n      <td>0.00</td>\n      <td>2</td>\n      <td>0</td>\n      <td>0</td>\n      <td>93826.63</td>\n      <td>0</td>\n    </tr>\n    <tr>\n      <th>4</th>\n      <td>5</td>\n      <td>15737888</td>\n      <td>Mitchell</td>\n      <td>850</td>\n      <td>Spain</td>\n      <td>Female</td>\n      <td>43</td>\n      <td>2</td>\n      <td>125510.82</td>\n      <td>1</td>\n      <td>1</td>\n      <td>1</td>\n      <td>79084.10</td>\n      <td>0</td>\n    </tr>\n  </tbody>\n</table>\n</div>",
      "text/plain": "   RowNumber  CustomerId   Surname  CreditScore Geography  Gender  Age  \\\n0          1    15634602  Hargrave          619    France  Female   42   \n1          2    15647311      Hill          608     Spain  Female   41   \n2          3    15619304      Onio          502    France  Female   42   \n3          4    15701354      Boni          699    France  Female   39   \n4          5    15737888  Mitchell          850     Spain  Female   43   \n\n   Tenure    Balance  NumOfProducts  HasCrCard  IsActiveMember  \\\n0       2       0.00              1          1               1   \n1       1   83807.86              1          0               1   \n2       8  159660.80              3          1               0   \n3       1       0.00              2          0               0   \n4       2  125510.82              1          1               1   \n\n   EstimatedSalary  Exited  \n0        101348.88       1  \n1        112542.58       0  \n2        113931.57       1  \n3         93826.63       0  \n4         79084.10       0  "
     },
     "execution_count": 41,
     "metadata": {},
     "output_type": "execute_result"
    }
   ],
   "source": [
    "df0 = pd.read_csv('Churn_Modelling.csv') #criado para vizualizar a tabela original de dados\n",
    "df0.head()"
   ]
  },
  {
   "cell_type": "code",
   "execution_count": 9,
   "metadata": {},
   "outputs": [
    {
     "data": {
      "text/plain": "Index(['CreditScore', 'Geography', 'Gender', 'Age', 'Tenure', 'Balance',\n       'NumOfProducts', 'HasCrCard', 'IsActiveMember', 'EstimatedSalary',\n       'Exited'],\n      dtype='object')"
     },
     "execution_count": 9,
     "metadata": {},
     "output_type": "execute_result"
    }
   ],
   "source": [
    "#Columns 'RowNumber', 'CustomerID' and 'Surname' are specific to each customer and can be dropped\n",
    "df.drop(['RowNumber', 'CustomerId', 'Surname'], axis = 1, inplace = True)\n",
    "df.columns"
   ]
  },
  {
   "cell_type": "code",
   "execution_count": 10,
   "metadata": {},
   "outputs": [
    {
     "name": "stdout",
     "output_type": "stream",
     "text": [
      "Shape\n",
      "Train set: 8000 rows x 11 columns\n",
      " Test set: 2000 rows x 11 columns\n"
     ]
    }
   ],
   "source": [
    "#cria-se train e test que serão utilizados logo mais no label encoding\n",
    "train_df, test_df = train_test_split(df, test_size = 0.2, random_state = 42)\n",
    "\n",
    "train_df.reset_index(drop = True, inplace = True)\n",
    "test_df.reset_index(drop = True, inplace = True)\n",
    "\n",
    "print('Shape')\n",
    "print('Train set: {} rows x {} columns'.format(train_df.shape[0], train_df.shape[1]))\n",
    "print(' Test set: {} rows x {} columns'.format(test_df.shape[0], test_df.shape[1]))"
   ]
  },
  {
   "cell_type": "code",
   "execution_count": 11,
   "metadata": {},
   "outputs": [
    {
     "name": "stdout",
     "output_type": "stream",
     "text": [
      "Features encoded!\n"
     ]
    }
   ],
   "source": [
    "#LabelEncoding, metodo utilizado em um exemplo do kaggle\n",
    "#Germany recebe 1 e os demais 0, pois após analise, verificou-se que é o local onde existe maior nro de Churn\n",
    "\n",
    "train_df['Gender'] = LabelEncoder().fit_transform(train_df['Gender'])\n",
    "train_df['Geography'] = train_df['Geography'].map({'Germany': 1, 'Spain': 0, 'France': 0})\n",
    "\n",
    "print ('Features encoded!')"
   ]
  },
  {
   "cell_type": "code",
   "execution_count": 12,
   "metadata": {},
   "outputs": [
    {
     "data": {
      "text/html": "<div>\n<style scoped>\n    .dataframe tbody tr th:only-of-type {\n        vertical-align: middle;\n    }\n\n    .dataframe tbody tr th {\n        vertical-align: top;\n    }\n\n    .dataframe thead th {\n        text-align: right;\n    }\n</style>\n<table border=\"1\" class=\"dataframe\">\n  <thead>\n    <tr style=\"text-align: right;\">\n      <th></th>\n      <th>CreditScore</th>\n      <th>Geography</th>\n      <th>Gender</th>\n      <th>Age</th>\n      <th>Tenure</th>\n      <th>Balance</th>\n      <th>NumOfProducts</th>\n      <th>HasCrCard</th>\n      <th>IsActiveMember</th>\n      <th>EstimatedSalary</th>\n      <th>Exited</th>\n    </tr>\n  </thead>\n  <tbody>\n    <tr>\n      <th>0</th>\n      <td>686</td>\n      <td>0</td>\n      <td>1</td>\n      <td>32</td>\n      <td>6</td>\n      <td>0.00</td>\n      <td>2</td>\n      <td>1</td>\n      <td>1</td>\n      <td>179093.26</td>\n      <td>0</td>\n    </tr>\n    <tr>\n      <th>1</th>\n      <td>632</td>\n      <td>1</td>\n      <td>1</td>\n      <td>42</td>\n      <td>4</td>\n      <td>119624.60</td>\n      <td>2</td>\n      <td>1</td>\n      <td>1</td>\n      <td>195978.86</td>\n      <td>0</td>\n    </tr>\n    <tr>\n      <th>2</th>\n      <td>559</td>\n      <td>0</td>\n      <td>1</td>\n      <td>24</td>\n      <td>3</td>\n      <td>114739.92</td>\n      <td>1</td>\n      <td>1</td>\n      <td>0</td>\n      <td>85891.02</td>\n      <td>1</td>\n    </tr>\n    <tr>\n      <th>3</th>\n      <td>561</td>\n      <td>0</td>\n      <td>0</td>\n      <td>27</td>\n      <td>9</td>\n      <td>135637.00</td>\n      <td>1</td>\n      <td>1</td>\n      <td>0</td>\n      <td>153080.40</td>\n      <td>1</td>\n    </tr>\n    <tr>\n      <th>4</th>\n      <td>517</td>\n      <td>0</td>\n      <td>1</td>\n      <td>56</td>\n      <td>9</td>\n      <td>142147.32</td>\n      <td>1</td>\n      <td>0</td>\n      <td>0</td>\n      <td>39488.04</td>\n      <td>1</td>\n    </tr>\n  </tbody>\n</table>\n</div>",
      "text/plain": "   CreditScore  Geography  Gender  Age  Tenure    Balance  NumOfProducts  \\\n0          686          0       1   32       6       0.00              2   \n1          632          1       1   42       4  119624.60              2   \n2          559          0       1   24       3  114739.92              1   \n3          561          0       0   27       9  135637.00              1   \n4          517          0       1   56       9  142147.32              1   \n\n   HasCrCard  IsActiveMember  EstimatedSalary  Exited  \n0          1               1        179093.26       0  \n1          1               1        195978.86       0  \n2          1               0         85891.02       1  \n3          1               0        153080.40       1  \n4          0               0         39488.04       1  "
     },
     "execution_count": 12,
     "metadata": {},
     "output_type": "execute_result"
    }
   ],
   "source": [
    "#visualiza os dados já codificados\n",
    "train_df.head()"
   ]
  },
  {
   "cell_type": "code",
   "execution_count": 17,
   "metadata": {},
   "outputs": [
    {
     "data": {
      "text/html": "<div>\n<style scoped>\n    .dataframe tbody tr th:only-of-type {\n        vertical-align: middle;\n    }\n\n    .dataframe tbody tr th {\n        vertical-align: top;\n    }\n\n    .dataframe thead th {\n        text-align: right;\n    }\n</style>\n<table border=\"1\" class=\"dataframe\">\n  <thead>\n    <tr style=\"text-align: right;\">\n      <th></th>\n      <th>CreditScore</th>\n      <th>Geography</th>\n      <th>Age</th>\n      <th>Tenure</th>\n      <th>Balance</th>\n      <th>NumOfProducts</th>\n      <th>HasCrCard</th>\n      <th>IsActiveMember</th>\n      <th>EstimatedSalary</th>\n      <th>Exited</th>\n      <th>Gender_Female</th>\n      <th>Gender_Male</th>\n    </tr>\n  </thead>\n  <tbody>\n    <tr>\n      <th>0</th>\n      <td>619</td>\n      <td>France</td>\n      <td>42</td>\n      <td>2</td>\n      <td>0.00</td>\n      <td>1</td>\n      <td>1</td>\n      <td>1</td>\n      <td>101348.88</td>\n      <td>1</td>\n      <td>1</td>\n      <td>0</td>\n    </tr>\n    <tr>\n      <th>1</th>\n      <td>608</td>\n      <td>Spain</td>\n      <td>41</td>\n      <td>1</td>\n      <td>83807.86</td>\n      <td>1</td>\n      <td>0</td>\n      <td>1</td>\n      <td>112542.58</td>\n      <td>0</td>\n      <td>1</td>\n      <td>0</td>\n    </tr>\n    <tr>\n      <th>2</th>\n      <td>502</td>\n      <td>France</td>\n      <td>42</td>\n      <td>8</td>\n      <td>159660.80</td>\n      <td>3</td>\n      <td>1</td>\n      <td>0</td>\n      <td>113931.57</td>\n      <td>1</td>\n      <td>1</td>\n      <td>0</td>\n    </tr>\n    <tr>\n      <th>3</th>\n      <td>699</td>\n      <td>France</td>\n      <td>39</td>\n      <td>1</td>\n      <td>0.00</td>\n      <td>2</td>\n      <td>0</td>\n      <td>0</td>\n      <td>93826.63</td>\n      <td>0</td>\n      <td>1</td>\n      <td>0</td>\n    </tr>\n    <tr>\n      <th>4</th>\n      <td>850</td>\n      <td>Spain</td>\n      <td>43</td>\n      <td>2</td>\n      <td>125510.82</td>\n      <td>1</td>\n      <td>1</td>\n      <td>1</td>\n      <td>79084.10</td>\n      <td>0</td>\n      <td>1</td>\n      <td>0</td>\n    </tr>\n  </tbody>\n</table>\n</div>",
      "text/plain": "   CreditScore Geography  Age  Tenure    Balance  NumOfProducts  HasCrCard  \\\n0          619    France   42       2       0.00              1          1   \n1          608     Spain   41       1   83807.86              1          0   \n2          502    France   42       8  159660.80              3          1   \n3          699    France   39       1       0.00              2          0   \n4          850     Spain   43       2  125510.82              1          1   \n\n   IsActiveMember  EstimatedSalary  Exited  Gender_Female  Gender_Male  \n0               1        101348.88       1              1            0  \n1               1        112542.58       0              1            0  \n2               0        113931.57       1              1            0  \n3               0         93826.63       0              1            0  \n4               1         79084.10       0              1            0  "
     },
     "execution_count": 17,
     "metadata": {},
     "output_type": "execute_result"
    }
   ],
   "source": [
    "#somente para visualização\n",
    "df.head()"
   ]
  },
  {
   "cell_type": "code",
   "execution_count": 20,
   "metadata": {},
   "outputs": [],
   "source": [
    "#tentativa de utilizar o One Hot Encoding\n",
    "\n",
    "df1 = pd.read_csv('Churn_Modelling.csv')\n",
    "df1= pd.get_dummies(df1, prefix=['Gender'], columns=['Gender'])\n"
   ]
  },
  {
   "cell_type": "code",
   "execution_count": 21,
   "metadata": {},
   "outputs": [
    {
     "data": {
      "text/html": "<div>\n<style scoped>\n    .dataframe tbody tr th:only-of-type {\n        vertical-align: middle;\n    }\n\n    .dataframe tbody tr th {\n        vertical-align: top;\n    }\n\n    .dataframe thead th {\n        text-align: right;\n    }\n</style>\n<table border=\"1\" class=\"dataframe\">\n  <thead>\n    <tr style=\"text-align: right;\">\n      <th></th>\n      <th>RowNumber</th>\n      <th>CustomerId</th>\n      <th>Surname</th>\n      <th>CreditScore</th>\n      <th>Geography</th>\n      <th>Age</th>\n      <th>Tenure</th>\n      <th>Balance</th>\n      <th>NumOfProducts</th>\n      <th>HasCrCard</th>\n      <th>IsActiveMember</th>\n      <th>EstimatedSalary</th>\n      <th>Exited</th>\n      <th>Gender_Female</th>\n      <th>Gender_Male</th>\n    </tr>\n  </thead>\n  <tbody>\n    <tr>\n      <th>0</th>\n      <td>1</td>\n      <td>15634602</td>\n      <td>Hargrave</td>\n      <td>619</td>\n      <td>France</td>\n      <td>42</td>\n      <td>2</td>\n      <td>0.00</td>\n      <td>1</td>\n      <td>1</td>\n      <td>1</td>\n      <td>101348.88</td>\n      <td>1</td>\n      <td>1</td>\n      <td>0</td>\n    </tr>\n    <tr>\n      <th>1</th>\n      <td>2</td>\n      <td>15647311</td>\n      <td>Hill</td>\n      <td>608</td>\n      <td>Spain</td>\n      <td>41</td>\n      <td>1</td>\n      <td>83807.86</td>\n      <td>1</td>\n      <td>0</td>\n      <td>1</td>\n      <td>112542.58</td>\n      <td>0</td>\n      <td>1</td>\n      <td>0</td>\n    </tr>\n    <tr>\n      <th>2</th>\n      <td>3</td>\n      <td>15619304</td>\n      <td>Onio</td>\n      <td>502</td>\n      <td>France</td>\n      <td>42</td>\n      <td>8</td>\n      <td>159660.80</td>\n      <td>3</td>\n      <td>1</td>\n      <td>0</td>\n      <td>113931.57</td>\n      <td>1</td>\n      <td>1</td>\n      <td>0</td>\n    </tr>\n    <tr>\n      <th>3</th>\n      <td>4</td>\n      <td>15701354</td>\n      <td>Boni</td>\n      <td>699</td>\n      <td>France</td>\n      <td>39</td>\n      <td>1</td>\n      <td>0.00</td>\n      <td>2</td>\n      <td>0</td>\n      <td>0</td>\n      <td>93826.63</td>\n      <td>0</td>\n      <td>1</td>\n      <td>0</td>\n    </tr>\n    <tr>\n      <th>4</th>\n      <td>5</td>\n      <td>15737888</td>\n      <td>Mitchell</td>\n      <td>850</td>\n      <td>Spain</td>\n      <td>43</td>\n      <td>2</td>\n      <td>125510.82</td>\n      <td>1</td>\n      <td>1</td>\n      <td>1</td>\n      <td>79084.10</td>\n      <td>0</td>\n      <td>1</td>\n      <td>0</td>\n    </tr>\n  </tbody>\n</table>\n</div>",
      "text/plain": "   RowNumber  CustomerId   Surname  CreditScore Geography  Age  Tenure  \\\n0          1    15634602  Hargrave          619    France   42       2   \n1          2    15647311      Hill          608     Spain   41       1   \n2          3    15619304      Onio          502    France   42       8   \n3          4    15701354      Boni          699    France   39       1   \n4          5    15737888  Mitchell          850     Spain   43       2   \n\n     Balance  NumOfProducts  HasCrCard  IsActiveMember  EstimatedSalary  \\\n0       0.00              1          1               1        101348.88   \n1   83807.86              1          0               1        112542.58   \n2  159660.80              3          1               0        113931.57   \n3       0.00              2          0               0         93826.63   \n4  125510.82              1          1               1         79084.10   \n\n   Exited  Gender_Female  Gender_Male  \n0       1              1            0  \n1       0              1            0  \n2       1              1            0  \n3       0              1            0  \n4       0              1            0  "
     },
     "execution_count": 21,
     "metadata": {},
     "output_type": "execute_result"
    }
   ],
   "source": [
    "df1.head()"
   ]
  },
  {
   "cell_type": "code",
   "execution_count": 42,
   "metadata": {},
   "outputs": [
    {
     "data": {
      "text/html": "<div>\n<style scoped>\n    .dataframe tbody tr th:only-of-type {\n        vertical-align: middle;\n    }\n\n    .dataframe tbody tr th {\n        vertical-align: top;\n    }\n\n    .dataframe thead th {\n        text-align: right;\n    }\n</style>\n<table border=\"1\" class=\"dataframe\">\n  <thead>\n    <tr style=\"text-align: right;\">\n      <th></th>\n      <th>RowNumber</th>\n      <th>CustomerId</th>\n      <th>Surname</th>\n      <th>CreditScore</th>\n      <th>Geography</th>\n      <th>Gender</th>\n      <th>Age</th>\n      <th>Tenure</th>\n      <th>Balance</th>\n      <th>NumOfProducts</th>\n      <th>HasCrCard</th>\n      <th>IsActiveMember</th>\n      <th>EstimatedSalary</th>\n      <th>Exited</th>\n    </tr>\n  </thead>\n  <tbody>\n    <tr>\n      <th>0</th>\n      <td>1</td>\n      <td>15634602</td>\n      <td>Hargrave</td>\n      <td>619</td>\n      <td>0</td>\n      <td>0</td>\n      <td>42</td>\n      <td>2</td>\n      <td>0.00</td>\n      <td>1</td>\n      <td>1</td>\n      <td>1</td>\n      <td>101348.88</td>\n      <td>1</td>\n    </tr>\n    <tr>\n      <th>1</th>\n      <td>2</td>\n      <td>15647311</td>\n      <td>Hill</td>\n      <td>608</td>\n      <td>2</td>\n      <td>0</td>\n      <td>41</td>\n      <td>1</td>\n      <td>83807.86</td>\n      <td>1</td>\n      <td>0</td>\n      <td>1</td>\n      <td>112542.58</td>\n      <td>0</td>\n    </tr>\n    <tr>\n      <th>2</th>\n      <td>3</td>\n      <td>15619304</td>\n      <td>Onio</td>\n      <td>502</td>\n      <td>0</td>\n      <td>0</td>\n      <td>42</td>\n      <td>8</td>\n      <td>159660.80</td>\n      <td>3</td>\n      <td>1</td>\n      <td>0</td>\n      <td>113931.57</td>\n      <td>1</td>\n    </tr>\n    <tr>\n      <th>3</th>\n      <td>4</td>\n      <td>15701354</td>\n      <td>Boni</td>\n      <td>699</td>\n      <td>0</td>\n      <td>0</td>\n      <td>39</td>\n      <td>1</td>\n      <td>0.00</td>\n      <td>2</td>\n      <td>0</td>\n      <td>0</td>\n      <td>93826.63</td>\n      <td>0</td>\n    </tr>\n    <tr>\n      <th>4</th>\n      <td>5</td>\n      <td>15737888</td>\n      <td>Mitchell</td>\n      <td>850</td>\n      <td>2</td>\n      <td>0</td>\n      <td>43</td>\n      <td>2</td>\n      <td>125510.82</td>\n      <td>1</td>\n      <td>1</td>\n      <td>1</td>\n      <td>79084.10</td>\n      <td>0</td>\n    </tr>\n    <tr>\n      <th>5</th>\n      <td>6</td>\n      <td>15574012</td>\n      <td>Chu</td>\n      <td>645</td>\n      <td>2</td>\n      <td>1</td>\n      <td>44</td>\n      <td>8</td>\n      <td>113755.78</td>\n      <td>2</td>\n      <td>1</td>\n      <td>0</td>\n      <td>149756.71</td>\n      <td>1</td>\n    </tr>\n    <tr>\n      <th>6</th>\n      <td>7</td>\n      <td>15592531</td>\n      <td>Bartlett</td>\n      <td>822</td>\n      <td>0</td>\n      <td>1</td>\n      <td>50</td>\n      <td>7</td>\n      <td>0.00</td>\n      <td>2</td>\n      <td>1</td>\n      <td>1</td>\n      <td>10062.80</td>\n      <td>0</td>\n    </tr>\n    <tr>\n      <th>7</th>\n      <td>8</td>\n      <td>15656148</td>\n      <td>Obinna</td>\n      <td>376</td>\n      <td>1</td>\n      <td>0</td>\n      <td>29</td>\n      <td>4</td>\n      <td>115046.74</td>\n      <td>4</td>\n      <td>1</td>\n      <td>0</td>\n      <td>119346.88</td>\n      <td>1</td>\n    </tr>\n    <tr>\n      <th>8</th>\n      <td>9</td>\n      <td>15792365</td>\n      <td>He</td>\n      <td>501</td>\n      <td>0</td>\n      <td>1</td>\n      <td>44</td>\n      <td>4</td>\n      <td>142051.07</td>\n      <td>2</td>\n      <td>0</td>\n      <td>1</td>\n      <td>74940.50</td>\n      <td>0</td>\n    </tr>\n    <tr>\n      <th>9</th>\n      <td>10</td>\n      <td>15592389</td>\n      <td>H?</td>\n      <td>684</td>\n      <td>0</td>\n      <td>1</td>\n      <td>27</td>\n      <td>2</td>\n      <td>134603.88</td>\n      <td>1</td>\n      <td>1</td>\n      <td>1</td>\n      <td>71725.73</td>\n      <td>0</td>\n    </tr>\n  </tbody>\n</table>\n</div>",
      "text/plain": "   RowNumber  CustomerId   Surname  CreditScore  Geography  Gender  Age  \\\n0          1    15634602  Hargrave          619          0       0   42   \n1          2    15647311      Hill          608          2       0   41   \n2          3    15619304      Onio          502          0       0   42   \n3          4    15701354      Boni          699          0       0   39   \n4          5    15737888  Mitchell          850          2       0   43   \n5          6    15574012       Chu          645          2       1   44   \n6          7    15592531  Bartlett          822          0       1   50   \n7          8    15656148    Obinna          376          1       0   29   \n8          9    15792365        He          501          0       1   44   \n9         10    15592389        H?          684          0       1   27   \n\n   Tenure    Balance  NumOfProducts  HasCrCard  IsActiveMember  \\\n0       2       0.00              1          1               1   \n1       1   83807.86              1          0               1   \n2       8  159660.80              3          1               0   \n3       1       0.00              2          0               0   \n4       2  125510.82              1          1               1   \n5       8  113755.78              2          1               0   \n6       7       0.00              2          1               1   \n7       4  115046.74              4          1               0   \n8       4  142051.07              2          0               1   \n9       2  134603.88              1          1               1   \n\n   EstimatedSalary  Exited  \n0        101348.88       1  \n1        112542.58       0  \n2        113931.57       1  \n3         93826.63       0  \n4         79084.10       0  \n5        149756.71       1  \n6         10062.80       0  \n7        119346.88       1  \n8         74940.50       0  \n9         71725.73       0  "
     },
     "execution_count": 42,
     "metadata": {},
     "output_type": "execute_result"
    }
   ],
   "source": [
    "#criando nova analise utilizando label encoding de outra maneira \n",
    "df2 = pd.read_csv('Churn_Modelling.csv')\n",
    "df2['Geography'] =  LabelEncoder().fit_transform(df2['Geography'])\n",
    "df2['Gender'] ="
   ]
  },
  {
   "cell_type": "code",
   "execution_count": null,
   "metadata": {},
   "outputs": [],
   "source": [
    " LabelEncoder().fit_transform(df2['Gender'])\n",
    "df2[0:10]\n",
    "\n",
    "#nesse caso, France=0, Spain=2 e provavelmente Germany=1"
   ]
  },
  {
   "cell_type": "code",
   "execution_count": 23,
   "metadata": {},
   "outputs": [
    {
     "data": {
      "text/html": "<div>\n<style scoped>\n    .dataframe tbody tr th:only-of-type {\n        vertical-align: middle;\n    }\n\n    .dataframe tbody tr th {\n        vertical-align: top;\n    }\n\n    .dataframe thead th {\n        text-align: right;\n    }\n</style>\n<table border=\"1\" class=\"dataframe\">\n  <thead>\n    <tr style=\"text-align: right;\">\n      <th></th>\n      <th>RowNumber</th>\n      <th>CustomerId</th>\n      <th>Surname</th>\n      <th>CreditScore</th>\n      <th>Geography</th>\n      <th>Gender</th>\n      <th>Age</th>\n      <th>Tenure</th>\n      <th>Balance</th>\n      <th>NumOfProducts</th>\n      <th>HasCrCard</th>\n      <th>IsActiveMember</th>\n      <th>EstimatedSalary</th>\n      <th>Exited</th>\n    </tr>\n  </thead>\n  <tbody>\n    <tr>\n      <th>0</th>\n      <td>1</td>\n      <td>15634602</td>\n      <td>Hargrave</td>\n      <td>619</td>\n      <td>5014</td>\n      <td>4543</td>\n      <td>42</td>\n      <td>2</td>\n      <td>0.00</td>\n      <td>1</td>\n      <td>1</td>\n      <td>1</td>\n      <td>101348.88</td>\n      <td>1</td>\n    </tr>\n    <tr>\n      <th>1</th>\n      <td>2</td>\n      <td>15647311</td>\n      <td>Hill</td>\n      <td>608</td>\n      <td>2477</td>\n      <td>4543</td>\n      <td>41</td>\n      <td>1</td>\n      <td>83807.86</td>\n      <td>1</td>\n      <td>0</td>\n      <td>1</td>\n      <td>112542.58</td>\n      <td>0</td>\n    </tr>\n    <tr>\n      <th>2</th>\n      <td>3</td>\n      <td>15619304</td>\n      <td>Onio</td>\n      <td>502</td>\n      <td>5014</td>\n      <td>4543</td>\n      <td>42</td>\n      <td>8</td>\n      <td>159660.80</td>\n      <td>3</td>\n      <td>1</td>\n      <td>0</td>\n      <td>113931.57</td>\n      <td>1</td>\n    </tr>\n    <tr>\n      <th>3</th>\n      <td>4</td>\n      <td>15701354</td>\n      <td>Boni</td>\n      <td>699</td>\n      <td>5014</td>\n      <td>4543</td>\n      <td>39</td>\n      <td>1</td>\n      <td>0.00</td>\n      <td>2</td>\n      <td>0</td>\n      <td>0</td>\n      <td>93826.63</td>\n      <td>0</td>\n    </tr>\n    <tr>\n      <th>4</th>\n      <td>5</td>\n      <td>15737888</td>\n      <td>Mitchell</td>\n      <td>850</td>\n      <td>2477</td>\n      <td>4543</td>\n      <td>43</td>\n      <td>2</td>\n      <td>125510.82</td>\n      <td>1</td>\n      <td>1</td>\n      <td>1</td>\n      <td>79084.10</td>\n      <td>0</td>\n    </tr>\n  </tbody>\n</table>\n</div>",
      "text/plain": "   RowNumber  CustomerId   Surname  CreditScore  Geography  Gender  Age  \\\n0          1    15634602  Hargrave          619       5014    4543   42   \n1          2    15647311      Hill          608       2477    4543   41   \n2          3    15619304      Onio          502       5014    4543   42   \n3          4    15701354      Boni          699       5014    4543   39   \n4          5    15737888  Mitchell          850       2477    4543   43   \n\n   Tenure    Balance  NumOfProducts  HasCrCard  IsActiveMember  \\\n0       2       0.00              1          1               1   \n1       1   83807.86              1          0               1   \n2       8  159660.80              3          1               0   \n3       1       0.00              2          0               0   \n4       2  125510.82              1          1               1   \n\n   EstimatedSalary  Exited  \n0        101348.88       1  \n1        112542.58       0  \n2        113931.57       1  \n3         93826.63       0  \n4         79084.10       0  "
     },
     "execution_count": 23,
     "metadata": {},
     "output_type": "execute_result"
    }
   ],
   "source": [
    "# county or frequency encoding \n",
    "# create the dictionary\n",
    "\n",
    "data = pd.read_csv('Churn_Modelling.csv')\n",
    "count_map_Gender = data['Gender'].value_counts().to_dict()\n",
    "count_map_Geography = data['Geography'].value_counts().to_dict()\n",
    "\n",
    "# Map the column with dictionary\n",
    "data['Gender'] = data['Gender'].map(count_map_Gender)\n",
    "data['Geography'] = data['Geography'].map(count_map_Geography)\n",
    "data.head()"
   ]
  },
  {
   "cell_type": "code",
   "execution_count": 29,
   "metadata": {},
   "outputs": [
    {
     "data": {
      "text/html": "<div>\n<style scoped>\n    .dataframe tbody tr th:only-of-type {\n        vertical-align: middle;\n    }\n\n    .dataframe tbody tr th {\n        vertical-align: top;\n    }\n\n    .dataframe thead th {\n        text-align: right;\n    }\n</style>\n<table border=\"1\" class=\"dataframe\">\n  <thead>\n    <tr style=\"text-align: right;\">\n      <th></th>\n      <th>Exited</th>\n      <th>Manteve</th>\n    </tr>\n    <tr>\n      <th>Geography</th>\n      <th></th>\n      <th></th>\n    </tr>\n  </thead>\n  <tbody>\n    <tr>\n      <th>France</th>\n      <td>0.162</td>\n      <td>0.838</td>\n    </tr>\n    <tr>\n      <th>Germany</th>\n      <td>0.324</td>\n      <td>0.676</td>\n    </tr>\n    <tr>\n      <th>Spain</th>\n      <td>0.167</td>\n      <td>0.833</td>\n    </tr>\n  </tbody>\n</table>\n</div>",
      "text/plain": "           Exited  Manteve\nGeography                 \nFrance      0.162    0.838\nGermany     0.324    0.676\nSpain       0.167    0.833"
     },
     "execution_count": 29,
     "metadata": {},
     "output_type": "execute_result"
    }
   ],
   "source": [
    "#utilizando \"Weight of Evidence\"\n",
    "data2= pd.read_csv('Churn_Modelling.csv')\n",
    "#female=1\n",
    "prob_data2 = data2.groupby(['Geography'])['Exited'].mean()\n",
    "# and capture it into a dataframe\n",
    "prob_data2 = pd.DataFrame(prob_data2)\n",
    "# and now the probability of survived = 0\n",
    "# (probability of non-events or p(0))\n",
    "prob_data2['Manteve'] = 1-prob_data2['Exited']\n",
    "\n",
    "prob_data2.head()\n"
   ]
  },
  {
   "cell_type": "code",
   "execution_count": null,
   "metadata": {},
   "outputs": [],
   "source": []
  }
 ],
 "metadata": {
  "kernelspec": {
   "display_name": "Python 3.6.9 64-bit",
   "name": "python369jvsc74a57bd031f2aee4e71d21fbe5cf8b01ff0e069b9275f58929596ceb00d14d90e3e16cd6"
  },
  "language_info": {
   "codemirror_mode": {
    "name": "ipython",
    "version": 3
   },
   "file_extension": ".py",
   "mimetype": "text/x-python",
   "name": "python",
   "nbconvert_exporter": "python",
   "pygments_lexer": "ipython3",
   "version": "3.6.9"
  },
  "orig_nbformat": 2
 },
 "nbformat": 4,
 "nbformat_minor": 2
}