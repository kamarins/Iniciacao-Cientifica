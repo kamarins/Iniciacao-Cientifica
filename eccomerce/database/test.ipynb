{
 "cells": [
  {
   "cell_type": "code",
   "execution_count": 1,
   "source": [
    "import pip"
   ],
   "outputs": [],
   "metadata": {}
  },
  {
   "cell_type": "code",
   "execution_count": 2,
   "source": [
    "!pip install dask[complete]"
   ],
   "outputs": [
    {
     "output_type": "stream",
     "name": "stdout",
     "text": [
      "Requirement already satisfied: dask[complete] in /home/usuario/.local/lib/python3.8/site-packages (2021.11.1)\n",
      "Requirement already satisfied: cloudpickle>=1.1.1 in /home/usuario/.local/lib/python3.8/site-packages (from dask[complete]) (2.0.0)\n",
      "Requirement already satisfied: fsspec>=0.6.0 in /home/usuario/.local/lib/python3.8/site-packages (from dask[complete]) (2021.11.0)\n",
      "Requirement already satisfied: partd>=0.3.10 in /home/usuario/.local/lib/python3.8/site-packages (from dask[complete]) (1.2.0)\n",
      "Requirement already satisfied: toolz>=0.8.2 in /home/usuario/.local/lib/python3.8/site-packages (from dask[complete]) (0.11.2)\n",
      "Requirement already satisfied: packaging>=20.0 in /home/usuario/.local/lib/python3.8/site-packages (from dask[complete]) (21.0)\n",
      "Requirement already satisfied: pyyaml in /usr/lib/python3/dist-packages (from dask[complete]) (5.3.1)\n",
      "Requirement already satisfied: pandas>=1.0; extra == \"complete\" in /home/usuario/.local/lib/python3.8/site-packages (from dask[complete]) (1.2.4)\n",
      "Requirement already satisfied: jinja2; extra == \"complete\" in /usr/lib/python3/dist-packages (from dask[complete]) (2.10.1)\n",
      "Requirement already satisfied: numpy>=1.18; extra == \"complete\" in /home/usuario/.local/lib/python3.8/site-packages (from dask[complete]) (1.20.3)\n",
      "Requirement already satisfied: distributed==2021.11.1; extra == \"complete\" in /home/usuario/.local/lib/python3.8/site-packages (from dask[complete]) (2021.11.1)\n",
      "Requirement already satisfied: bokeh!=2.0.0,>=1.0.0; extra == \"complete\" in /home/usuario/.local/lib/python3.8/site-packages (from dask[complete]) (2.4.1)\n",
      "Requirement already satisfied: locket in /home/usuario/.local/lib/python3.8/site-packages (from partd>=0.3.10->dask[complete]) (0.2.1)\n",
      "Requirement already satisfied: pyparsing>=2.0.2 in /home/usuario/.local/lib/python3.8/site-packages (from packaging>=20.0->dask[complete]) (2.4.7)\n",
      "Requirement already satisfied: python-dateutil>=2.7.3 in /usr/lib/python3/dist-packages (from pandas>=1.0; extra == \"complete\"->dask[complete]) (2.7.3)\n",
      "Requirement already satisfied: pytz>=2017.3 in /usr/lib/python3/dist-packages (from pandas>=1.0; extra == \"complete\"->dask[complete]) (2019.3)\n",
      "Requirement already satisfied: tornado>=6.0.3; python_version >= \"3.8\" in /home/usuario/.local/lib/python3.8/site-packages (from distributed==2021.11.1; extra == \"complete\"->dask[complete]) (6.1)\n",
      "Requirement already satisfied: click>=6.6 in /usr/lib/python3/dist-packages (from distributed==2021.11.1; extra == \"complete\"->dask[complete]) (7.0)\n",
      "Requirement already satisfied: psutil>=5.0 in /home/usuario/.local/lib/python3.8/site-packages (from distributed==2021.11.1; extra == \"complete\"->dask[complete]) (5.8.0)\n",
      "Requirement already satisfied: sortedcontainers!=2.0.0,!=2.0.1 in /home/usuario/.local/lib/python3.8/site-packages (from distributed==2021.11.1; extra == \"complete\"->dask[complete]) (2.4.0)\n",
      "Requirement already satisfied: zict>=0.1.3 in /home/usuario/.local/lib/python3.8/site-packages (from distributed==2021.11.1; extra == \"complete\"->dask[complete]) (2.0.0)\n",
      "Requirement already satisfied: msgpack>=0.6.0 in /home/usuario/.local/lib/python3.8/site-packages (from distributed==2021.11.1; extra == \"complete\"->dask[complete]) (1.0.2)\n",
      "Requirement already satisfied: setuptools in /usr/lib/python3/dist-packages (from distributed==2021.11.1; extra == \"complete\"->dask[complete]) (45.2.0)\n",
      "Requirement already satisfied: tblib>=1.6.0 in /home/usuario/.local/lib/python3.8/site-packages (from distributed==2021.11.1; extra == \"complete\"->dask[complete]) (1.7.0)\n",
      "Requirement already satisfied: pillow>=7.1.0 in /home/usuario/.local/lib/python3.8/site-packages (from bokeh!=2.0.0,>=1.0.0; extra == \"complete\"->dask[complete]) (8.4.0)\n",
      "Requirement already satisfied: typing-extensions>=3.10.0 in /home/usuario/.local/lib/python3.8/site-packages (from bokeh!=2.0.0,>=1.0.0; extra == \"complete\"->dask[complete]) (3.10.0.2)\n",
      "Requirement already satisfied: heapdict in /home/usuario/.local/lib/python3.8/site-packages (from zict>=0.1.3->distributed==2021.11.1; extra == \"complete\"->dask[complete]) (1.0.1)\n"
     ]
    }
   ],
   "metadata": {}
  },
  {
   "cell_type": "code",
   "execution_count": 3,
   "source": [
    "#loading the dataset \n",
    "\n",
    "import dask.dataframe as dd\n",
    "\n",
    "data = dd.read_csv(\n",
    "    'df2_completo.csv',\n",
    "    storage_options={'anon': True, 'use_ssl': False}\n",
    ")"
   ],
   "outputs": [],
   "metadata": {}
  },
  {
   "cell_type": "code",
   "execution_count": 4,
   "source": [
    "print(data.head())\n",
    "#era pra imprimir so isso mss?\n"
   ],
   "outputs": [
    {
     "output_type": "stream",
     "name": "stdout",
     "text": [
      "                           order_id  order_item_id  \\\n",
      "0  00010242fe8c5a6d1ba2dd792cb16214            1.0   \n",
      "1  130898c0987d1801452a8ed92a670612            1.0   \n",
      "2  532ed5e14e24ae1f0d735b91524b98b9            1.0   \n",
      "3  6f8c31653edb8c83e1a739408b5ff750            1.0   \n",
      "4  7d19f4ef4d04461989632411b7e588b9            1.0   \n",
      "\n",
      "                         product_id                         seller_id  \\\n",
      "0  4244733e06e7ecb4970a6e2683c13e61  48436dade18ac8b2bce089ec2a041202   \n",
      "1  4244733e06e7ecb4970a6e2683c13e61  48436dade18ac8b2bce089ec2a041202   \n",
      "2  4244733e06e7ecb4970a6e2683c13e61  48436dade18ac8b2bce089ec2a041202   \n",
      "3  4244733e06e7ecb4970a6e2683c13e61  48436dade18ac8b2bce089ec2a041202   \n",
      "4  4244733e06e7ecb4970a6e2683c13e61  48436dade18ac8b2bce089ec2a041202   \n",
      "\n",
      "   shipping_limit_date  price  freight_value  payment_sequential payment_type  \\\n",
      "0  2017-09-19 09:45:35   58.9          13.29                 1.0  credit_card   \n",
      "1  2017-07-05 02:44:11   55.9          17.96                 1.0       boleto   \n",
      "2  2018-05-23 10:56:25   64.9          18.33                 1.0  credit_card   \n",
      "3  2017-08-07 18:55:08   58.9          16.17                 1.0  credit_card   \n",
      "4  2017-08-16 22:05:11   58.9          13.29                 1.0  credit_card   \n",
      "\n",
      "   payment_installments  ...    seller_city seller_state  \\\n",
      "0                   2.0  ...  volta redonda           SP   \n",
      "1                   1.0  ...  volta redonda           SP   \n",
      "2                   2.0  ...  volta redonda           SP   \n",
      "3                   3.0  ...  volta redonda           SP   \n",
      "4                   4.0  ...  volta redonda           SP   \n",
      "\n",
      "   product_category_name product_name_lenght product_description_lenght  \\\n",
      "0             cool_stuff                58.0                      598.0   \n",
      "1             cool_stuff                58.0                      598.0   \n",
      "2             cool_stuff                58.0                      598.0   \n",
      "3             cool_stuff                58.0                      598.0   \n",
      "4             cool_stuff                58.0                      598.0   \n",
      "\n",
      "  product_photos_qty product_weight_g product_length_cm product_height_cm  \\\n",
      "0                4.0            650.0              28.0               9.0   \n",
      "1                4.0            650.0              28.0               9.0   \n",
      "2                4.0            650.0              28.0               9.0   \n",
      "3                4.0            650.0              28.0               9.0   \n",
      "4                4.0            650.0              28.0               9.0   \n",
      "\n",
      "  product_width_cm  \n",
      "0             14.0  \n",
      "1             14.0  \n",
      "2             14.0  \n",
      "3             14.0  \n",
      "4             14.0  \n",
      "\n",
      "[5 rows x 39 columns]\n"
     ]
    }
   ],
   "metadata": {}
  },
  {
   "cell_type": "code",
   "execution_count": 7,
   "source": [
    "import dask.array as da\n",
    "x = da.random.random((10000, 10000), chunks=(1000, 1000))\n",
    "x"
   ],
   "outputs": [
    {
     "output_type": "execute_result",
     "data": {
      "text/html": [
       "<table>\n",
       "    <tr>\n",
       "        <td>\n",
       "            <table>\n",
       "                <thead>\n",
       "                    <tr>\n",
       "                        <td> </td>\n",
       "                        <th> Array </th>\n",
       "                        <th> Chunk </th>\n",
       "                    </tr>\n",
       "                </thead>\n",
       "                <tbody>\n",
       "                    \n",
       "                    <tr>\n",
       "                        <th> Bytes </th>\n",
       "                        <td> 762.94 MiB </td>\n",
       "                        <td> 7.63 MiB </td>\n",
       "                    </tr>\n",
       "                    \n",
       "                    <tr>\n",
       "                        <th> Shape </th>\n",
       "                        <td> (10000, 10000) </td>\n",
       "                        <td> (1000, 1000) </td>\n",
       "                    </tr>\n",
       "                    <tr>\n",
       "                        <th> Count </th>\n",
       "                        <td> 100 Tasks </td>\n",
       "                        <td> 100 Chunks </td>\n",
       "                    </tr>\n",
       "                    <tr>\n",
       "                    <th> Type </th>\n",
       "                    <td> float64 </td>\n",
       "                    <td> numpy.ndarray </td>\n",
       "                    </tr>\n",
       "                </tbody>\n",
       "            </table>\n",
       "        </td>\n",
       "        <td>\n",
       "        <svg width=\"170\" height=\"170\" style=\"stroke:rgb(0,0,0);stroke-width:1\" >\n",
       "\n",
       "  <!-- Horizontal lines -->\n",
       "  <line x1=\"0\" y1=\"0\" x2=\"120\" y2=\"0\" style=\"stroke-width:2\" />\n",
       "  <line x1=\"0\" y1=\"12\" x2=\"120\" y2=\"12\" />\n",
       "  <line x1=\"0\" y1=\"24\" x2=\"120\" y2=\"24\" />\n",
       "  <line x1=\"0\" y1=\"36\" x2=\"120\" y2=\"36\" />\n",
       "  <line x1=\"0\" y1=\"48\" x2=\"120\" y2=\"48\" />\n",
       "  <line x1=\"0\" y1=\"60\" x2=\"120\" y2=\"60\" />\n",
       "  <line x1=\"0\" y1=\"72\" x2=\"120\" y2=\"72\" />\n",
       "  <line x1=\"0\" y1=\"84\" x2=\"120\" y2=\"84\" />\n",
       "  <line x1=\"0\" y1=\"96\" x2=\"120\" y2=\"96\" />\n",
       "  <line x1=\"0\" y1=\"108\" x2=\"120\" y2=\"108\" />\n",
       "  <line x1=\"0\" y1=\"120\" x2=\"120\" y2=\"120\" style=\"stroke-width:2\" />\n",
       "\n",
       "  <!-- Vertical lines -->\n",
       "  <line x1=\"0\" y1=\"0\" x2=\"0\" y2=\"120\" style=\"stroke-width:2\" />\n",
       "  <line x1=\"12\" y1=\"0\" x2=\"12\" y2=\"120\" />\n",
       "  <line x1=\"24\" y1=\"0\" x2=\"24\" y2=\"120\" />\n",
       "  <line x1=\"36\" y1=\"0\" x2=\"36\" y2=\"120\" />\n",
       "  <line x1=\"48\" y1=\"0\" x2=\"48\" y2=\"120\" />\n",
       "  <line x1=\"60\" y1=\"0\" x2=\"60\" y2=\"120\" />\n",
       "  <line x1=\"72\" y1=\"0\" x2=\"72\" y2=\"120\" />\n",
       "  <line x1=\"84\" y1=\"0\" x2=\"84\" y2=\"120\" />\n",
       "  <line x1=\"96\" y1=\"0\" x2=\"96\" y2=\"120\" />\n",
       "  <line x1=\"108\" y1=\"0\" x2=\"108\" y2=\"120\" />\n",
       "  <line x1=\"120\" y1=\"0\" x2=\"120\" y2=\"120\" style=\"stroke-width:2\" />\n",
       "\n",
       "  <!-- Colored Rectangle -->\n",
       "  <polygon points=\"0.0,0.0 120.0,0.0 120.0,120.0 0.0,120.0\" style=\"fill:#ECB172A0;stroke-width:0\"/>\n",
       "\n",
       "  <!-- Text -->\n",
       "  <text x=\"60.000000\" y=\"140.000000\" font-size=\"1.0rem\" font-weight=\"100\" text-anchor=\"middle\" >10000</text>\n",
       "  <text x=\"140.000000\" y=\"60.000000\" font-size=\"1.0rem\" font-weight=\"100\" text-anchor=\"middle\" transform=\"rotate(-90,140.000000,60.000000)\">10000</text>\n",
       "</svg>\n",
       "        </td>\n",
       "    </tr>\n",
       "</table>"
      ],
      "text/plain": [
       "dask.array<random_sample, shape=(10000, 10000), dtype=float64, chunksize=(1000, 1000), chunktype=numpy.ndarray>"
      ]
     },
     "metadata": {},
     "execution_count": 7
    }
   ],
   "metadata": {}
  },
  {
   "cell_type": "markdown",
   "source": [
    "Cria dask array de dimensoes de 10000 por 10000"
   ],
   "metadata": {}
  },
  {
   "cell_type": "code",
   "execution_count": null,
   "source": [],
   "outputs": [],
   "metadata": {}
  }
 ],
 "metadata": {
  "orig_nbformat": 4,
  "language_info": {
   "name": "python",
   "version": "3.8.10",
   "mimetype": "text/x-python",
   "codemirror_mode": {
    "name": "ipython",
    "version": 3
   },
   "pygments_lexer": "ipython3",
   "nbconvert_exporter": "python",
   "file_extension": ".py"
  },
  "kernelspec": {
   "name": "python3",
   "display_name": "Python 3.8.10 64-bit"
  },
  "interpreter": {
   "hash": "31f2aee4e71d21fbe5cf8b01ff0e069b9275f58929596ceb00d14d90e3e16cd6"
  }
 },
 "nbformat": 4,
 "nbformat_minor": 2
}