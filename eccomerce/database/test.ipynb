{
 "cells": [
  {
   "cell_type": "code",
   "execution_count": 1,
   "source": [
    "import pip"
   ],
   "outputs": [],
   "metadata": {}
  },
  {
   "cell_type": "code",
   "execution_count": 2,
   "source": [
    "!pip install dask[complete]"
   ],
   "outputs": [
    {
     "output_type": "stream",
     "name": "stdout",
     "text": [
      "Collecting dask[complete]\n",
      "  Downloading dask-2021.11.1-py3-none-any.whl (1.0 MB)\n",
      "\u001b[K     |████████████████████████████████| 1.0 MB 2.7 MB/s \n",
      "\u001b[?25hCollecting fsspec>=0.6.0\n",
      "  Downloading fsspec-2021.11.0-py3-none-any.whl (132 kB)\n",
      "\u001b[K     |████████████████████████████████| 132 kB 4.5 MB/s \n",
      "\u001b[?25hCollecting partd>=0.3.10\n",
      "  Downloading partd-1.2.0-py3-none-any.whl (19 kB)\n",
      "Requirement already satisfied: pyyaml in /usr/lib/python3/dist-packages (from dask[complete]) (5.3.1)\n",
      "Requirement already satisfied: packaging>=20.0 in /home/usuario/.local/lib/python3.8/site-packages (from dask[complete]) (21.0)\n",
      "Collecting cloudpickle>=1.1.1\n",
      "  Downloading cloudpickle-2.0.0-py3-none-any.whl (25 kB)\n",
      "Collecting toolz>=0.8.2\n",
      "  Downloading toolz-0.11.2-py3-none-any.whl (55 kB)\n",
      "\u001b[K     |████████████████████████████████| 55 kB 577 kB/s \n",
      "\u001b[?25hCollecting bokeh!=2.0.0,>=1.0.0; extra == \"complete\"\n",
      "  Downloading bokeh-2.4.1-py3-none-any.whl (18.5 MB)\n",
      "\u001b[K     |████████████████████████████████| 18.5 MB 51 kB/s \n",
      "\u001b[?25hRequirement already satisfied: numpy>=1.18; extra == \"complete\" in /home/usuario/.local/lib/python3.8/site-packages (from dask[complete]) (1.20.3)\n",
      "Requirement already satisfied: pandas>=1.0; extra == \"complete\" in /home/usuario/.local/lib/python3.8/site-packages (from dask[complete]) (1.2.4)\n",
      "Requirement already satisfied: jinja2; extra == \"complete\" in /usr/lib/python3/dist-packages (from dask[complete]) (2.10.1)\n",
      "Collecting distributed==2021.11.1; extra == \"complete\"\n",
      "  Downloading distributed-2021.11.1-py3-none-any.whl (793 kB)\n",
      "\u001b[K     |████████████████████████████████| 793 kB 18.0 MB/s \n",
      "\u001b[?25hCollecting locket\n",
      "  Downloading locket-0.2.1-py2.py3-none-any.whl (4.1 kB)\n",
      "Requirement already satisfied: pyparsing>=2.0.2 in /home/usuario/.local/lib/python3.8/site-packages (from packaging>=20.0->dask[complete]) (2.4.7)\n",
      "Collecting typing-extensions>=3.10.0\n",
      "  Downloading typing_extensions-3.10.0.2-py3-none-any.whl (26 kB)\n",
      "Requirement already satisfied: tornado>=5.1 in /usr/lib/python3/dist-packages (from bokeh!=2.0.0,>=1.0.0; extra == \"complete\"->dask[complete]) (5.1.1)\n",
      "Collecting pillow>=7.1.0\n",
      "  Downloading Pillow-8.4.0-cp38-cp38-manylinux_2_17_x86_64.manylinux2014_x86_64.whl (3.1 MB)\n",
      "\u001b[K     |████████████████████████████████| 3.1 MB 13.2 MB/s \n",
      "\u001b[?25hRequirement already satisfied: python-dateutil>=2.7.3 in /usr/lib/python3/dist-packages (from pandas>=1.0; extra == \"complete\"->dask[complete]) (2.7.3)\n",
      "Requirement already satisfied: pytz>=2017.3 in /usr/lib/python3/dist-packages (from pandas>=1.0; extra == \"complete\"->dask[complete]) (2019.3)\n",
      "Collecting sortedcontainers!=2.0.0,!=2.0.1\n",
      "  Downloading sortedcontainers-2.4.0-py2.py3-none-any.whl (29 kB)\n",
      "Collecting msgpack>=0.6.0\n",
      "  Downloading msgpack-1.0.2-cp38-cp38-manylinux1_x86_64.whl (302 kB)\n",
      "\u001b[K     |████████████████████████████████| 302 kB 9.8 MB/s \n",
      "\u001b[?25hCollecting zict>=0.1.3\n",
      "  Downloading zict-2.0.0-py3-none-any.whl (10 kB)\n",
      "Collecting tblib>=1.6.0\n",
      "  Downloading tblib-1.7.0-py2.py3-none-any.whl (12 kB)\n",
      "Requirement already satisfied: click>=6.6 in /usr/lib/python3/dist-packages (from distributed==2021.11.1; extra == \"complete\"->dask[complete]) (7.0)\n",
      "Requirement already satisfied: setuptools in /usr/lib/python3/dist-packages (from distributed==2021.11.1; extra == \"complete\"->dask[complete]) (45.2.0)\n",
      "Collecting psutil>=5.0\n",
      "  Downloading psutil-5.8.0-cp38-cp38-manylinux2010_x86_64.whl (296 kB)\n",
      "\u001b[K     |████████████████████████████████| 296 kB 10.4 MB/s \n",
      "\u001b[?25hCollecting heapdict\n",
      "  Downloading HeapDict-1.0.1-py3-none-any.whl (3.9 kB)\n",
      "\u001b[31mERROR: distributed 2021.11.1 has requirement tornado>=6.0.3; python_version >= \"3.8\", but you'll have tornado 5.1.1 which is incompatible.\u001b[0m\n",
      "Installing collected packages: fsspec, locket, toolz, partd, cloudpickle, typing-extensions, pillow, bokeh, sortedcontainers, msgpack, heapdict, zict, tblib, psutil, distributed, dask\n",
      "Successfully installed bokeh-2.4.1 cloudpickle-2.0.0 dask-2021.11.1 distributed-2021.11.1 fsspec-2021.11.0 heapdict-1.0.1 locket-0.2.1 msgpack-1.0.2 partd-1.2.0 pillow-8.4.0 psutil-5.8.0 sortedcontainers-2.4.0 tblib-1.7.0 toolz-0.11.2 typing-extensions-3.10.0.2 zict-2.0.0\n"
     ]
    }
   ],
   "metadata": {}
  }
 ],
 "metadata": {
  "orig_nbformat": 4,
  "language_info": {
   "name": "python",
   "version": "3.8.10",
   "mimetype": "text/x-python",
   "codemirror_mode": {
    "name": "ipython",
    "version": 3
   },
   "pygments_lexer": "ipython3",
   "nbconvert_exporter": "python",
   "file_extension": ".py"
  },
  "kernelspec": {
   "name": "python3",
   "display_name": "Python 3.8.10 64-bit"
  },
  "interpreter": {
   "hash": "31f2aee4e71d21fbe5cf8b01ff0e069b9275f58929596ceb00d14d90e3e16cd6"
  }
 },
 "nbformat": 4,
 "nbformat_minor": 2
}