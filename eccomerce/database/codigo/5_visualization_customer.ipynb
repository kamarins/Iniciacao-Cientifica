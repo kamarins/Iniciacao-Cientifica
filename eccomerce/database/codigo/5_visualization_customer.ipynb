{
  "cells": [
    {
      "cell_type": "markdown",
      "metadata": {
        "id": "UzrH5sueIRoT"
      },
      "source": [
        "##Instalando bibliotecas"
      ]
    },
    {
      "cell_type": "code",
      "execution_count": null,
      "metadata": {
        "colab": {
          "base_uri": "https://localhost:8080/"
        },
        "id": "u-I02kpN7pWh",
        "outputId": "40ea914c-a16e-4884-a528-4fd9068fc75f"
      },
      "outputs": [
        {
          "name": "stdout",
          "output_type": "stream",
          "text": [
            "Looking in indexes: https://pypi.org/simple, https://us-python.pkg.dev/colab-wheels/public/simple/\n",
            "Requirement already satisfied: fsspec>=0.3.3 in /usr/local/lib/python3.7/dist-packages (2022.5.0)\n"
          ]
        }
      ],
      "source": [
        " !pip install 'fsspec>=0.3.3'"
      ]
    },
    {
      "cell_type": "markdown",
      "metadata": {
        "id": "7Ql2q4GxJLxd"
      },
      "source": [
        "##Importando Bibliotecas e arquivos do drive"
      ]
    },
    {
      "cell_type": "code",
      "execution_count": null,
      "metadata": {
        "id": "hZf4RcQC7VQC"
      },
      "outputs": [],
      "source": [
        "#import das bibliotecas necessárias\n",
        "import pandas as pd\n",
        "import dask.dataframe as dd\n",
        "import plotly.express as px"
      ]
    },
    {
      "cell_type": "code",
      "execution_count": null,
      "metadata": {
        "colab": {
          "base_uri": "https://localhost:8080/"
        },
        "id": "yVsCfJCo731-",
        "outputId": "1d3278e7-8018-4fda-f521-e8901f659ae9"
      },
      "outputs": [
        {
          "name": "stdout",
          "output_type": "stream",
          "text": [
            "Drive already mounted at /content/drive; to attempt to forcibly remount, call drive.mount(\"/content/drive\", force_remount=True).\n"
          ]
        }
      ],
      "source": [
        "#acessando arquivos do drive\n",
        "from google.colab import drive\n",
        "drive.mount('/content/drive')"
      ]
    },
    {
      "cell_type": "markdown",
      "metadata": {
        "id": "-DYILnNB7VQN"
      },
      "source": [
        "##Visualizações para customer \n",
        "\n",
        "\n"
      ]
    },
    {
      "cell_type": "code",
      "execution_count": null,
      "metadata": {
        "colab": {
          "background_save": true
        },
        "id": "16CxciDg7VQP",
        "outputId": "1bc07534-579f-4675-a2b5-3a7ff94ba520"
      },
      "outputs": [],
      "source": [
        "fig = px.scatter_mapbox(df, lat='costumer_lat', lon='costumer_lng',\n",
        "                        color_discrete_sequence=[\"fuchsia\"], zoom=3, height=1000)\n",
        "fig.update_layout(mapbox_style=\"open-street-map\")\n",
        "fig.update_layout(margin={\"r\":0,\"t\":0,\"l\":0,\"b\":0})\n",
        "fig.show()"
      ]
    },
    {
      "cell_type": "markdown",
      "metadata": {
        "id": "2N0gSoEVG8FC"
      },
      "source": [
        "###Price\n"
      ]
    },
    {
      "cell_type": "code",
      "execution_count": null,
      "metadata": {
        "colab": {
          "background_save": true
        },
        "id": "cv_0IEgX7VQQ",
        "outputId": "b074d58e-d29c-4832-bf73-9183502ad2ff"
      },
      "outputs": [],
      "source": [
        "fig = px.density_mapbox(df, lat='costumer_lat', lon='costumer_lng', z='price', radius=10,\n",
        "                        center=dict(lat=0, lon=180), zoom=0, height=1000,\n",
        "                        mapbox_style=\"stamen-terrain\")\n",
        "fig.show()"
      ]
    },
    {
      "cell_type": "markdown",
      "metadata": {
        "id": "8SnDOdpmIsYg"
      },
      "source": [
        "###Freight Value"
      ]
    },
    {
      "cell_type": "code",
      "execution_count": null,
      "metadata": {
        "colab": {
          "background_save": true
        },
        "id": "UCS-pSJD-XVX",
        "outputId": "da18969b-f09a-4312-8890-80560a8df504"
      },
      "outputs": [],
      "source": [
        "fig = px.density_mapbox(df, lat='costumer_lat', lon='costumer_lng', z='freight_value', radius=10,\n",
        "                        center=dict(lat=0, lon=180), zoom=0, height=1000,\n",
        "                        mapbox_style=\"stamen-terrain\")\n",
        "fig.show()"
      ]
    },
    {
      "cell_type": "markdown",
      "metadata": {
        "id": "MjEgCQhFL_KP"
      },
      "source": [
        "###Payment Sequential"
      ]
    },
    {
      "cell_type": "code",
      "execution_count": null,
      "metadata": {
        "colab": {
          "background_save": true
        },
        "id": "fOEymtIz_uyp",
        "outputId": "fe1f35d2-14f2-4d97-90d6-bc835a82a4a5"
      },
      "outputs": [],
      "source": [
        "fig = px.density_mapbox(df, lat='costumer_lat', lon='costumer_lng', z='payment_sequential', radius=10,\n",
        "                        center=dict(lat=0, lon=180), zoom=0, height=1000,\n",
        "                        mapbox_style=\"stamen-terrain\")\n",
        "fig.show()"
      ]
    },
    {
      "cell_type": "markdown",
      "metadata": {
        "id": "zM9zceiQMEtQ"
      },
      "source": [
        "###Payment installments"
      ]
    },
    {
      "cell_type": "code",
      "execution_count": null,
      "metadata": {
        "colab": {
          "background_save": true
        },
        "id": "2vqqTwC2-530",
        "outputId": "c4378d7b-d610-4ffe-96a4-84ab289ef402"
      },
      "outputs": [],
      "source": [
        "fig = px.density_mapbox(df, lat='costumer_lat', lon='costumer_lng', z='payment_installments', radius=10,\n",
        "                        center=dict(lat=0, lon=180), zoom=0, height=1000,\n",
        "                        mapbox_style=\"stamen-terrain\")\n",
        "fig.show()"
      ]
    },
    {
      "cell_type": "markdown",
      "metadata": {
        "id": "i9ndpR86MUu_"
      },
      "source": [
        "###Payment Value"
      ]
    },
    {
      "cell_type": "code",
      "execution_count": null,
      "metadata": {
        "colab": {
          "background_save": true
        },
        "id": "zdhqgirf8mnL",
        "outputId": "908025d2-113a-4790-ac7a-db255697836d"
      },
      "outputs": [],
      "source": [
        "fig = px.density_mapbox(df, lat='costumer_lat', lon='costumer_lng', z='payment_value', radius=10,\n",
        "                        center=dict(lat=0, lon=180), zoom=0, height=1000,\n",
        "                        mapbox_style=\"stamen-terrain\")\n",
        "fig.show()"
      ]
    },
    {
      "cell_type": "markdown",
      "metadata": {
        "id": "iwQ4NHYtNrXC"
      },
      "source": [
        "###Review Score"
      ]
    },
    {
      "cell_type": "code",
      "execution_count": null,
      "metadata": {
        "colab": {
          "background_save": true
        },
        "id": "5GqYv7EXNv5X",
        "outputId": "2721349a-f2fd-4bf0-b8e3-b6f4fcf530b7"
      },
      "outputs": [],
      "source": [
        "fig = px.density_mapbox(df, lat='costumer_lat', lon='costumer_lng', z='review_score', radius=10,\n",
        "                        center=dict(lat=0, lon=180), zoom=0, height=1000,\n",
        "                        mapbox_style=\"stamen-terrain\")\n",
        "fig.show()"
      ]
    },
    {
      "cell_type": "markdown",
      "metadata": {
        "id": "dcueI3QOPPjU"
      },
      "source": [
        "###Analises para os produtos: altura, largura e etx"
      ]
    },
    {
      "cell_type": "markdown",
      "metadata": {
        "id": "fbYKxFoMXPzW"
      },
      "source": [
        "####Description lenght"
      ]
    },
    {
      "cell_type": "code",
      "execution_count": null,
      "metadata": {
        "colab": {
          "background_save": true
        },
        "id": "7pvpMvViPVrG",
        "outputId": "4ba65ab3-6f7c-4f8d-bb24-046f5e28ea15"
      },
      "outputs": [],
      "source": [
        "fig = px.density_mapbox(df, lat='costumer_lat', lon='costumer_lng', z='product_description_lenght', radius=10,\n",
        "                        center=dict(lat=0, lon=180), zoom=0, height=1000,\n",
        "                        mapbox_style=\"stamen-terrain\")\n",
        "fig.show()"
      ]
    },
    {
      "cell_type": "markdown",
      "metadata": {
        "id": "B8WUxaP9ZaOO"
      },
      "source": [
        "####Photos"
      ]
    },
    {
      "cell_type": "code",
      "execution_count": null,
      "metadata": {
        "colab": {
          "background_save": true
        },
        "id": "J4UIEhHgZgU1",
        "outputId": "b183cf0e-b276-47d3-b499-52c0587c3d8b"
      },
      "outputs": [],
      "source": [
        "fig = px.density_mapbox(df, lat='costumer_lat', lon='costumer_lng', z='product_photos_qty', radius=10,\n",
        "                        center=dict(lat=0, lon=180), zoom=0, height=1000,\n",
        "                        mapbox_style=\"stamen-terrain\")\n",
        "fig.show()"
      ]
    },
    {
      "cell_type": "markdown",
      "metadata": {
        "id": "2BFhItvoZpLT"
      },
      "source": [
        "####Weight"
      ]
    },
    {
      "cell_type": "code",
      "execution_count": null,
      "metadata": {
        "colab": {
          "background_save": true
        },
        "id": "gqH20n6KZuJY",
        "outputId": "50a82492-98a3-4734-a390-e3859a137092"
      },
      "outputs": [],
      "source": [
        "fig = px.density_mapbox(df, lat='costumer_lat', lon='costumer_lng', z='product_weight_g', radius=10,\n",
        "                        center=dict(lat=0, lon=180), zoom=0, height=1000,\n",
        "                        mapbox_style=\"stamen-terrain\")\n",
        "fig.show()"
      ]
    },
    {
      "cell_type": "markdown",
      "metadata": {
        "id": "tNODYppgZu9l"
      },
      "source": [
        "####Lenght"
      ]
    },
    {
      "cell_type": "code",
      "execution_count": null,
      "metadata": {
        "colab": {
          "background_save": true
        },
        "id": "g5bnDyYpZ4tF",
        "outputId": "143394f3-7f26-4395-bf28-ba78fdb50a95"
      },
      "outputs": [],
      "source": [
        "fig = px.density_mapbox(df, lat='costumer_lat', lon='costumer_lng', z='product_length_cm', radius=10,\n",
        "                        center=dict(lat=0, lon=180), zoom=0, height=1000,\n",
        "                        mapbox_style=\"stamen-terrain\")\n",
        "fig.show()"
      ]
    },
    {
      "cell_type": "markdown",
      "metadata": {
        "id": "Vxdqu9cZZ7tc"
      },
      "source": [
        "####Height"
      ]
    },
    {
      "cell_type": "code",
      "execution_count": null,
      "metadata": {
        "colab": {
          "background_save": true
        },
        "id": "F9vXgeNFZ-9k",
        "outputId": "e86efd59-e546-43c3-8971-902531f08cba"
      },
      "outputs": [],
      "source": [
        "fig = px.density_mapbox(df, lat='costumer_lat', lon='costumer_lng', z='product_height_cm', radius=10,\n",
        "                        center=dict(lat=0, lon=180), zoom=0, height=1000,\n",
        "                        mapbox_style=\"stamen-terrain\")\n",
        "fig.show()"
      ]
    },
    {
      "cell_type": "markdown",
      "metadata": {
        "id": "g9X8IPCpaBu6"
      },
      "source": [
        "####Width\n",
        "\n"
      ]
    },
    {
      "cell_type": "code",
      "execution_count": null,
      "metadata": {
        "colab": {
          "background_save": true
        },
        "id": "Fenbm720aHv3",
        "outputId": "c4ca2001-7662-4375-9034-796859ec1517"
      },
      "outputs": [],
      "source": [
        "fig = px.density_mapbox(df, lat='costumer_lat', lon='costumer_lng', z='product_width_cm', radius=10,\n",
        "                        center=dict(lat=0, lon=180), zoom=0, height=1000,\n",
        "                        mapbox_style=\"stamen-terrain\")\n",
        "fig.show()"
      ]
    },
    {
      "cell_type": "markdown",
      "metadata": {
        "id": "faJaibdDRb0G"
      },
      "source": [
        "###Com as variaveis que foram codificadas\n"
      ]
    },
    {
      "cell_type": "code",
      "execution_count": null,
      "metadata": {
        "colab": {
          "background_save": true
        },
        "id": "gxLMixJIRNMs",
        "outputId": "11ad1cb9-b0dc-4e3f-9c93-12b24f23c258"
      },
      "outputs": [
        {
          "ename": "FileNotFoundError",
          "evalue": "ignored",
          "output_type": "error",
          "traceback": [
            "\u001b[0;31m---------------------------------------------------------------------------\u001b[0m",
            "\u001b[0;31mFileNotFoundError\u001b[0m                         Traceback (most recent call last)",
            "\u001b[0;32m<ipython-input-25-1cdfbe989730>\u001b[0m in \u001b[0;36m<module>\u001b[0;34m()\u001b[0m\n\u001b[0;32m----> 1\u001b[0;31m \u001b[0mdf_codificado\u001b[0m \u001b[0;34m=\u001b[0m \u001b[0mdd\u001b[0m\u001b[0;34m.\u001b[0m\u001b[0mread_csv\u001b[0m\u001b[0;34m(\u001b[0m\u001b[0;34m'/content/drive/MyDrive/Colab Notebooks/IC/eccomerce/database/olist_geoleocated_encoder.csv'\u001b[0m\u001b[0;34m)\u001b[0m\u001b[0;34m\u001b[0m\u001b[0;34m\u001b[0m\u001b[0m\n\u001b[0m",
            "\u001b[0;32m/usr/local/lib/python3.7/dist-packages/dask/dataframe/io/csv.py\u001b[0m in \u001b[0;36mread\u001b[0;34m(urlpath, blocksize, collection, lineterminator, compression, sample, enforce, assume_missing, storage_options, include_path_column, **kwargs)\u001b[0m\n\u001b[1;32m    576\u001b[0m             \u001b[0mstorage_options\u001b[0m\u001b[0;34m=\u001b[0m\u001b[0mstorage_options\u001b[0m\u001b[0;34m,\u001b[0m\u001b[0;34m\u001b[0m\u001b[0;34m\u001b[0m\u001b[0m\n\u001b[1;32m    577\u001b[0m             \u001b[0minclude_path_column\u001b[0m\u001b[0;34m=\u001b[0m\u001b[0minclude_path_column\u001b[0m\u001b[0;34m,\u001b[0m\u001b[0;34m\u001b[0m\u001b[0;34m\u001b[0m\u001b[0m\n\u001b[0;32m--> 578\u001b[0;31m             \u001b[0;34m**\u001b[0m\u001b[0mkwargs\u001b[0m\u001b[0;34m\u001b[0m\u001b[0;34m\u001b[0m\u001b[0m\n\u001b[0m\u001b[1;32m    579\u001b[0m         )\n\u001b[1;32m    580\u001b[0m \u001b[0;34m\u001b[0m\u001b[0m\n",
            "\u001b[0;32m/usr/local/lib/python3.7/dist-packages/dask/dataframe/io/csv.py\u001b[0m in \u001b[0;36mread_pandas\u001b[0;34m(reader, urlpath, blocksize, collection, lineterminator, compression, sample, enforce, assume_missing, storage_options, include_path_column, **kwargs)\u001b[0m\n\u001b[1;32m    403\u001b[0m         \u001b[0mcompression\u001b[0m\u001b[0;34m=\u001b[0m\u001b[0mcompression\u001b[0m\u001b[0;34m,\u001b[0m\u001b[0;34m\u001b[0m\u001b[0;34m\u001b[0m\u001b[0m\n\u001b[1;32m    404\u001b[0m         \u001b[0minclude_path\u001b[0m\u001b[0;34m=\u001b[0m\u001b[0minclude_path_column\u001b[0m\u001b[0;34m,\u001b[0m\u001b[0;34m\u001b[0m\u001b[0;34m\u001b[0m\u001b[0m\n\u001b[0;32m--> 405\u001b[0;31m         \u001b[0;34m**\u001b[0m\u001b[0;34m(\u001b[0m\u001b[0mstorage_options\u001b[0m \u001b[0;32mor\u001b[0m \u001b[0;34m{\u001b[0m\u001b[0;34m}\u001b[0m\u001b[0;34m)\u001b[0m\u001b[0;34m\u001b[0m\u001b[0;34m\u001b[0m\u001b[0m\n\u001b[0m\u001b[1;32m    406\u001b[0m     )\n\u001b[1;32m    407\u001b[0m \u001b[0;34m\u001b[0m\u001b[0m\n",
            "\u001b[0;32m/usr/local/lib/python3.7/dist-packages/dask/bytes/core.py\u001b[0m in \u001b[0;36mread_bytes\u001b[0;34m(urlpath, delimiter, not_zero, blocksize, sample, compression, include_path, **kwargs)\u001b[0m\n\u001b[1;32m    119\u001b[0m                     \u001b[0;34m\"To read, set blocksize=None\"\u001b[0m\u001b[0;34m\u001b[0m\u001b[0;34m\u001b[0m\u001b[0m\n\u001b[1;32m    120\u001b[0m                 )\n\u001b[0;32m--> 121\u001b[0;31m             \u001b[0msize\u001b[0m \u001b[0;34m=\u001b[0m \u001b[0mfs\u001b[0m\u001b[0;34m.\u001b[0m\u001b[0minfo\u001b[0m\u001b[0;34m(\u001b[0m\u001b[0mpath\u001b[0m\u001b[0;34m)\u001b[0m\u001b[0;34m[\u001b[0m\u001b[0;34m\"size\"\u001b[0m\u001b[0;34m]\u001b[0m\u001b[0;34m\u001b[0m\u001b[0;34m\u001b[0m\u001b[0m\n\u001b[0m\u001b[1;32m    122\u001b[0m             \u001b[0;32mif\u001b[0m \u001b[0msize\u001b[0m \u001b[0;32mis\u001b[0m \u001b[0;32mNone\u001b[0m\u001b[0;34m:\u001b[0m\u001b[0;34m\u001b[0m\u001b[0;34m\u001b[0m\u001b[0m\n\u001b[1;32m    123\u001b[0m                 raise ValueError(\n",
            "\u001b[0;32m/usr/local/lib/python3.7/dist-packages/fsspec/implementations/local.py\u001b[0m in \u001b[0;36minfo\u001b[0;34m(self, path, **kwargs)\u001b[0m\n\u001b[1;32m     78\u001b[0m             \u001b[0;31m# str or path-like\u001b[0m\u001b[0;34m\u001b[0m\u001b[0;34m\u001b[0m\u001b[0;34m\u001b[0m\u001b[0m\n\u001b[1;32m     79\u001b[0m             \u001b[0mpath\u001b[0m \u001b[0;34m=\u001b[0m \u001b[0mself\u001b[0m\u001b[0;34m.\u001b[0m\u001b[0m_strip_protocol\u001b[0m\u001b[0;34m(\u001b[0m\u001b[0mpath\u001b[0m\u001b[0;34m)\u001b[0m\u001b[0;34m\u001b[0m\u001b[0;34m\u001b[0m\u001b[0m\n\u001b[0;32m---> 80\u001b[0;31m             \u001b[0mout\u001b[0m \u001b[0;34m=\u001b[0m \u001b[0mos\u001b[0m\u001b[0;34m.\u001b[0m\u001b[0mstat\u001b[0m\u001b[0;34m(\u001b[0m\u001b[0mpath\u001b[0m\u001b[0;34m,\u001b[0m \u001b[0mfollow_symlinks\u001b[0m\u001b[0;34m=\u001b[0m\u001b[0;32mFalse\u001b[0m\u001b[0;34m)\u001b[0m\u001b[0;34m\u001b[0m\u001b[0;34m\u001b[0m\u001b[0m\n\u001b[0m\u001b[1;32m     81\u001b[0m             \u001b[0mlink\u001b[0m \u001b[0;34m=\u001b[0m \u001b[0mstat\u001b[0m\u001b[0;34m.\u001b[0m\u001b[0mS_ISLNK\u001b[0m\u001b[0;34m(\u001b[0m\u001b[0mout\u001b[0m\u001b[0;34m.\u001b[0m\u001b[0mst_mode\u001b[0m\u001b[0;34m)\u001b[0m\u001b[0;34m\u001b[0m\u001b[0;34m\u001b[0m\u001b[0m\n\u001b[1;32m     82\u001b[0m             \u001b[0;32mif\u001b[0m \u001b[0mlink\u001b[0m\u001b[0;34m:\u001b[0m\u001b[0;34m\u001b[0m\u001b[0;34m\u001b[0m\u001b[0m\n",
            "\u001b[0;31mFileNotFoundError\u001b[0m: [Errno 2] No such file or directory: '/content/drive/MyDrive/Colab Notebooks/IC/eccomerce/database/olist_geoleocated_encoder.csv'"
          ]
        }
      ],
      "source": [
        "df_codificado = dd.read_csv('/content/drive/MyDrive/Colab Notebooks/IC/eccomerce/database/dataframes/olist_geoleocated_encoder.csv')"
      ]
    },
    {
      "cell_type": "code",
      "execution_count": null,
      "metadata": {
        "colab": {
          "background_save": true
        },
        "id": "8goLhOmjYNou"
      },
      "outputs": [],
      "source": [
        "df_codificado = df_codificado.compute()"
      ]
    },
    {
      "cell_type": "code",
      "execution_count": null,
      "metadata": {
        "colab": {
          "background_save": true
        },
        "id": "ts87Qt-kRtw2"
      },
      "outputs": [],
      "source": [
        "df_codificado.info()"
      ]
    },
    {
      "cell_type": "markdown",
      "metadata": {
        "id": "XPjRUCE5aA48"
      },
      "source": [
        "####Product Category Name"
      ]
    },
    {
      "cell_type": "code",
      "execution_count": null,
      "metadata": {
        "colab": {
          "background_save": true
        },
        "id": "LyjmhMmZaAJL"
      },
      "outputs": [],
      "source": [
        "fig = px.density_mapbox(df_codificado, lat='costumer_lat', lon='costumer_lng', z='product_category_name', radius=10,\n",
        "                        center=dict(lat=0, lon=180), zoom=0, height=1000,\n",
        "                        mapbox_style=\"stamen-terrain\")\n",
        "fig.show()"
      ]
    },
    {
      "cell_type": "markdown",
      "metadata": {
        "id": "dKqr42qXaO1l"
      },
      "source": [
        "####Payment Type"
      ]
    },
    {
      "cell_type": "code",
      "execution_count": null,
      "metadata": {
        "colab": {
          "background_save": true
        },
        "id": "8plarZ77aROk"
      },
      "outputs": [],
      "source": [
        "fig = px.density_mapbox(df_codificado, lat='costumer_lat', lon='costumer_lng', z='payment_type', radius=10,\n",
        "                        center=dict(lat=0, lon=180), zoom=0, height=1000,\n",
        "                        mapbox_style=\"stamen-terrain\")\n",
        "fig.show()"
      ]
    },
    {
      "cell_type": "markdown",
      "metadata": {
        "id": "q3MBYh0J7q0L"
      },
      "source": [
        "####Order Status"
      ]
    },
    {
      "cell_type": "code",
      "execution_count": null,
      "metadata": {
        "colab": {
          "background_save": true
        },
        "id": "n_bPo7hm8AGo"
      },
      "outputs": [],
      "source": [
        "fig = px.density_mapbox(df_codificado, lat='costumer_lat', lon='costumer_lng', z='order_status', radius=10,\n",
        "                        center=dict(lat=0, lon=180), zoom=0, height=1000,\n",
        "                        mapbox_style=\"stamen-terrain\")\n",
        "fig.show()"
      ]
    }
  ],
  "metadata": {
    "colab": {
      "collapsed_sections": [
        "MjEgCQhFL_KP",
        "zM9zceiQMEtQ",
        "dcueI3QOPPjU"
      ],
      "name": "5-visualization_costumer (1).ipynb",
      "provenance": []
    },
    "interpreter": {
      "hash": "31f2aee4e71d21fbe5cf8b01ff0e069b9275f58929596ceb00d14d90e3e16cd6"
    },
    "kernelspec": {
      "display_name": "Python 3.8.10 64-bit",
      "name": "python3"
    },
    "language_info": {
      "codemirror_mode": {
        "name": "ipython",
        "version": 3
      },
      "file_extension": ".py",
      "mimetype": "text/x-python",
      "name": "python",
      "nbconvert_exporter": "python",
      "pygments_lexer": "ipython3",
      "version": "3.8.10"
    }
  },
  "nbformat": 4,
  "nbformat_minor": 0
}
