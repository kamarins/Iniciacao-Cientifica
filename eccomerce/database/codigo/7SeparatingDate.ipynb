{
  "cells": [
    {
      "cell_type": "markdown",
      "metadata": {
        "id": "TfRblVjMBGT3"
      },
      "source": [
        "##Instalando bibliotecas\n",
        "\n"
      ]
    },
    {
      "cell_type": "code",
      "execution_count": 1,
      "metadata": {
        "colab": {
          "base_uri": "https://localhost:8080/"
        },
        "id": "hVhIjet39z1k",
        "outputId": "f3b9bf56-9247-4182-a11e-e7143eb1692d"
      },
      "outputs": [
        {
          "output_type": "stream",
          "name": "stdout",
          "text": [
            "Looking in indexes: https://pypi.org/simple, https://us-python.pkg.dev/colab-wheels/public/simple/\n",
            "Collecting fsspec>=0.3.3\n",
            "  Downloading fsspec-2022.5.0-py3-none-any.whl (140 kB)\n",
            "\u001b[K     |████████████████████████████████| 140 kB 5.7 MB/s \n",
            "\u001b[?25hInstalling collected packages: fsspec\n",
            "Successfully installed fsspec-2022.5.0\n"
          ]
        }
      ],
      "source": [
        " !pip install 'fsspec>=0.3.3'"
      ]
    },
    {
      "cell_type": "markdown",
      "metadata": {
        "id": "LR9Q-UPIBMUH"
      },
      "source": [
        "##Importando bibliotecas e arquivos do drive\n"
      ]
    },
    {
      "cell_type": "code",
      "execution_count": 2,
      "metadata": {
        "id": "tAhV8AP995Tb"
      },
      "outputs": [],
      "source": [
        "import dask.dataframe as dd\n",
        "import pandas as pd\n",
        "import numpy as np"
      ]
    },
    {
      "cell_type": "code",
      "execution_count": 3,
      "metadata": {
        "colab": {
          "base_uri": "https://localhost:8080/"
        },
        "id": "_AY0zKUt95-L",
        "outputId": "240ea192-a71d-4c28-8077-4468eef7dbbb"
      },
      "outputs": [
        {
          "output_type": "stream",
          "name": "stdout",
          "text": [
            "Mounted at /content/drive\n"
          ]
        }
      ],
      "source": [
        "from google.colab import drive\n",
        "\n",
        "drive.mount('/content/drive')"
      ]
    },
    {
      "cell_type": "code",
      "execution_count": 4,
      "metadata": {
        "id": "pHtD82tC-Qo7"
      },
      "outputs": [],
      "source": [
        "df = dd.read_csv('/content/drive/MyDrive/Colab Notebooks/IC/eccomerce/database/dataframes/olist_geoleocated_time_prediction.csv')"
      ]
    },
    {
      "cell_type": "code",
      "execution_count": 5,
      "metadata": {
        "id": "Aku5TtXz_pSa"
      },
      "outputs": [],
      "source": [
        "df = df.compute()"
      ]
    },
    {
      "cell_type": "code",
      "execution_count": 6,
      "metadata": {
        "colab": {
          "base_uri": "https://localhost:8080/"
        },
        "id": "1H1BCOpw_nrD",
        "outputId": "a6ed5ec0-a76a-4b3e-86e9-a2ac0f8b6b54"
      },
      "outputs": [
        {
          "output_type": "stream",
          "name": "stdout",
          "text": [
            "<class 'pandas.core.frame.DataFrame'>\n",
            "RangeIndex: 112660 entries, 0 to 112659\n",
            "Data columns (total 45 columns):\n",
            " #   Column                         Non-Null Count   Dtype  \n",
            "---  ------                         --------------   -----  \n",
            " 0   order_id                       112660 non-null  int64  \n",
            " 1   order_item_id                  112660 non-null  float64\n",
            " 2   product_id                     112660 non-null  int64  \n",
            " 3   seller_id                      112660 non-null  int64  \n",
            " 4   shipping_limit_date            112660 non-null  object \n",
            " 5   price                          112660 non-null  float64\n",
            " 6   freight_value                  112660 non-null  float64\n",
            " 7   payment_sequential             112660 non-null  float64\n",
            " 8   payment_type                   112660 non-null  int64  \n",
            " 9   payment_installments           112660 non-null  float64\n",
            " 10  payment_value                  112660 non-null  float64\n",
            " 11  review_id                      112660 non-null  int64  \n",
            " 12  review_score                   112660 non-null  float64\n",
            " 13  review_comment_title           112660 non-null  int64  \n",
            " 14  review_comment_message         112660 non-null  int64  \n",
            " 15  review_creation_date           112660 non-null  object \n",
            " 16  review_answer_timestamp        112660 non-null  object \n",
            " 17  customer_id                    112660 non-null  int64  \n",
            " 18  order_status                   112660 non-null  int64  \n",
            " 19  order_purchase_timestamp       112660 non-null  object \n",
            " 20  order_approved_at              112660 non-null  object \n",
            " 21  order_delivered_carrier_date   112660 non-null  object \n",
            " 22  order_delivered_customer_date  112660 non-null  object \n",
            " 23  order_estimated_delivery_date  112660 non-null  object \n",
            " 24  customer_unique_id             112660 non-null  int64  \n",
            " 25  customer_zip_code_prefix       112660 non-null  int64  \n",
            " 26  customer_city                  112660 non-null  int64  \n",
            " 27  customer_state                 112660 non-null  int64  \n",
            " 28  seller_zip_code_prefix         112660 non-null  float64\n",
            " 29  seller_city                    112660 non-null  int64  \n",
            " 30  seller_state                   112660 non-null  int64  \n",
            " 31  product_category_name          112660 non-null  int64  \n",
            " 32  product_name_lenght            112660 non-null  float64\n",
            " 33  product_description_lenght     112660 non-null  float64\n",
            " 34  product_photos_qty             112660 non-null  float64\n",
            " 35  product_weight_g               112660 non-null  float64\n",
            " 36  product_length_cm              112660 non-null  float64\n",
            " 37  product_height_cm              112660 non-null  float64\n",
            " 38  product_width_cm               112660 non-null  float64\n",
            " 39  costumer_lat                   112660 non-null  float64\n",
            " 40  costumer_lng                   112660 non-null  float64\n",
            " 41  seller_lat                     112660 non-null  float64\n",
            " 42  seller_lng                     112660 non-null  float64\n",
            " 43  days_to_delivery               111237 non-null  float64\n",
            " 44  early_delivery                 112660 non-null  int64  \n",
            "dtypes: float64(20), int64(17), object(8)\n",
            "memory usage: 38.7+ MB\n"
          ]
        }
      ],
      "source": [
        "df.info()"
      ]
    },
    {
      "cell_type": "code",
      "execution_count": 7,
      "metadata": {
        "colab": {
          "base_uri": "https://localhost:8080/",
          "height": 456
        },
        "id": "lXwzzWxfoCeC",
        "outputId": "ef74f2f1-4b1d-4031-906c-8e410c8e83d3"
      },
      "outputs": [
        {
          "output_type": "execute_result",
          "data": {
            "text/plain": [
              "   order_id  order_item_id  product_id  seller_id  shipping_limit_date  price  \\\n",
              "0         0            1.0        8216        812  2017-09-19 09:45:35   58.9   \n",
              "1      7014            1.0        8216        812  2017-07-05 02:44:11   55.9   \n",
              "2     30559            1.0        8216        812  2018-05-23 10:56:25   64.9   \n",
              "3     40954            1.0        8216        812  2017-08-07 18:55:08   58.9   \n",
              "4     45875            1.0        8216        812  2017-08-16 22:05:11   58.9   \n",
              "5     58794            1.0        8216        812  2017-08-03 15:23:46   55.9   \n",
              "6     69027            1.0        8216        812  2018-03-26 03:28:44   64.9   \n",
              "7     74190            2.0        8216        812  2017-08-14 04:25:34   58.9   \n",
              "8     74190            1.0        8359        812  2017-08-14 04:25:34   58.9   \n",
              "9     82148            1.0        8216        812  2017-06-09 14:31:21   55.9   \n",
              "\n",
              "   freight_value  payment_sequential  payment_type  payment_installments  ...  \\\n",
              "0          13.29                 1.0             1                   2.0  ...   \n",
              "1          17.96                 1.0             0                   1.0  ...   \n",
              "2          18.33                 1.0             1                   2.0  ...   \n",
              "3          16.17                 1.0             1                   3.0  ...   \n",
              "4          13.29                 1.0             1                   4.0  ...   \n",
              "5          26.93                 1.0             1                   1.0  ...   \n",
              "6          38.50                 1.0             0                   1.0  ...   \n",
              "7          18.12                 1.0             0                   1.0  ...   \n",
              "8          17.83                 1.0             0                   1.0  ...   \n",
              "9          35.71                 2.0             3                   1.0  ...   \n",
              "\n",
              "   product_weight_g  product_length_cm  product_height_cm  product_width_cm  \\\n",
              "0             650.0               28.0                9.0              14.0   \n",
              "1             650.0               28.0                9.0              14.0   \n",
              "2             650.0               28.0                9.0              14.0   \n",
              "3             650.0               28.0                9.0              14.0   \n",
              "4             650.0               28.0                9.0              14.0   \n",
              "5             650.0               28.0                9.0              14.0   \n",
              "6             650.0               28.0                9.0              14.0   \n",
              "7             650.0               28.0                9.0              14.0   \n",
              "8             530.0               30.0                9.0              14.0   \n",
              "9             650.0               28.0                9.0              14.0   \n",
              "\n",
              "   costumer_lat costumer_lng seller_lat  seller_lng  days_to_delivery  \\\n",
              "0    -21.763186   -41.310265 -22.497188  -44.127324               6.0   \n",
              "1    -17.884803   -51.717167 -22.497188  -44.127324               6.0   \n",
              "2    -19.913964   -43.976106 -22.497188  -44.127324               5.0   \n",
              "3    -25.520334   -49.124988 -22.497188  -44.127324               1.0   \n",
              "4    -20.655379   -43.776331 -22.497188  -44.127324               1.0   \n",
              "5    -12.906138   -39.192076 -22.497188  -44.127324               5.0   \n",
              "6    -15.036469   -41.260324 -22.497188  -44.127324               0.0   \n",
              "7    -17.782743   -50.917956 -22.497188  -44.127324               2.0   \n",
              "8    -17.782743   -50.917956 -22.497188  -44.127324               2.0   \n",
              "9     -7.957598   -34.874754 -22.497188  -44.127324               2.0   \n",
              "\n",
              "  early_delivery  \n",
              "0             10  \n",
              "1             21  \n",
              "2             15  \n",
              "3             23  \n",
              "4             21  \n",
              "5             22  \n",
              "6             23  \n",
              "7             27  \n",
              "8             27  \n",
              "9             29  \n",
              "\n",
              "[10 rows x 45 columns]"
            ],
            "text/html": [
              "\n",
              "  <div id=\"df-8e0d74f4-dbcd-4e28-abd0-a559e44df232\">\n",
              "    <div class=\"colab-df-container\">\n",
              "      <div>\n",
              "<style scoped>\n",
              "    .dataframe tbody tr th:only-of-type {\n",
              "        vertical-align: middle;\n",
              "    }\n",
              "\n",
              "    .dataframe tbody tr th {\n",
              "        vertical-align: top;\n",
              "    }\n",
              "\n",
              "    .dataframe thead th {\n",
              "        text-align: right;\n",
              "    }\n",
              "</style>\n",
              "<table border=\"1\" class=\"dataframe\">\n",
              "  <thead>\n",
              "    <tr style=\"text-align: right;\">\n",
              "      <th></th>\n",
              "      <th>order_id</th>\n",
              "      <th>order_item_id</th>\n",
              "      <th>product_id</th>\n",
              "      <th>seller_id</th>\n",
              "      <th>shipping_limit_date</th>\n",
              "      <th>price</th>\n",
              "      <th>freight_value</th>\n",
              "      <th>payment_sequential</th>\n",
              "      <th>payment_type</th>\n",
              "      <th>payment_installments</th>\n",
              "      <th>...</th>\n",
              "      <th>product_weight_g</th>\n",
              "      <th>product_length_cm</th>\n",
              "      <th>product_height_cm</th>\n",
              "      <th>product_width_cm</th>\n",
              "      <th>costumer_lat</th>\n",
              "      <th>costumer_lng</th>\n",
              "      <th>seller_lat</th>\n",
              "      <th>seller_lng</th>\n",
              "      <th>days_to_delivery</th>\n",
              "      <th>early_delivery</th>\n",
              "    </tr>\n",
              "  </thead>\n",
              "  <tbody>\n",
              "    <tr>\n",
              "      <th>0</th>\n",
              "      <td>0</td>\n",
              "      <td>1.0</td>\n",
              "      <td>8216</td>\n",
              "      <td>812</td>\n",
              "      <td>2017-09-19 09:45:35</td>\n",
              "      <td>58.9</td>\n",
              "      <td>13.29</td>\n",
              "      <td>1.0</td>\n",
              "      <td>1</td>\n",
              "      <td>2.0</td>\n",
              "      <td>...</td>\n",
              "      <td>650.0</td>\n",
              "      <td>28.0</td>\n",
              "      <td>9.0</td>\n",
              "      <td>14.0</td>\n",
              "      <td>-21.763186</td>\n",
              "      <td>-41.310265</td>\n",
              "      <td>-22.497188</td>\n",
              "      <td>-44.127324</td>\n",
              "      <td>6.0</td>\n",
              "      <td>10</td>\n",
              "    </tr>\n",
              "    <tr>\n",
              "      <th>1</th>\n",
              "      <td>7014</td>\n",
              "      <td>1.0</td>\n",
              "      <td>8216</td>\n",
              "      <td>812</td>\n",
              "      <td>2017-07-05 02:44:11</td>\n",
              "      <td>55.9</td>\n",
              "      <td>17.96</td>\n",
              "      <td>1.0</td>\n",
              "      <td>0</td>\n",
              "      <td>1.0</td>\n",
              "      <td>...</td>\n",
              "      <td>650.0</td>\n",
              "      <td>28.0</td>\n",
              "      <td>9.0</td>\n",
              "      <td>14.0</td>\n",
              "      <td>-17.884803</td>\n",
              "      <td>-51.717167</td>\n",
              "      <td>-22.497188</td>\n",
              "      <td>-44.127324</td>\n",
              "      <td>6.0</td>\n",
              "      <td>21</td>\n",
              "    </tr>\n",
              "    <tr>\n",
              "      <th>2</th>\n",
              "      <td>30559</td>\n",
              "      <td>1.0</td>\n",
              "      <td>8216</td>\n",
              "      <td>812</td>\n",
              "      <td>2018-05-23 10:56:25</td>\n",
              "      <td>64.9</td>\n",
              "      <td>18.33</td>\n",
              "      <td>1.0</td>\n",
              "      <td>1</td>\n",
              "      <td>2.0</td>\n",
              "      <td>...</td>\n",
              "      <td>650.0</td>\n",
              "      <td>28.0</td>\n",
              "      <td>9.0</td>\n",
              "      <td>14.0</td>\n",
              "      <td>-19.913964</td>\n",
              "      <td>-43.976106</td>\n",
              "      <td>-22.497188</td>\n",
              "      <td>-44.127324</td>\n",
              "      <td>5.0</td>\n",
              "      <td>15</td>\n",
              "    </tr>\n",
              "    <tr>\n",
              "      <th>3</th>\n",
              "      <td>40954</td>\n",
              "      <td>1.0</td>\n",
              "      <td>8216</td>\n",
              "      <td>812</td>\n",
              "      <td>2017-08-07 18:55:08</td>\n",
              "      <td>58.9</td>\n",
              "      <td>16.17</td>\n",
              "      <td>1.0</td>\n",
              "      <td>1</td>\n",
              "      <td>3.0</td>\n",
              "      <td>...</td>\n",
              "      <td>650.0</td>\n",
              "      <td>28.0</td>\n",
              "      <td>9.0</td>\n",
              "      <td>14.0</td>\n",
              "      <td>-25.520334</td>\n",
              "      <td>-49.124988</td>\n",
              "      <td>-22.497188</td>\n",
              "      <td>-44.127324</td>\n",
              "      <td>1.0</td>\n",
              "      <td>23</td>\n",
              "    </tr>\n",
              "    <tr>\n",
              "      <th>4</th>\n",
              "      <td>45875</td>\n",
              "      <td>1.0</td>\n",
              "      <td>8216</td>\n",
              "      <td>812</td>\n",
              "      <td>2017-08-16 22:05:11</td>\n",
              "      <td>58.9</td>\n",
              "      <td>13.29</td>\n",
              "      <td>1.0</td>\n",
              "      <td>1</td>\n",
              "      <td>4.0</td>\n",
              "      <td>...</td>\n",
              "      <td>650.0</td>\n",
              "      <td>28.0</td>\n",
              "      <td>9.0</td>\n",
              "      <td>14.0</td>\n",
              "      <td>-20.655379</td>\n",
              "      <td>-43.776331</td>\n",
              "      <td>-22.497188</td>\n",
              "      <td>-44.127324</td>\n",
              "      <td>1.0</td>\n",
              "      <td>21</td>\n",
              "    </tr>\n",
              "    <tr>\n",
              "      <th>5</th>\n",
              "      <td>58794</td>\n",
              "      <td>1.0</td>\n",
              "      <td>8216</td>\n",
              "      <td>812</td>\n",
              "      <td>2017-08-03 15:23:46</td>\n",
              "      <td>55.9</td>\n",
              "      <td>26.93</td>\n",
              "      <td>1.0</td>\n",
              "      <td>1</td>\n",
              "      <td>1.0</td>\n",
              "      <td>...</td>\n",
              "      <td>650.0</td>\n",
              "      <td>28.0</td>\n",
              "      <td>9.0</td>\n",
              "      <td>14.0</td>\n",
              "      <td>-12.906138</td>\n",
              "      <td>-39.192076</td>\n",
              "      <td>-22.497188</td>\n",
              "      <td>-44.127324</td>\n",
              "      <td>5.0</td>\n",
              "      <td>22</td>\n",
              "    </tr>\n",
              "    <tr>\n",
              "      <th>6</th>\n",
              "      <td>69027</td>\n",
              "      <td>1.0</td>\n",
              "      <td>8216</td>\n",
              "      <td>812</td>\n",
              "      <td>2018-03-26 03:28:44</td>\n",
              "      <td>64.9</td>\n",
              "      <td>38.50</td>\n",
              "      <td>1.0</td>\n",
              "      <td>0</td>\n",
              "      <td>1.0</td>\n",
              "      <td>...</td>\n",
              "      <td>650.0</td>\n",
              "      <td>28.0</td>\n",
              "      <td>9.0</td>\n",
              "      <td>14.0</td>\n",
              "      <td>-15.036469</td>\n",
              "      <td>-41.260324</td>\n",
              "      <td>-22.497188</td>\n",
              "      <td>-44.127324</td>\n",
              "      <td>0.0</td>\n",
              "      <td>23</td>\n",
              "    </tr>\n",
              "    <tr>\n",
              "      <th>7</th>\n",
              "      <td>74190</td>\n",
              "      <td>2.0</td>\n",
              "      <td>8216</td>\n",
              "      <td>812</td>\n",
              "      <td>2017-08-14 04:25:34</td>\n",
              "      <td>58.9</td>\n",
              "      <td>18.12</td>\n",
              "      <td>1.0</td>\n",
              "      <td>0</td>\n",
              "      <td>1.0</td>\n",
              "      <td>...</td>\n",
              "      <td>650.0</td>\n",
              "      <td>28.0</td>\n",
              "      <td>9.0</td>\n",
              "      <td>14.0</td>\n",
              "      <td>-17.782743</td>\n",
              "      <td>-50.917956</td>\n",
              "      <td>-22.497188</td>\n",
              "      <td>-44.127324</td>\n",
              "      <td>2.0</td>\n",
              "      <td>27</td>\n",
              "    </tr>\n",
              "    <tr>\n",
              "      <th>8</th>\n",
              "      <td>74190</td>\n",
              "      <td>1.0</td>\n",
              "      <td>8359</td>\n",
              "      <td>812</td>\n",
              "      <td>2017-08-14 04:25:34</td>\n",
              "      <td>58.9</td>\n",
              "      <td>17.83</td>\n",
              "      <td>1.0</td>\n",
              "      <td>0</td>\n",
              "      <td>1.0</td>\n",
              "      <td>...</td>\n",
              "      <td>530.0</td>\n",
              "      <td>30.0</td>\n",
              "      <td>9.0</td>\n",
              "      <td>14.0</td>\n",
              "      <td>-17.782743</td>\n",
              "      <td>-50.917956</td>\n",
              "      <td>-22.497188</td>\n",
              "      <td>-44.127324</td>\n",
              "      <td>2.0</td>\n",
              "      <td>27</td>\n",
              "    </tr>\n",
              "    <tr>\n",
              "      <th>9</th>\n",
              "      <td>82148</td>\n",
              "      <td>1.0</td>\n",
              "      <td>8216</td>\n",
              "      <td>812</td>\n",
              "      <td>2017-06-09 14:31:21</td>\n",
              "      <td>55.9</td>\n",
              "      <td>35.71</td>\n",
              "      <td>2.0</td>\n",
              "      <td>3</td>\n",
              "      <td>1.0</td>\n",
              "      <td>...</td>\n",
              "      <td>650.0</td>\n",
              "      <td>28.0</td>\n",
              "      <td>9.0</td>\n",
              "      <td>14.0</td>\n",
              "      <td>-7.957598</td>\n",
              "      <td>-34.874754</td>\n",
              "      <td>-22.497188</td>\n",
              "      <td>-44.127324</td>\n",
              "      <td>2.0</td>\n",
              "      <td>29</td>\n",
              "    </tr>\n",
              "  </tbody>\n",
              "</table>\n",
              "<p>10 rows × 45 columns</p>\n",
              "</div>\n",
              "      <button class=\"colab-df-convert\" onclick=\"convertToInteractive('df-8e0d74f4-dbcd-4e28-abd0-a559e44df232')\"\n",
              "              title=\"Convert this dataframe to an interactive table.\"\n",
              "              style=\"display:none;\">\n",
              "        \n",
              "  <svg xmlns=\"http://www.w3.org/2000/svg\" height=\"24px\"viewBox=\"0 0 24 24\"\n",
              "       width=\"24px\">\n",
              "    <path d=\"M0 0h24v24H0V0z\" fill=\"none\"/>\n",
              "    <path d=\"M18.56 5.44l.94 2.06.94-2.06 2.06-.94-2.06-.94-.94-2.06-.94 2.06-2.06.94zm-11 1L8.5 8.5l.94-2.06 2.06-.94-2.06-.94L8.5 2.5l-.94 2.06-2.06.94zm10 10l.94 2.06.94-2.06 2.06-.94-2.06-.94-.94-2.06-.94 2.06-2.06.94z\"/><path d=\"M17.41 7.96l-1.37-1.37c-.4-.4-.92-.59-1.43-.59-.52 0-1.04.2-1.43.59L10.3 9.45l-7.72 7.72c-.78.78-.78 2.05 0 2.83L4 21.41c.39.39.9.59 1.41.59.51 0 1.02-.2 1.41-.59l7.78-7.78 2.81-2.81c.8-.78.8-2.07 0-2.86zM5.41 20L4 18.59l7.72-7.72 1.47 1.35L5.41 20z\"/>\n",
              "  </svg>\n",
              "      </button>\n",
              "      \n",
              "  <style>\n",
              "    .colab-df-container {\n",
              "      display:flex;\n",
              "      flex-wrap:wrap;\n",
              "      gap: 12px;\n",
              "    }\n",
              "\n",
              "    .colab-df-convert {\n",
              "      background-color: #E8F0FE;\n",
              "      border: none;\n",
              "      border-radius: 50%;\n",
              "      cursor: pointer;\n",
              "      display: none;\n",
              "      fill: #1967D2;\n",
              "      height: 32px;\n",
              "      padding: 0 0 0 0;\n",
              "      width: 32px;\n",
              "    }\n",
              "\n",
              "    .colab-df-convert:hover {\n",
              "      background-color: #E2EBFA;\n",
              "      box-shadow: 0px 1px 2px rgba(60, 64, 67, 0.3), 0px 1px 3px 1px rgba(60, 64, 67, 0.15);\n",
              "      fill: #174EA6;\n",
              "    }\n",
              "\n",
              "    [theme=dark] .colab-df-convert {\n",
              "      background-color: #3B4455;\n",
              "      fill: #D2E3FC;\n",
              "    }\n",
              "\n",
              "    [theme=dark] .colab-df-convert:hover {\n",
              "      background-color: #434B5C;\n",
              "      box-shadow: 0px 1px 3px 1px rgba(0, 0, 0, 0.15);\n",
              "      filter: drop-shadow(0px 1px 2px rgba(0, 0, 0, 0.3));\n",
              "      fill: #FFFFFF;\n",
              "    }\n",
              "  </style>\n",
              "\n",
              "      <script>\n",
              "        const buttonEl =\n",
              "          document.querySelector('#df-8e0d74f4-dbcd-4e28-abd0-a559e44df232 button.colab-df-convert');\n",
              "        buttonEl.style.display =\n",
              "          google.colab.kernel.accessAllowed ? 'block' : 'none';\n",
              "\n",
              "        async function convertToInteractive(key) {\n",
              "          const element = document.querySelector('#df-8e0d74f4-dbcd-4e28-abd0-a559e44df232');\n",
              "          const dataTable =\n",
              "            await google.colab.kernel.invokeFunction('convertToInteractive',\n",
              "                                                     [key], {});\n",
              "          if (!dataTable) return;\n",
              "\n",
              "          const docLinkHtml = 'Like what you see? Visit the ' +\n",
              "            '<a target=\"_blank\" href=https://colab.research.google.com/notebooks/data_table.ipynb>data table notebook</a>'\n",
              "            + ' to learn more about interactive tables.';\n",
              "          element.innerHTML = '';\n",
              "          dataTable['output_type'] = 'display_data';\n",
              "          await google.colab.output.renderOutput(dataTable, element);\n",
              "          const docLink = document.createElement('div');\n",
              "          docLink.innerHTML = docLinkHtml;\n",
              "          element.appendChild(docLink);\n",
              "        }\n",
              "      </script>\n",
              "    </div>\n",
              "  </div>\n",
              "  "
            ]
          },
          "metadata": {},
          "execution_count": 7
        }
      ],
      "source": [
        "df.head(10)"
      ]
    },
    {
      "cell_type": "code",
      "execution_count": 8,
      "metadata": {
        "id": "NLSW6uPoAomY"
      },
      "outputs": [],
      "source": [
        "#transformando em datas pelo pandas\n",
        "for col in df[['review_creation_date','order_approved_at','order_delivered_carrier_date','order_estimated_delivery_date','shipping_limit_date','review_answer_timestamp','order_purchase_timestamp','order_approved_at','order_delivered_carrier_date','order_delivered_customer_date']]:\n",
        "    df[col] = pd.to_datetime(df[col])"
      ]
    },
    {
      "cell_type": "markdown",
      "metadata": {
        "id": "yiCdhhJI6idF"
      },
      "source": [
        "##Separando datas em novas colunas\n",
        "\n"
      ]
    },
    {
      "cell_type": "code",
      "execution_count": 9,
      "metadata": {
        "id": "rkribqi1Cb2Z"
      },
      "outputs": [],
      "source": [
        "#separando dia\n",
        "def day_shipping(data):\n",
        "    return data['shipping_limit_date'].day\n",
        "\n",
        "df[\"day_shipping\"] = df.apply(day_shipping, axis = 1)\n",
        "\n",
        "#separando mes\n",
        "def month_shipping(data):\n",
        "    return data['shipping_limit_date'].month\n",
        "\n",
        "df[\"month_shipping\"] = df.apply(month_shipping, axis = 1)\n",
        "\n",
        "#separando ano\n",
        "def year_shipping(data):\n",
        "    return data['shipping_limit_date'].year\n",
        "\n",
        "df[\"year_shipping\"] = df.apply(year_shipping, axis = 1)"
      ]
    },
    {
      "cell_type": "code",
      "execution_count": 10,
      "metadata": {
        "id": "hBcsmAcxCvPf"
      },
      "outputs": [],
      "source": [
        "#separando dia\n",
        "def day_review_creation(data):\n",
        "    return data['review_creation_date'].day\n",
        "\n",
        "df[\"day_review_creation\"] = df.apply(day_review_creation, axis = 1)\n",
        "\n",
        "#separando mes\n",
        "def month_review_creation(data):\n",
        "    return data['review_creation_date'].month\n",
        "\n",
        "df[\"month_review_creation\"] = df.apply(month_review_creation, axis = 1)\n",
        "\n",
        "#separando ano\n",
        "def year_review_creation(data):\n",
        "    return data['review_creation_date'].year\n",
        "\n",
        "df[\"year_review_creation\"] = df.apply(year_review_creation, axis = 1)"
      ]
    },
    {
      "cell_type": "code",
      "execution_count": 11,
      "metadata": {
        "id": "DZhSUtIKDqRZ"
      },
      "outputs": [],
      "source": [
        "#separando dia\n",
        "def day_review_answer(data):\n",
        "    return data['review_answer_timestamp'].day\n",
        "\n",
        "df[\"day_review_answer\"] = df.apply(day_review_answer, axis = 1)\n",
        "\n",
        "#separando mes\n",
        "def month_review_answer(data):\n",
        "    return data['review_answer_timestamp'].month\n",
        "\n",
        "df[\"month_review_answer\"] = df.apply(month_review_answer, axis = 1)\n",
        "\n",
        "#separando ano\n",
        "def year_review_answer(data):\n",
        "    return data['review_answer_timestamp'].year\n",
        "\n",
        "df[\"year_review_answer\"] = df.apply(year_review_answer, axis = 1)"
      ]
    },
    {
      "cell_type": "code",
      "execution_count": 12,
      "metadata": {
        "id": "UafMHnyhHVJY"
      },
      "outputs": [],
      "source": [
        "#separando dia\n",
        "def day_order_purchase_timestamp(data):\n",
        "    return data['order_purchase_timestamp'].day\n",
        "\n",
        "df[\"day_order_purchase_timestamp\"] = df.apply(day_order_purchase_timestamp, axis = 1)\n",
        "\n",
        "#separando mes\n",
        "def month_order_purchase_timestamp(data):\n",
        "    return data['order_purchase_timestamp'].month\n",
        "\n",
        "df[\"month_order_purchase_timestamp\"] = df.apply(month_order_purchase_timestamp, axis = 1)\n",
        "\n",
        "#separando ano\n",
        "def year_order_purchase_timestamp(data):\n",
        "    return data['order_purchase_timestamp'].year\n",
        "\n",
        "df[\"year_order_purchase_timestamp\"] = df.apply(year_order_purchase_timestamp, axis = 1)"
      ]
    },
    {
      "cell_type": "code",
      "execution_count": 13,
      "metadata": {
        "id": "JiLGtJ5xEwvg"
      },
      "outputs": [],
      "source": [
        "#separando dia\n",
        "def day_order_approved(data):\n",
        "    return data['order_approved_at'].day\n",
        "\n",
        "df[\"day_order_approved\"] = df.apply(day_order_approved, axis = 1)\n",
        "\n",
        "#separando mes\n",
        "def month_order_approved(data):\n",
        "    return data['order_approved_at'].month\n",
        "\n",
        "df[\"month_order_approved\"] = df.apply(month_order_approved, axis = 1)\n",
        "\n",
        "#separando ano\n",
        "def year_order_approved(data):\n",
        "    return data['order_approved_at'].year\n",
        "\n",
        "df[\"year_order_approved\"] = df.apply(year_order_approved, axis = 1)"
      ]
    },
    {
      "cell_type": "code",
      "execution_count": 14,
      "metadata": {
        "id": "jSk79rM3I8mB"
      },
      "outputs": [],
      "source": [
        "#separando dia\n",
        "def day_order_delivered_carrier(data):\n",
        "    return data['order_delivered_carrier_date'].day\n",
        "\n",
        "df[\"day_order_delivered_carrier\"] = df.apply(day_order_delivered_carrier, axis = 1)\n",
        "\n",
        "#separando mes\n",
        "def month_order_delivered_carrier(data):\n",
        "    return data['order_delivered_carrier_date'].month\n",
        "\n",
        "df[\"month_order_delivered_carrier\"] = df.apply(month_order_delivered_carrier, axis = 1)\n",
        "\n",
        "#separando ano\n",
        "def year_order_delivered_carrier(data):\n",
        "    return data['order_delivered_carrier_date'].year\n",
        "\n",
        "df[\"year_order_delivered_carrier\"] = df.apply(year_order_delivered_carrier, axis = 1)\n"
      ]
    },
    {
      "cell_type": "code",
      "execution_count": 15,
      "metadata": {
        "id": "PKwYxIoNGw5A"
      },
      "outputs": [],
      "source": [
        "#separando dia\n",
        "def day_order_delivered_customer(data):\n",
        "    return data['order_delivered_customer_date'].day\n",
        "\n",
        "df[\"day_order_delivered_customer\"] = df.apply(day_order_delivered_customer, axis = 1)\n",
        "\n",
        "#separando mes\n",
        "def month_order_delivered_customer(data):\n",
        "    return data['order_delivered_customer_date'].month\n",
        "\n",
        "df[\"month_order_delivered_customer\"] = df.apply(month_order_delivered_customer, axis = 1)\n",
        "\n",
        "#separando ano\n",
        "def year_order_delivered_customer(data):\n",
        "    return data['order_delivered_customer_date'].year\n",
        "\n",
        "df[\"year_order_delivered_customerr\"] = df.apply(year_order_delivered_customer, axis = 1)"
      ]
    },
    {
      "cell_type": "code",
      "execution_count": 16,
      "metadata": {
        "id": "tSvhWV9cFOd9"
      },
      "outputs": [],
      "source": [
        "#separando dia\n",
        "def day_estimated_delivery(data):\n",
        "    return data['order_estimated_delivery_date'].day\n",
        "\n",
        "df[\"day_estimated_delivery\"] = df.apply(day_estimated_delivery, axis = 1)\n",
        "\n",
        "#separando mes\n",
        "def month_estimated_delivery(data):\n",
        "    return data['order_estimated_delivery_date'].month\n",
        "\n",
        "df[\"month_estimated_delivery\"] = df.apply(month_estimated_delivery, axis = 1)\n",
        "\n",
        "#separando ano\n",
        "def year_estimated_delivery(data):\n",
        "    return data['order_estimated_delivery_date'].year\n",
        "\n",
        "df[\"year_estimated_delivery\"] = df.apply(year_estimated_delivery, axis = 1)\n"
      ]
    },
    {
      "cell_type": "code",
      "execution_count": 17,
      "metadata": {
        "colab": {
          "base_uri": "https://localhost:8080/",
          "height": 456
        },
        "id": "qaJiNl5NDdlw",
        "outputId": "6287896b-1b05-475f-d8d0-3f52191e2dcb"
      },
      "outputs": [
        {
          "output_type": "execute_result",
          "data": {
            "text/plain": [
              "   order_id  order_item_id  product_id  seller_id shipping_limit_date  price  \\\n",
              "0         0            1.0        8216        812 2017-09-19 09:45:35   58.9   \n",
              "1      7014            1.0        8216        812 2017-07-05 02:44:11   55.9   \n",
              "2     30559            1.0        8216        812 2018-05-23 10:56:25   64.9   \n",
              "3     40954            1.0        8216        812 2017-08-07 18:55:08   58.9   \n",
              "4     45875            1.0        8216        812 2017-08-16 22:05:11   58.9   \n",
              "5     58794            1.0        8216        812 2017-08-03 15:23:46   55.9   \n",
              "6     69027            1.0        8216        812 2018-03-26 03:28:44   64.9   \n",
              "7     74190            2.0        8216        812 2017-08-14 04:25:34   58.9   \n",
              "8     74190            1.0        8359        812 2017-08-14 04:25:34   58.9   \n",
              "9     82148            1.0        8216        812 2017-06-09 14:31:21   55.9   \n",
              "\n",
              "   freight_value  payment_sequential  payment_type  payment_installments  ...  \\\n",
              "0          13.29                 1.0             1                   2.0  ...   \n",
              "1          17.96                 1.0             0                   1.0  ...   \n",
              "2          18.33                 1.0             1                   2.0  ...   \n",
              "3          16.17                 1.0             1                   3.0  ...   \n",
              "4          13.29                 1.0             1                   4.0  ...   \n",
              "5          26.93                 1.0             1                   1.0  ...   \n",
              "6          38.50                 1.0             0                   1.0  ...   \n",
              "7          18.12                 1.0             0                   1.0  ...   \n",
              "8          17.83                 1.0             0                   1.0  ...   \n",
              "9          35.71                 2.0             3                   1.0  ...   \n",
              "\n",
              "   year_order_approved  day_order_delivered_carrier  \\\n",
              "0                 2017                           19   \n",
              "1                 2017                            5   \n",
              "2                 2018                           23   \n",
              "3                 2017                            2   \n",
              "4                 2017                           11   \n",
              "5                 2017                            2   \n",
              "6                 2018                           20   \n",
              "7                 2017                           10   \n",
              "8                 2017                           10   \n",
              "9                 2017                            7   \n",
              "\n",
              "   month_order_delivered_carrier  year_order_delivered_carrier  \\\n",
              "0                              9                          2017   \n",
              "1                              7                          2017   \n",
              "2                              5                          2018   \n",
              "3                              8                          2017   \n",
              "4                              8                          2017   \n",
              "5                              8                          2017   \n",
              "6                              3                          2018   \n",
              "7                              8                          2017   \n",
              "8                              8                          2017   \n",
              "9                              6                          2017   \n",
              "\n",
              "   day_order_delivered_customer month_order_delivered_customer  \\\n",
              "0                            20                              9   \n",
              "1                            13                              7   \n",
              "2                             4                              6   \n",
              "3                             9                              8   \n",
              "4                            24                              8   \n",
              "5                            31                              8   \n",
              "6                            28                              3   \n",
              "7                            14                              8   \n",
              "8                            14                              8   \n",
              "9                            26                              6   \n",
              "\n",
              "  year_order_delivered_customerr  day_estimated_delivery  \\\n",
              "0                           2017                      29   \n",
              "1                           2017                      26   \n",
              "2                           2018                       7   \n",
              "3                           2017                      25   \n",
              "4                           2017                       1   \n",
              "5                           2017                      24   \n",
              "6                           2018                      12   \n",
              "7                           2017                       6   \n",
              "8                           2017                       6   \n",
              "9                           2017                       6   \n",
              "\n",
              "   month_estimated_delivery year_estimated_delivery  \n",
              "0                         9                    2017  \n",
              "1                         7                    2017  \n",
              "2                         6                    2018  \n",
              "3                         8                    2017  \n",
              "4                         9                    2017  \n",
              "5                         8                    2017  \n",
              "6                         4                    2018  \n",
              "7                         9                    2017  \n",
              "8                         9                    2017  \n",
              "9                         7                    2017  \n",
              "\n",
              "[10 rows x 69 columns]"
            ],
            "text/html": [
              "\n",
              "  <div id=\"df-45a4a4ec-949e-4feb-8cfc-dae554594917\">\n",
              "    <div class=\"colab-df-container\">\n",
              "      <div>\n",
              "<style scoped>\n",
              "    .dataframe tbody tr th:only-of-type {\n",
              "        vertical-align: middle;\n",
              "    }\n",
              "\n",
              "    .dataframe tbody tr th {\n",
              "        vertical-align: top;\n",
              "    }\n",
              "\n",
              "    .dataframe thead th {\n",
              "        text-align: right;\n",
              "    }\n",
              "</style>\n",
              "<table border=\"1\" class=\"dataframe\">\n",
              "  <thead>\n",
              "    <tr style=\"text-align: right;\">\n",
              "      <th></th>\n",
              "      <th>order_id</th>\n",
              "      <th>order_item_id</th>\n",
              "      <th>product_id</th>\n",
              "      <th>seller_id</th>\n",
              "      <th>shipping_limit_date</th>\n",
              "      <th>price</th>\n",
              "      <th>freight_value</th>\n",
              "      <th>payment_sequential</th>\n",
              "      <th>payment_type</th>\n",
              "      <th>payment_installments</th>\n",
              "      <th>...</th>\n",
              "      <th>year_order_approved</th>\n",
              "      <th>day_order_delivered_carrier</th>\n",
              "      <th>month_order_delivered_carrier</th>\n",
              "      <th>year_order_delivered_carrier</th>\n",
              "      <th>day_order_delivered_customer</th>\n",
              "      <th>month_order_delivered_customer</th>\n",
              "      <th>year_order_delivered_customerr</th>\n",
              "      <th>day_estimated_delivery</th>\n",
              "      <th>month_estimated_delivery</th>\n",
              "      <th>year_estimated_delivery</th>\n",
              "    </tr>\n",
              "  </thead>\n",
              "  <tbody>\n",
              "    <tr>\n",
              "      <th>0</th>\n",
              "      <td>0</td>\n",
              "      <td>1.0</td>\n",
              "      <td>8216</td>\n",
              "      <td>812</td>\n",
              "      <td>2017-09-19 09:45:35</td>\n",
              "      <td>58.9</td>\n",
              "      <td>13.29</td>\n",
              "      <td>1.0</td>\n",
              "      <td>1</td>\n",
              "      <td>2.0</td>\n",
              "      <td>...</td>\n",
              "      <td>2017</td>\n",
              "      <td>19</td>\n",
              "      <td>9</td>\n",
              "      <td>2017</td>\n",
              "      <td>20</td>\n",
              "      <td>9</td>\n",
              "      <td>2017</td>\n",
              "      <td>29</td>\n",
              "      <td>9</td>\n",
              "      <td>2017</td>\n",
              "    </tr>\n",
              "    <tr>\n",
              "      <th>1</th>\n",
              "      <td>7014</td>\n",
              "      <td>1.0</td>\n",
              "      <td>8216</td>\n",
              "      <td>812</td>\n",
              "      <td>2017-07-05 02:44:11</td>\n",
              "      <td>55.9</td>\n",
              "      <td>17.96</td>\n",
              "      <td>1.0</td>\n",
              "      <td>0</td>\n",
              "      <td>1.0</td>\n",
              "      <td>...</td>\n",
              "      <td>2017</td>\n",
              "      <td>5</td>\n",
              "      <td>7</td>\n",
              "      <td>2017</td>\n",
              "      <td>13</td>\n",
              "      <td>7</td>\n",
              "      <td>2017</td>\n",
              "      <td>26</td>\n",
              "      <td>7</td>\n",
              "      <td>2017</td>\n",
              "    </tr>\n",
              "    <tr>\n",
              "      <th>2</th>\n",
              "      <td>30559</td>\n",
              "      <td>1.0</td>\n",
              "      <td>8216</td>\n",
              "      <td>812</td>\n",
              "      <td>2018-05-23 10:56:25</td>\n",
              "      <td>64.9</td>\n",
              "      <td>18.33</td>\n",
              "      <td>1.0</td>\n",
              "      <td>1</td>\n",
              "      <td>2.0</td>\n",
              "      <td>...</td>\n",
              "      <td>2018</td>\n",
              "      <td>23</td>\n",
              "      <td>5</td>\n",
              "      <td>2018</td>\n",
              "      <td>4</td>\n",
              "      <td>6</td>\n",
              "      <td>2018</td>\n",
              "      <td>7</td>\n",
              "      <td>6</td>\n",
              "      <td>2018</td>\n",
              "    </tr>\n",
              "    <tr>\n",
              "      <th>3</th>\n",
              "      <td>40954</td>\n",
              "      <td>1.0</td>\n",
              "      <td>8216</td>\n",
              "      <td>812</td>\n",
              "      <td>2017-08-07 18:55:08</td>\n",
              "      <td>58.9</td>\n",
              "      <td>16.17</td>\n",
              "      <td>1.0</td>\n",
              "      <td>1</td>\n",
              "      <td>3.0</td>\n",
              "      <td>...</td>\n",
              "      <td>2017</td>\n",
              "      <td>2</td>\n",
              "      <td>8</td>\n",
              "      <td>2017</td>\n",
              "      <td>9</td>\n",
              "      <td>8</td>\n",
              "      <td>2017</td>\n",
              "      <td>25</td>\n",
              "      <td>8</td>\n",
              "      <td>2017</td>\n",
              "    </tr>\n",
              "    <tr>\n",
              "      <th>4</th>\n",
              "      <td>45875</td>\n",
              "      <td>1.0</td>\n",
              "      <td>8216</td>\n",
              "      <td>812</td>\n",
              "      <td>2017-08-16 22:05:11</td>\n",
              "      <td>58.9</td>\n",
              "      <td>13.29</td>\n",
              "      <td>1.0</td>\n",
              "      <td>1</td>\n",
              "      <td>4.0</td>\n",
              "      <td>...</td>\n",
              "      <td>2017</td>\n",
              "      <td>11</td>\n",
              "      <td>8</td>\n",
              "      <td>2017</td>\n",
              "      <td>24</td>\n",
              "      <td>8</td>\n",
              "      <td>2017</td>\n",
              "      <td>1</td>\n",
              "      <td>9</td>\n",
              "      <td>2017</td>\n",
              "    </tr>\n",
              "    <tr>\n",
              "      <th>5</th>\n",
              "      <td>58794</td>\n",
              "      <td>1.0</td>\n",
              "      <td>8216</td>\n",
              "      <td>812</td>\n",
              "      <td>2017-08-03 15:23:46</td>\n",
              "      <td>55.9</td>\n",
              "      <td>26.93</td>\n",
              "      <td>1.0</td>\n",
              "      <td>1</td>\n",
              "      <td>1.0</td>\n",
              "      <td>...</td>\n",
              "      <td>2017</td>\n",
              "      <td>2</td>\n",
              "      <td>8</td>\n",
              "      <td>2017</td>\n",
              "      <td>31</td>\n",
              "      <td>8</td>\n",
              "      <td>2017</td>\n",
              "      <td>24</td>\n",
              "      <td>8</td>\n",
              "      <td>2017</td>\n",
              "    </tr>\n",
              "    <tr>\n",
              "      <th>6</th>\n",
              "      <td>69027</td>\n",
              "      <td>1.0</td>\n",
              "      <td>8216</td>\n",
              "      <td>812</td>\n",
              "      <td>2018-03-26 03:28:44</td>\n",
              "      <td>64.9</td>\n",
              "      <td>38.50</td>\n",
              "      <td>1.0</td>\n",
              "      <td>0</td>\n",
              "      <td>1.0</td>\n",
              "      <td>...</td>\n",
              "      <td>2018</td>\n",
              "      <td>20</td>\n",
              "      <td>3</td>\n",
              "      <td>2018</td>\n",
              "      <td>28</td>\n",
              "      <td>3</td>\n",
              "      <td>2018</td>\n",
              "      <td>12</td>\n",
              "      <td>4</td>\n",
              "      <td>2018</td>\n",
              "    </tr>\n",
              "    <tr>\n",
              "      <th>7</th>\n",
              "      <td>74190</td>\n",
              "      <td>2.0</td>\n",
              "      <td>8216</td>\n",
              "      <td>812</td>\n",
              "      <td>2017-08-14 04:25:34</td>\n",
              "      <td>58.9</td>\n",
              "      <td>18.12</td>\n",
              "      <td>1.0</td>\n",
              "      <td>0</td>\n",
              "      <td>1.0</td>\n",
              "      <td>...</td>\n",
              "      <td>2017</td>\n",
              "      <td>10</td>\n",
              "      <td>8</td>\n",
              "      <td>2017</td>\n",
              "      <td>14</td>\n",
              "      <td>8</td>\n",
              "      <td>2017</td>\n",
              "      <td>6</td>\n",
              "      <td>9</td>\n",
              "      <td>2017</td>\n",
              "    </tr>\n",
              "    <tr>\n",
              "      <th>8</th>\n",
              "      <td>74190</td>\n",
              "      <td>1.0</td>\n",
              "      <td>8359</td>\n",
              "      <td>812</td>\n",
              "      <td>2017-08-14 04:25:34</td>\n",
              "      <td>58.9</td>\n",
              "      <td>17.83</td>\n",
              "      <td>1.0</td>\n",
              "      <td>0</td>\n",
              "      <td>1.0</td>\n",
              "      <td>...</td>\n",
              "      <td>2017</td>\n",
              "      <td>10</td>\n",
              "      <td>8</td>\n",
              "      <td>2017</td>\n",
              "      <td>14</td>\n",
              "      <td>8</td>\n",
              "      <td>2017</td>\n",
              "      <td>6</td>\n",
              "      <td>9</td>\n",
              "      <td>2017</td>\n",
              "    </tr>\n",
              "    <tr>\n",
              "      <th>9</th>\n",
              "      <td>82148</td>\n",
              "      <td>1.0</td>\n",
              "      <td>8216</td>\n",
              "      <td>812</td>\n",
              "      <td>2017-06-09 14:31:21</td>\n",
              "      <td>55.9</td>\n",
              "      <td>35.71</td>\n",
              "      <td>2.0</td>\n",
              "      <td>3</td>\n",
              "      <td>1.0</td>\n",
              "      <td>...</td>\n",
              "      <td>2017</td>\n",
              "      <td>7</td>\n",
              "      <td>6</td>\n",
              "      <td>2017</td>\n",
              "      <td>26</td>\n",
              "      <td>6</td>\n",
              "      <td>2017</td>\n",
              "      <td>6</td>\n",
              "      <td>7</td>\n",
              "      <td>2017</td>\n",
              "    </tr>\n",
              "  </tbody>\n",
              "</table>\n",
              "<p>10 rows × 69 columns</p>\n",
              "</div>\n",
              "      <button class=\"colab-df-convert\" onclick=\"convertToInteractive('df-45a4a4ec-949e-4feb-8cfc-dae554594917')\"\n",
              "              title=\"Convert this dataframe to an interactive table.\"\n",
              "              style=\"display:none;\">\n",
              "        \n",
              "  <svg xmlns=\"http://www.w3.org/2000/svg\" height=\"24px\"viewBox=\"0 0 24 24\"\n",
              "       width=\"24px\">\n",
              "    <path d=\"M0 0h24v24H0V0z\" fill=\"none\"/>\n",
              "    <path d=\"M18.56 5.44l.94 2.06.94-2.06 2.06-.94-2.06-.94-.94-2.06-.94 2.06-2.06.94zm-11 1L8.5 8.5l.94-2.06 2.06-.94-2.06-.94L8.5 2.5l-.94 2.06-2.06.94zm10 10l.94 2.06.94-2.06 2.06-.94-2.06-.94-.94-2.06-.94 2.06-2.06.94z\"/><path d=\"M17.41 7.96l-1.37-1.37c-.4-.4-.92-.59-1.43-.59-.52 0-1.04.2-1.43.59L10.3 9.45l-7.72 7.72c-.78.78-.78 2.05 0 2.83L4 21.41c.39.39.9.59 1.41.59.51 0 1.02-.2 1.41-.59l7.78-7.78 2.81-2.81c.8-.78.8-2.07 0-2.86zM5.41 20L4 18.59l7.72-7.72 1.47 1.35L5.41 20z\"/>\n",
              "  </svg>\n",
              "      </button>\n",
              "      \n",
              "  <style>\n",
              "    .colab-df-container {\n",
              "      display:flex;\n",
              "      flex-wrap:wrap;\n",
              "      gap: 12px;\n",
              "    }\n",
              "\n",
              "    .colab-df-convert {\n",
              "      background-color: #E8F0FE;\n",
              "      border: none;\n",
              "      border-radius: 50%;\n",
              "      cursor: pointer;\n",
              "      display: none;\n",
              "      fill: #1967D2;\n",
              "      height: 32px;\n",
              "      padding: 0 0 0 0;\n",
              "      width: 32px;\n",
              "    }\n",
              "\n",
              "    .colab-df-convert:hover {\n",
              "      background-color: #E2EBFA;\n",
              "      box-shadow: 0px 1px 2px rgba(60, 64, 67, 0.3), 0px 1px 3px 1px rgba(60, 64, 67, 0.15);\n",
              "      fill: #174EA6;\n",
              "    }\n",
              "\n",
              "    [theme=dark] .colab-df-convert {\n",
              "      background-color: #3B4455;\n",
              "      fill: #D2E3FC;\n",
              "    }\n",
              "\n",
              "    [theme=dark] .colab-df-convert:hover {\n",
              "      background-color: #434B5C;\n",
              "      box-shadow: 0px 1px 3px 1px rgba(0, 0, 0, 0.15);\n",
              "      filter: drop-shadow(0px 1px 2px rgba(0, 0, 0, 0.3));\n",
              "      fill: #FFFFFF;\n",
              "    }\n",
              "  </style>\n",
              "\n",
              "      <script>\n",
              "        const buttonEl =\n",
              "          document.querySelector('#df-45a4a4ec-949e-4feb-8cfc-dae554594917 button.colab-df-convert');\n",
              "        buttonEl.style.display =\n",
              "          google.colab.kernel.accessAllowed ? 'block' : 'none';\n",
              "\n",
              "        async function convertToInteractive(key) {\n",
              "          const element = document.querySelector('#df-45a4a4ec-949e-4feb-8cfc-dae554594917');\n",
              "          const dataTable =\n",
              "            await google.colab.kernel.invokeFunction('convertToInteractive',\n",
              "                                                     [key], {});\n",
              "          if (!dataTable) return;\n",
              "\n",
              "          const docLinkHtml = 'Like what you see? Visit the ' +\n",
              "            '<a target=\"_blank\" href=https://colab.research.google.com/notebooks/data_table.ipynb>data table notebook</a>'\n",
              "            + ' to learn more about interactive tables.';\n",
              "          element.innerHTML = '';\n",
              "          dataTable['output_type'] = 'display_data';\n",
              "          await google.colab.output.renderOutput(dataTable, element);\n",
              "          const docLink = document.createElement('div');\n",
              "          docLink.innerHTML = docLinkHtml;\n",
              "          element.appendChild(docLink);\n",
              "        }\n",
              "      </script>\n",
              "    </div>\n",
              "  </div>\n",
              "  "
            ]
          },
          "metadata": {},
          "execution_count": 17
        }
      ],
      "source": [
        "df.head(10)"
      ]
    },
    {
      "cell_type": "markdown",
      "metadata": {
        "id": "BdWgrXASGGQb"
      },
      "source": [
        "##Preparando os dados para testar os modelos\n"
      ]
    },
    {
      "cell_type": "code",
      "execution_count": 18,
      "metadata": {
        "colab": {
          "base_uri": "https://localhost:8080/"
        },
        "id": "KVvFyo25LCVI",
        "outputId": "a82177ae-3f91-4d04-c0c8-a5012375de73"
      },
      "outputs": [
        {
          "output_type": "stream",
          "name": "stdout",
          "text": [
            "<class 'pandas.core.frame.DataFrame'>\n",
            "RangeIndex: 112660 entries, 0 to 112659\n",
            "Data columns (total 69 columns):\n",
            " #   Column                          Non-Null Count   Dtype         \n",
            "---  ------                          --------------   -----         \n",
            " 0   order_id                        112660 non-null  int64         \n",
            " 1   order_item_id                   112660 non-null  float64       \n",
            " 2   product_id                      112660 non-null  int64         \n",
            " 3   seller_id                       112660 non-null  int64         \n",
            " 4   shipping_limit_date             112660 non-null  datetime64[ns]\n",
            " 5   price                           112660 non-null  float64       \n",
            " 6   freight_value                   112660 non-null  float64       \n",
            " 7   payment_sequential              112660 non-null  float64       \n",
            " 8   payment_type                    112660 non-null  int64         \n",
            " 9   payment_installments            112660 non-null  float64       \n",
            " 10  payment_value                   112660 non-null  float64       \n",
            " 11  review_id                       112660 non-null  int64         \n",
            " 12  review_score                    112660 non-null  float64       \n",
            " 13  review_comment_title            112660 non-null  int64         \n",
            " 14  review_comment_message          112660 non-null  int64         \n",
            " 15  review_creation_date            112660 non-null  datetime64[ns]\n",
            " 16  review_answer_timestamp         112660 non-null  datetime64[ns]\n",
            " 17  customer_id                     112660 non-null  int64         \n",
            " 18  order_status                    112660 non-null  int64         \n",
            " 19  order_purchase_timestamp        112660 non-null  datetime64[ns]\n",
            " 20  order_approved_at               112660 non-null  datetime64[ns]\n",
            " 21  order_delivered_carrier_date    112660 non-null  datetime64[ns]\n",
            " 22  order_delivered_customer_date   112660 non-null  datetime64[ns]\n",
            " 23  order_estimated_delivery_date   112660 non-null  datetime64[ns]\n",
            " 24  customer_unique_id              112660 non-null  int64         \n",
            " 25  customer_zip_code_prefix        112660 non-null  int64         \n",
            " 26  customer_city                   112660 non-null  int64         \n",
            " 27  customer_state                  112660 non-null  int64         \n",
            " 28  seller_zip_code_prefix          112660 non-null  float64       \n",
            " 29  seller_city                     112660 non-null  int64         \n",
            " 30  seller_state                    112660 non-null  int64         \n",
            " 31  product_category_name           112660 non-null  int64         \n",
            " 32  product_name_lenght             112660 non-null  float64       \n",
            " 33  product_description_lenght      112660 non-null  float64       \n",
            " 34  product_photos_qty              112660 non-null  float64       \n",
            " 35  product_weight_g                112660 non-null  float64       \n",
            " 36  product_length_cm               112660 non-null  float64       \n",
            " 37  product_height_cm               112660 non-null  float64       \n",
            " 38  product_width_cm                112660 non-null  float64       \n",
            " 39  costumer_lat                    112660 non-null  float64       \n",
            " 40  costumer_lng                    112660 non-null  float64       \n",
            " 41  seller_lat                      112660 non-null  float64       \n",
            " 42  seller_lng                      112660 non-null  float64       \n",
            " 43  days_to_delivery                111237 non-null  float64       \n",
            " 44  early_delivery                  112660 non-null  int64         \n",
            " 45  day_shipping                    112660 non-null  int64         \n",
            " 46  month_shipping                  112660 non-null  int64         \n",
            " 47  year_shipping                   112660 non-null  int64         \n",
            " 48  day_review_creation             112660 non-null  int64         \n",
            " 49  month_review_creation           112660 non-null  int64         \n",
            " 50  year_review_creation            112660 non-null  int64         \n",
            " 51  day_review_answer               112660 non-null  int64         \n",
            " 52  month_review_answer             112660 non-null  int64         \n",
            " 53  year_review_answer              112660 non-null  int64         \n",
            " 54  day_order_purchase_timestamp    112660 non-null  int64         \n",
            " 55  month_order_purchase_timestamp  112660 non-null  int64         \n",
            " 56  year_order_purchase_timestamp   112660 non-null  int64         \n",
            " 57  day_order_approved              112660 non-null  int64         \n",
            " 58  month_order_approved            112660 non-null  int64         \n",
            " 59  year_order_approved             112660 non-null  int64         \n",
            " 60  day_order_delivered_carrier     112660 non-null  int64         \n",
            " 61  month_order_delivered_carrier   112660 non-null  int64         \n",
            " 62  year_order_delivered_carrier    112660 non-null  int64         \n",
            " 63  day_order_delivered_customer    112660 non-null  int64         \n",
            " 64  month_order_delivered_customer  112660 non-null  int64         \n",
            " 65  year_order_delivered_customerr  112660 non-null  int64         \n",
            " 66  day_estimated_delivery          112660 non-null  int64         \n",
            " 67  month_estimated_delivery        112660 non-null  int64         \n",
            " 68  year_estimated_delivery         112660 non-null  int64         \n",
            "dtypes: datetime64[ns](8), float64(20), int64(41)\n",
            "memory usage: 59.3 MB\n"
          ]
        }
      ],
      "source": [
        "df.info()"
      ]
    },
    {
      "cell_type": "code",
      "execution_count": 19,
      "metadata": {
        "colab": {
          "base_uri": "https://localhost:8080/"
        },
        "id": "5OU9DSqfS9tW",
        "outputId": "5048702f-f2b5-4d5f-ed93-6e6a8d6c3565"
      },
      "outputs": [
        {
          "output_type": "execute_result",
          "data": {
            "text/plain": [
              "order_id                          0\n",
              "order_item_id                     0\n",
              "product_id                        0\n",
              "seller_id                         0\n",
              "shipping_limit_date               0\n",
              "                                 ..\n",
              "month_order_delivered_customer    0\n",
              "year_order_delivered_customerr    0\n",
              "day_estimated_delivery            0\n",
              "month_estimated_delivery          0\n",
              "year_estimated_delivery           0\n",
              "Length: 69, dtype: int64"
            ]
          },
          "metadata": {},
          "execution_count": 19
        }
      ],
      "source": [
        "df.isnull().sum()"
      ]
    },
    {
      "cell_type": "code",
      "execution_count": 20,
      "metadata": {
        "id": "cFI2MPPrR9S3"
      },
      "outputs": [],
      "source": [
        "#retirando valores nulos ou duplicados\n",
        "df.dropna(inplace=True)"
      ]
    },
    {
      "cell_type": "code",
      "execution_count": 21,
      "metadata": {
        "id": "0rUjJyUALPFf",
        "colab": {
          "base_uri": "https://localhost:8080/"
        },
        "outputId": "e052b34d-f8f5-4268-b45d-1bf38f2f03dd"
      },
      "outputs": [
        {
          "output_type": "stream",
          "name": "stderr",
          "text": [
            "/usr/local/lib/python3.7/dist-packages/ipykernel_launcher.py:2: FutureWarning: In a future version of pandas all arguments of DataFrame.drop except for the argument 'labels' will be keyword-only\n",
            "  \n"
          ]
        }
      ],
      "source": [
        "#excluindo as colunas que estão em formato pandas df, pois já são representadas nas colunas separadas \n",
        "df = df.drop(['shipping_limit_date','review_creation_date','review_answer_timestamp','order_purchase_timestamp','order_approved_at','order_delivered_carrier_date','order_delivered_customer_date','order_estimated_delivery_date'], 1)\n"
      ]
    },
    {
      "cell_type": "code",
      "execution_count": 22,
      "metadata": {
        "colab": {
          "base_uri": "https://localhost:8080/"
        },
        "id": "lAjqj6yANb2b",
        "outputId": "58c4f834-ce95-4779-932d-e1894911e3d1"
      },
      "outputs": [
        {
          "output_type": "stream",
          "name": "stdout",
          "text": [
            "<class 'pandas.core.frame.DataFrame'>\n",
            "Int64Index: 111237 entries, 0 to 112659\n",
            "Data columns (total 61 columns):\n",
            " #   Column                          Non-Null Count   Dtype  \n",
            "---  ------                          --------------   -----  \n",
            " 0   order_id                        111237 non-null  int64  \n",
            " 1   order_item_id                   111237 non-null  float64\n",
            " 2   product_id                      111237 non-null  int64  \n",
            " 3   seller_id                       111237 non-null  int64  \n",
            " 4   price                           111237 non-null  float64\n",
            " 5   freight_value                   111237 non-null  float64\n",
            " 6   payment_sequential              111237 non-null  float64\n",
            " 7   payment_type                    111237 non-null  int64  \n",
            " 8   payment_installments            111237 non-null  float64\n",
            " 9   payment_value                   111237 non-null  float64\n",
            " 10  review_id                       111237 non-null  int64  \n",
            " 11  review_score                    111237 non-null  float64\n",
            " 12  review_comment_title            111237 non-null  int64  \n",
            " 13  review_comment_message          111237 non-null  int64  \n",
            " 14  customer_id                     111237 non-null  int64  \n",
            " 15  order_status                    111237 non-null  int64  \n",
            " 16  customer_unique_id              111237 non-null  int64  \n",
            " 17  customer_zip_code_prefix        111237 non-null  int64  \n",
            " 18  customer_city                   111237 non-null  int64  \n",
            " 19  customer_state                  111237 non-null  int64  \n",
            " 20  seller_zip_code_prefix          111237 non-null  float64\n",
            " 21  seller_city                     111237 non-null  int64  \n",
            " 22  seller_state                    111237 non-null  int64  \n",
            " 23  product_category_name           111237 non-null  int64  \n",
            " 24  product_name_lenght             111237 non-null  float64\n",
            " 25  product_description_lenght      111237 non-null  float64\n",
            " 26  product_photos_qty              111237 non-null  float64\n",
            " 27  product_weight_g                111237 non-null  float64\n",
            " 28  product_length_cm               111237 non-null  float64\n",
            " 29  product_height_cm               111237 non-null  float64\n",
            " 30  product_width_cm                111237 non-null  float64\n",
            " 31  costumer_lat                    111237 non-null  float64\n",
            " 32  costumer_lng                    111237 non-null  float64\n",
            " 33  seller_lat                      111237 non-null  float64\n",
            " 34  seller_lng                      111237 non-null  float64\n",
            " 35  days_to_delivery                111237 non-null  float64\n",
            " 36  early_delivery                  111237 non-null  int64  \n",
            " 37  day_shipping                    111237 non-null  int64  \n",
            " 38  month_shipping                  111237 non-null  int64  \n",
            " 39  year_shipping                   111237 non-null  int64  \n",
            " 40  day_review_creation             111237 non-null  int64  \n",
            " 41  month_review_creation           111237 non-null  int64  \n",
            " 42  year_review_creation            111237 non-null  int64  \n",
            " 43  day_review_answer               111237 non-null  int64  \n",
            " 44  month_review_answer             111237 non-null  int64  \n",
            " 45  year_review_answer              111237 non-null  int64  \n",
            " 46  day_order_purchase_timestamp    111237 non-null  int64  \n",
            " 47  month_order_purchase_timestamp  111237 non-null  int64  \n",
            " 48  year_order_purchase_timestamp   111237 non-null  int64  \n",
            " 49  day_order_approved              111237 non-null  int64  \n",
            " 50  month_order_approved            111237 non-null  int64  \n",
            " 51  year_order_approved             111237 non-null  int64  \n",
            " 52  day_order_delivered_carrier     111237 non-null  int64  \n",
            " 53  month_order_delivered_carrier   111237 non-null  int64  \n",
            " 54  year_order_delivered_carrier    111237 non-null  int64  \n",
            " 55  day_order_delivered_customer    111237 non-null  int64  \n",
            " 56  month_order_delivered_customer  111237 non-null  int64  \n",
            " 57  year_order_delivered_customerr  111237 non-null  int64  \n",
            " 58  day_estimated_delivery          111237 non-null  int64  \n",
            " 59  month_estimated_delivery        111237 non-null  int64  \n",
            " 60  year_estimated_delivery         111237 non-null  int64  \n",
            "dtypes: float64(20), int64(41)\n",
            "memory usage: 52.6 MB\n"
          ]
        }
      ],
      "source": [
        "df.info()"
      ]
    },
    {
      "cell_type": "code",
      "execution_count": 23,
      "metadata": {
        "id": "8TD3cXD8SllA"
      },
      "outputs": [],
      "source": [
        "df = df.astype(float)"
      ]
    },
    {
      "cell_type": "code",
      "execution_count": 24,
      "metadata": {
        "id": "jqLcG939RXP3"
      },
      "outputs": [],
      "source": [
        "df.replace([np.inf, -np.inf], np.nan, inplace=True)"
      ]
    },
    {
      "cell_type": "code",
      "source": [
        "import matplotlib.pyplot as plt"
      ],
      "metadata": {
        "id": "6IfGi2LTQDCG"
      },
      "execution_count": 25,
      "outputs": []
    },
    {
      "cell_type": "code",
      "source": [
        "plt.hist(df.days_to_delivery, 50)"
      ],
      "metadata": {
        "colab": {
          "base_uri": "https://localhost:8080/",
          "height": 560
        },
        "id": "D22sW4zkQFxc",
        "outputId": "a7d8ca0f-5e26-4135-a6ff-391485506157"
      },
      "execution_count": 26,
      "outputs": [
        {
          "output_type": "execute_result",
          "data": {
            "text/plain": [
              "(array([4.9874e+04, 1.9438e+04, 1.3965e+04, 8.8610e+03, 5.8930e+03,\n",
              "        4.3120e+03, 2.4120e+03, 1.3040e+03, 8.9300e+02, 7.5700e+02,\n",
              "        1.0520e+03, 4.5200e+02, 4.4900e+02, 2.7900e+02, 1.6800e+02,\n",
              "        1.9200e+02, 1.4100e+02, 1.0900e+02, 1.4700e+02, 9.6000e+01,\n",
              "        1.1500e+02, 5.7000e+01, 4.1000e+01, 2.6000e+01, 3.0000e+01,\n",
              "        1.9000e+01, 1.7000e+01, 1.6000e+01, 7.0000e+00, 9.0000e+00,\n",
              "        2.8000e+01, 1.7000e+01, 1.0000e+01, 4.0000e+00, 3.0000e+00,\n",
              "        5.0000e+00, 5.0000e+00, 7.0000e+00, 3.0000e+00, 5.0000e+00,\n",
              "        1.4000e+01, 2.0000e+00, 1.0000e+00, 0.0000e+00, 1.0000e+00,\n",
              "        0.0000e+00, 0.0000e+00, 0.0000e+00, 0.0000e+00, 1.0000e+00]),\n",
              " array([ 0. ,  1.1,  2.2,  3.3,  4.4,  5.5,  6.6,  7.7,  8.8,  9.9, 11. ,\n",
              "        12.1, 13.2, 14.3, 15.4, 16.5, 17.6, 18.7, 19.8, 20.9, 22. , 23.1,\n",
              "        24.2, 25.3, 26.4, 27.5, 28.6, 29.7, 30.8, 31.9, 33. , 34.1, 35.2,\n",
              "        36.3, 37.4, 38.5, 39.6, 40.7, 41.8, 42.9, 44. , 45.1, 46.2, 47.3,\n",
              "        48.4, 49.5, 50.6, 51.7, 52.8, 53.9, 55. ]),\n",
              " <a list of 50 Patch objects>)"
            ]
          },
          "metadata": {},
          "execution_count": 26
        },
        {
          "output_type": "display_data",
          "data": {
            "text/plain": [
              "<Figure size 432x288 with 1 Axes>"
            ],
            "image/png": "[encoded data removed]"
          },
          "metadata": {
            "needs_background": "light"
          }
        }
      ]
    },
    {
      "cell_type": "code",
      "source": [
        "plt.hist(df.early_delivery, 50)"
      ],
      "metadata": {
        "colab": {
          "base_uri": "https://localhost:8080/",
          "height": 542
        },
        "id": "ETmp9XFAxqWx",
        "outputId": "a105ef7e-123f-4db7-cdc1-b51cb5723164"
      },
      "execution_count": 27,
      "outputs": [
        {
          "output_type": "execute_result",
          "data": {
            "text/plain": [
              "(array([5.364e+03, 4.390e+02, 5.540e+02, 5.810e+02, 6.100e+02, 2.922e+03,\n",
              "        2.127e+03, 2.228e+03, 2.403e+03, 2.359e+03, 5.813e+03, 4.591e+03,\n",
              "        4.371e+03, 4.286e+03, 4.209e+03, 8.792e+03, 6.605e+03, 8.338e+03,\n",
              "        6.665e+03, 4.808e+03, 7.452e+03, 3.249e+03, 3.752e+03, 3.850e+03,\n",
              "        2.684e+03, 3.790e+03, 1.370e+03, 1.179e+03, 1.285e+03, 1.089e+03,\n",
              "        1.171e+03, 3.860e+02, 3.290e+02, 2.750e+02, 2.340e+02, 4.280e+02,\n",
              "        1.260e+02, 1.130e+02, 7.600e+01, 6.700e+01, 1.280e+02, 5.900e+01,\n",
              "        1.800e+01, 1.200e+01, 1.600e+01, 2.200e+01, 2.000e+00, 5.000e+00,\n",
              "        0.000e+00, 5.000e+00]),\n",
              " array([ 0. ,  1.2,  2.4,  3.6,  4.8,  6. ,  7.2,  8.4,  9.6, 10.8, 12. ,\n",
              "        13.2, 14.4, 15.6, 16.8, 18. , 19.2, 20.4, 21.6, 22.8, 24. , 25.2,\n",
              "        26.4, 27.6, 28.8, 30. , 31.2, 32.4, 33.6, 34.8, 36. , 37.2, 38.4,\n",
              "        39.6, 40.8, 42. , 43.2, 44.4, 45.6, 46.8, 48. , 49.2, 50.4, 51.6,\n",
              "        52.8, 54. , 55.2, 56.4, 57.6, 58.8, 60. ]),\n",
              " <a list of 50 Patch objects>)"
            ]
          },
          "metadata": {},
          "execution_count": 27
        },
        {
          "output_type": "display_data",
          "data": {
            "text/plain": [
              "<Figure size 432x288 with 1 Axes>"
            ],
            "image/png": "[encoded data removed]"
          },
          "metadata": {
            "needs_background": "light"
          }
        }
      ]
    },
    {
      "cell_type": "markdown",
      "source": [
        "#Removendo colunas "
      ],
      "metadata": {
        "id": "YA37K2TxdSrH"
      }
    },
    {
      "cell_type": "code",
      "source": [
        "df.info()"
      ],
      "metadata": {
        "colab": {
          "base_uri": "https://localhost:8080/"
        },
        "id": "-PGF6vdudj0o",
        "outputId": "a18372f4-d838-43ad-c9e5-c49cad34e023"
      },
      "execution_count": 28,
      "outputs": [
        {
          "output_type": "stream",
          "name": "stdout",
          "text": [
            "<class 'pandas.core.frame.DataFrame'>\n",
            "Int64Index: 111237 entries, 0 to 112659\n",
            "Data columns (total 61 columns):\n",
            " #   Column                          Non-Null Count   Dtype  \n",
            "---  ------                          --------------   -----  \n",
            " 0   order_id                        111237 non-null  float64\n",
            " 1   order_item_id                   111237 non-null  float64\n",
            " 2   product_id                      111237 non-null  float64\n",
            " 3   seller_id                       111237 non-null  float64\n",
            " 4   price                           111237 non-null  float64\n",
            " 5   freight_value                   111237 non-null  float64\n",
            " 6   payment_sequential              111237 non-null  float64\n",
            " 7   payment_type                    111237 non-null  float64\n",
            " 8   payment_installments            111237 non-null  float64\n",
            " 9   payment_value                   111237 non-null  float64\n",
            " 10  review_id                       111237 non-null  float64\n",
            " 11  review_score                    111237 non-null  float64\n",
            " 12  review_comment_title            111237 non-null  float64\n",
            " 13  review_comment_message          111237 non-null  float64\n",
            " 14  customer_id                     111237 non-null  float64\n",
            " 15  order_status                    111237 non-null  float64\n",
            " 16  customer_unique_id              111237 non-null  float64\n",
            " 17  customer_zip_code_prefix        111237 non-null  float64\n",
            " 18  customer_city                   111237 non-null  float64\n",
            " 19  customer_state                  111237 non-null  float64\n",
            " 20  seller_zip_code_prefix          111237 non-null  float64\n",
            " 21  seller_city                     111237 non-null  float64\n",
            " 22  seller_state                    111237 non-null  float64\n",
            " 23  product_category_name           111237 non-null  float64\n",
            " 24  product_name_lenght             111237 non-null  float64\n",
            " 25  product_description_lenght      111237 non-null  float64\n",
            " 26  product_photos_qty              111237 non-null  float64\n",
            " 27  product_weight_g                111237 non-null  float64\n",
            " 28  product_length_cm               111237 non-null  float64\n",
            " 29  product_height_cm               111237 non-null  float64\n",
            " 30  product_width_cm                111237 non-null  float64\n",
            " 31  costumer_lat                    111237 non-null  float64\n",
            " 32  costumer_lng                    111237 non-null  float64\n",
            " 33  seller_lat                      111237 non-null  float64\n",
            " 34  seller_lng                      111237 non-null  float64\n",
            " 35  days_to_delivery                111237 non-null  float64\n",
            " 36  early_delivery                  111237 non-null  float64\n",
            " 37  day_shipping                    111237 non-null  float64\n",
            " 38  month_shipping                  111237 non-null  float64\n",
            " 39  year_shipping                   111237 non-null  float64\n",
            " 40  day_review_creation             111237 non-null  float64\n",
            " 41  month_review_creation           111237 non-null  float64\n",
            " 42  year_review_creation            111237 non-null  float64\n",
            " 43  day_review_answer               111237 non-null  float64\n",
            " 44  month_review_answer             111237 non-null  float64\n",
            " 45  year_review_answer              111237 non-null  float64\n",
            " 46  day_order_purchase_timestamp    111237 non-null  float64\n",
            " 47  month_order_purchase_timestamp  111237 non-null  float64\n",
            " 48  year_order_purchase_timestamp   111237 non-null  float64\n",
            " 49  day_order_approved              111237 non-null  float64\n",
            " 50  month_order_approved            111237 non-null  float64\n",
            " 51  year_order_approved             111237 non-null  float64\n",
            " 52  day_order_delivered_carrier     111237 non-null  float64\n",
            " 53  month_order_delivered_carrier   111237 non-null  float64\n",
            " 54  year_order_delivered_carrier    111237 non-null  float64\n",
            " 55  day_order_delivered_customer    111237 non-null  float64\n",
            " 56  month_order_delivered_customer  111237 non-null  float64\n",
            " 57  year_order_delivered_customerr  111237 non-null  float64\n",
            " 58  day_estimated_delivery          111237 non-null  float64\n",
            " 59  month_estimated_delivery        111237 non-null  float64\n",
            " 60  year_estimated_delivery         111237 non-null  float64\n",
            "dtypes: float64(61)\n",
            "memory usage: 52.6 MB\n"
          ]
        }
      ]
    },
    {
      "cell_type": "code",
      "source": [
        "df = df.drop(['year_estimated_delivery','month_estimated_delivery','day_estimated_delivery','year_order_delivered_customerr','month_order_delivered_customer','day_order_delivered_customer','year_order_delivered_carrier','month_order_delivered_carrier','day_order_delivered_carrier','year_order_purchase_timestamp','month_order_purchase_timestamp','day_order_purchase_timestamp'], 1)"
      ],
      "metadata": {
        "colab": {
          "base_uri": "https://localhost:8080/"
        },
        "id": "qXIm9KyIdR1Q",
        "outputId": "b0986bc3-620b-4c18-ce8d-0b90b3e12932"
      },
      "execution_count": 29,
      "outputs": [
        {
          "output_type": "stream",
          "name": "stderr",
          "text": [
            "/usr/local/lib/python3.7/dist-packages/ipykernel_launcher.py:1: FutureWarning: In a future version of pandas all arguments of DataFrame.drop except for the argument 'labels' will be keyword-only\n",
            "  \"\"\"Entry point for launching an IPython kernel.\n"
          ]
        }
      ]
    },
    {
      "cell_type": "code",
      "source": [
        "df = df.drop(['year_review_answer','month_review_answer','day_review_answer','year_review_creation','month_review_creation','day_review_creation',], 1)"
      ],
      "metadata": {
        "colab": {
          "base_uri": "https://localhost:8080/"
        },
        "id": "lsDxlZNrfEHs",
        "outputId": "a13dd3a4-fccc-4414-9a7b-66941dbcd21f"
      },
      "execution_count": 31,
      "outputs": [
        {
          "output_type": "stream",
          "name": "stderr",
          "text": [
            "/usr/local/lib/python3.7/dist-packages/ipykernel_launcher.py:1: FutureWarning: In a future version of pandas all arguments of DataFrame.drop except for the argument 'labels' will be keyword-only\n",
            "  \"\"\"Entry point for launching an IPython kernel.\n"
          ]
        }
      ]
    },
    {
      "cell_type": "code",
      "source": [
        "df = df.drop(['payment_sequential','review_id','review_score','review_comment_title','review_comment_message','order_status','customer_id','customer_zip_code_prefix','customer_city','customer_state','seller_zip_code_prefix','seller_city','seller_state','product_name_lenght','product_description_lenght','product_photos_qty'], 1)"
      ],
      "metadata": {
        "colab": {
          "base_uri": "https://localhost:8080/"
        },
        "id": "QP1KXIXxfv3j",
        "outputId": "72b465de-1587-440e-aada-93b2a6bc2794"
      },
      "execution_count": 33,
      "outputs": [
        {
          "output_type": "stream",
          "name": "stderr",
          "text": [
            "/usr/local/lib/python3.7/dist-packages/ipykernel_launcher.py:1: FutureWarning: In a future version of pandas all arguments of DataFrame.drop except for the argument 'labels' will be keyword-only\n",
            "  \"\"\"Entry point for launching an IPython kernel.\n"
          ]
        }
      ]
    },
    {
      "cell_type": "code",
      "source": [
        "df.info()"
      ],
      "metadata": {
        "colab": {
          "base_uri": "https://localhost:8080/"
        },
        "id": "Wj6rdECLgyQh",
        "outputId": "0aaf8abd-f55a-4d1f-cb67-335ac6ef1e4d"
      },
      "execution_count": 34,
      "outputs": [
        {
          "output_type": "stream",
          "name": "stdout",
          "text": [
            "<class 'pandas.core.frame.DataFrame'>\n",
            "Int64Index: 111237 entries, 0 to 112659\n",
            "Data columns (total 27 columns):\n",
            " #   Column                 Non-Null Count   Dtype  \n",
            "---  ------                 --------------   -----  \n",
            " 0   order_id               111237 non-null  float64\n",
            " 1   order_item_id          111237 non-null  float64\n",
            " 2   product_id             111237 non-null  float64\n",
            " 3   seller_id              111237 non-null  float64\n",
            " 4   price                  111237 non-null  float64\n",
            " 5   freight_value          111237 non-null  float64\n",
            " 6   payment_type           111237 non-null  float64\n",
            " 7   payment_installments   111237 non-null  float64\n",
            " 8   payment_value          111237 non-null  float64\n",
            " 9   customer_unique_id     111237 non-null  float64\n",
            " 10  product_category_name  111237 non-null  float64\n",
            " 11  product_weight_g       111237 non-null  float64\n",
            " 12  product_length_cm      111237 non-null  float64\n",
            " 13  product_height_cm      111237 non-null  float64\n",
            " 14  product_width_cm       111237 non-null  float64\n",
            " 15  costumer_lat           111237 non-null  float64\n",
            " 16  costumer_lng           111237 non-null  float64\n",
            " 17  seller_lat             111237 non-null  float64\n",
            " 18  seller_lng             111237 non-null  float64\n",
            " 19  days_to_delivery       111237 non-null  float64\n",
            " 20  early_delivery         111237 non-null  float64\n",
            " 21  day_shipping           111237 non-null  float64\n",
            " 22  month_shipping         111237 non-null  float64\n",
            " 23  year_shipping          111237 non-null  float64\n",
            " 24  day_order_approved     111237 non-null  float64\n",
            " 25  month_order_approved   111237 non-null  float64\n",
            " 26  year_order_approved    111237 non-null  float64\n",
            "dtypes: float64(27)\n",
            "memory usage: 23.8 MB\n"
          ]
        }
      ]
    },
    {
      "cell_type": "code",
      "source": [
        "from google.colab import files\n",
        "df.to_csv('olist_new_df.csv',index=False) \n",
        "files.download('olist_new_df.csv')"
      ],
      "metadata": {
        "colab": {
          "base_uri": "https://localhost:8080/",
          "height": 17
        },
        "id": "-B66D-COhMT3",
        "outputId": "1187b927-15f4-4ada-fe67-27bd2ba56929"
      },
      "execution_count": 35,
      "outputs": [
        {
          "output_type": "display_data",
          "data": {
            "text/plain": [
              "<IPython.core.display.Javascript object>"
            ],
            "application/javascript": [
              "\n",
              "    async function download(id, filename, size) {\n",
              "      if (!google.colab.kernel.accessAllowed) {\n",
              "        return;\n",
              "      }\n",
              "      const div = document.createElement('div');\n",
              "      const label = document.createElement('label');\n",
              "      label.textContent = `Downloading \"${filename}\": `;\n",
              "      div.appendChild(label);\n",
              "      const progress = document.createElement('progress');\n",
              "      progress.max = size;\n",
              "      div.appendChild(progress);\n",
              "      document.body.appendChild(div);\n",
              "\n",
              "      const buffers = [];\n",
              "      let downloaded = 0;\n",
              "\n",
              "      const channel = await google.colab.kernel.comms.open(id);\n",
              "      // Send a message to notify the kernel that we're ready.\n",
              "      channel.send({})\n",
              "\n",
              "      for await (const message of channel.messages) {\n",
              "        // Send a message to notify the kernel that we're ready.\n",
              "        channel.send({})\n",
              "        if (message.buffers) {\n",
              "          for (const buffer of message.buffers) {\n",
              "            buffers.push(buffer);\n",
              "            downloaded += buffer.byteLength;\n",
              "            progress.value = downloaded;\n",
              "          }\n",
              "        }\n",
              "      }\n",
              "      const blob = new Blob(buffers, {type: 'application/binary'});\n",
              "      const a = document.createElement('a');\n",
              "      a.href = window.URL.createObjectURL(blob);\n",
              "      a.download = filename;\n",
              "      div.appendChild(a);\n",
              "      a.click();\n",
              "      div.remove();\n",
              "    }\n",
              "  "
            ]
          },
          "metadata": {}
        },
        {
          "output_type": "display_data",
          "data": {
            "text/plain": [
              "<IPython.core.display.Javascript object>"
            ],
            "application/javascript": [
              "download(\"download_29c72a25-0164-4d27-a2b1-ac2354ff7c21\", \"olist_new_df.csv\", 22650373)"
            ]
          },
          "metadata": {}
        }
      ]
    }
  ],
  "metadata": {
    "colab": {
      "collapsed_sections": [
        "9CBBEBvlC7m9",
        "yiCdhhJI6idF",
        "BdWgrXASGGQb",
        "Klv-unV_LQw0",
        "Y5DCnZIAXuf1",
        "Q6sHsscyZfKE",
        "HeJj91HuKBUL",
        "niZKTovuMoj1",
        "Y7LsumrdNIg4",
        "v9bpoPvENKvi",
        "qVJ36tSTN9TR",
        "YqBpB3j8Ns6o",
        "e7z6QYwSOsKI",
        "Em0JH_ZEOWr4",
        "4KVx6TkwO3cg"
      ],
      "name": "7-separating_date.ipynb",
      "provenance": []
    },
    "kernelspec": {
      "display_name": "Python 3",
      "name": "python3"
    },
    "language_info": {
      "name": "python"
    }
  },
  "nbformat": 4,
  "nbformat_minor": 0
}