{
 "cells": [
  {
   "cell_type": "code",
   "execution_count": 2,
   "source": [
    "import dask.dataframe as dd\n",
    "df = dd.read_csv('olist_geolocated_transactions.csv')"
   ],
   "outputs": [],
   "metadata": {}
  },
  {
   "cell_type": "code",
   "execution_count": null,
   "source": [
    "#import dash\n",
    "#import dash_core_components as dcc\n",
    "#from dash import dcc\n",
    "\n",
    "#import dash_html_components as html\n",
    "#from dash import html \n",
    "\n",
    "#import plotly.graph_objects as go"
   ],
   "outputs": [],
   "metadata": {}
  },
  {
   "cell_type": "code",
   "execution_count": null,
   "source": [
    "#fig = go.Figure(data=go.Scattergeo(\n",
    "#    lon=df['seller_lat'],\n",
    "#    lat=df['seller_lng'],\n",
    "#    text=df['order_id'],\n",
    "#    mode='markers',\n",
    "#    marker_color=df['price']\n",
    "#))\n",
    "\n",
    "#fig.update_layout(\n",
    "#    geo_scope='south america'\n",
    "#)"
   ],
   "outputs": [],
   "metadata": {}
  },
  {
   "cell_type": "code",
   "execution_count": null,
   "source": [
    "#app = dash.Dash(__name__)\n",
    "#app.layout = html.Div(children=[\n",
    "#    html.H1(children='Eccomerce prices '),\n",
    "\n",
    "#    dcc.Graph(\n",
    "#        id='example-map',\n",
    "#        figure=fig\n",
    "#    )\n",
    "#])\n",
    "\n",
    "#if __name__ == '__main__':\n",
    "#    app.run_server(debug=True)"
   ],
   "outputs": [],
   "metadata": {}
  },
  {
   "cell_type": "code",
   "execution_count": null,
   "source": [
    "#import plotly.graph_objects as go\n",
    "#from dash import Dash, dcc, html, Input, Output  # pip install dash (version 2.0.0 or higher)\n",
    "\n",
    "#app = Dash(__name__)"
   ],
   "outputs": [],
   "metadata": {}
  },
  {
   "cell_type": "code",
   "execution_count": null,
   "source": [
    "# App layout\n",
    "#app.layout = html.Div([\n",
    "\n",
    "#    html.H1(\"Prices\", style={'text-align': 'center'}),\n",
    "\n",
    "#    dcc.Dropdown(id=\"slct_type\",\n",
    "#                 options=[\n",
    "#                     {\"label\": \"Credit card\", \"label\": \"credit_card\"},\n",
    "#                     {\"label\": \"Boleto\", \"label\": \"credit_card\"}],\n",
    "#                 multi=False,\n",
    "#                 #value=credit_card,\n",
    "#                 style={'width': \"40%\"}\n",
    "#                ),\n",
    "\n",
    "#    html.Div(id='output_container', children=[]),\n",
    "#    html.Br(),\n",
    "\n",
    "#    dcc.Graph(id='my_bee_map', figure={})\n",
    "\n",
    "#])"
   ],
   "outputs": [],
   "metadata": {}
  },
  {
   "cell_type": "code",
   "execution_count": null,
   "source": [
    "#if __name__ == '__main__':\n",
    "#    app.run_server(debug=True)"
   ],
   "outputs": [],
   "metadata": {}
  },
  {
   "cell_type": "code",
   "execution_count": 3,
   "source": [
    "import dash \n",
    "import dash_core_components as dcc\n",
    "from dash import dcc\n",
    "import dash_html_components as html\n",
    "from dash import html\n",
    "import numpy as np\n",
    "\n",
    "import dash_table\n"
   ],
   "outputs": [],
   "metadata": {}
  },
  {
   "cell_type": "code",
   "execution_count": 6,
   "source": [
    "app = dash.Dash(external_stylesheets=['https://codepen.io/amyoshino/pen/jzXypZ.css'])\n",
    "\n",
    "app.title = 'MapBox Map'\n",
    "\n",
    "# API keys and datasets\n",
    "mapbox_access_token = 'pk.eyJ1Ijoia2FtYXJpbnMiLCJhIjoiY2tzZjh4NTR3MThneDJ0bjV1bjFqZjM4dCJ9.QPme7BE02LEdDvEXwmEXOQ'\n",
    "\n",
    "# Find Lat Long center\n",
    "lat_center = sum(df['costumer_lat'])/len(df['costumer_lat'])\n",
    "long_center = sum(df['costumer_long'])/len(df['costumer_long'])\n",
    "\n",
    "layout_map = dict(\n",
    "    autosize=True,\n",
    "    height=500,\n",
    "    weidth=100,\n",
    "    font=dict(color=\"#191A1A\"),\n",
    "    titlefont=dict(color=\"#191A1A\", size='14'),\n",
    "    margin=dict(\n",
    "        l=0,\n",
    "        r=0,\n",
    "        b=0,\n",
    "        t=0\n",
    "    ),\n",
    "    hovermode=\"closest\",\n",
    "    plot_bgcolor='#fffcfc',\n",
    "    paper_bgcolor='#fffcfc',\n",
    "    legend=dict(font=dict(size=10), orientation='h'),\n",
    "    mapbox=dict(\n",
    "        accesstoken=mapbox_access_token,\n",
    "        style=\"outdoors\",\n",
    "        center=dict(\n",
    "            lon = long_center,\n",
    "            lat = lat_center\n",
    "        ),\n",
    "        zoom=2,\n",
    "    )\n",
    ")\n",
    "\n",
    "app.layout = html.Div(\n",
    "    html.Div([\n",
    "        html.Div([\n",
    "            html.H1(children='Plot Lat Long using Mapbox in Dash'),\n",
    "\n",
    "            html.H6(children='''\n",
    "                Plotting all airports in map using respective lat long value\n",
    "            '''),\n",
    "   html.Div(id='my-div'),\n",
    "        ], className = 'row'),\n",
    "\n",
    "        html.Br(),\n",
    "\n",
    "        html.Div([\n",
    "            html.Div([\n",
    "        dash_table.DataTable(\n",
    "                        id='table',\n",
    "                        columns=[{\"name\": i, \"id\": i} for i in df1.columns],\n",
    "                        data=df1.loc[:14,].to_dict('records'),\n",
    "                    ),\n",
    "            ], className = 'six columns'),\n",
    "    \n",
    "\n",
    "\n",
    "            html.Div([\n",
    "    dcc.Graph(\n",
    "     id='MapPlot',\n",
    "      figure={\n",
    "       \"data\": [{\n",
    "        \"type\": \"scattermapbox\",\n",
    "        \"lat\": list(df.costumer_lat),\n",
    "        \"lon\": list(df.costumer_long),\n",
    "        \"hoverinfo\": \"text\",\n",
    "        \"hovertext\": [[\"\"\" Lat: {}\n",
    "                        Long: {} \n",
    "        Count: {}\".format(i,j,k)]\n",
    "            for i,j,k in zip(df['costumer_lat'], df['costumer_long'],df['price'])],\n",
    "        \"mode\": \"markers\",\n",
    "        \"name\": list(df['costumer_state']),\n",
    "        \"marker\": {\n",
    "         \"size\": 15,\n",
    "         \"opacity\": 0.7,\n",
    "         \"color\": '#F70F0F'\n",
    "        }\n",
    "       }\"\"\"],\n",
    "       \"layout\": layout_map\n",
    "      }\n",
    "    ),\n",
    "            ], className = 'six columns')\n",
    "        ], className = 'row')\n",
    "\n",
    "    ])\n",
    ")\n",
    "\n",
    "if __name__ == '__main__':\n",
    "    app.run_server(debug=False)"
   ],
   "outputs": [
    {
     "output_type": "error",
     "ename": "SyntaxError",
     "evalue": "invalid syntax (<ipython-input-6-0372178c2281>, line 84)",
     "traceback": [
      "\u001b[0;36m  File \u001b[0;32m\"<ipython-input-6-0372178c2281>\"\u001b[0;36m, line \u001b[0;32m84\u001b[0m\n\u001b[0;31m    \"layout\": layout_map\u001b[0m\n\u001b[0m            ^\u001b[0m\n\u001b[0;31mSyntaxError\u001b[0m\u001b[0;31m:\u001b[0m invalid syntax\n"
     ]
    }
   ],
   "metadata": {}
  }
 ],
 "metadata": {
  "orig_nbformat": 4,
  "language_info": {
   "name": "python",
   "version": "3.8.10",
   "mimetype": "text/x-python",
   "codemirror_mode": {
    "name": "ipython",
    "version": 3
   },
   "pygments_lexer": "ipython3",
   "nbconvert_exporter": "python",
   "file_extension": ".py"
  },
  "kernelspec": {
   "name": "python3",
   "display_name": "Python 3.8.10 64-bit"
  },
  "interpreter": {
   "hash": "31f2aee4e71d21fbe5cf8b01ff0e069b9275f58929596ceb00d14d90e3e16cd6"
  }
 },
 "nbformat": 4,
 "nbformat_minor": 2
}